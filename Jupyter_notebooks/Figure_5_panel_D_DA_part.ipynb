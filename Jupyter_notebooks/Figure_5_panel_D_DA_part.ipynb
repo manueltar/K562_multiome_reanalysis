{
 "cells": [
  {
   "cell_type": "markdown",
   "id": "6aa90505-d963-4f35-be51-e57a2b285ffa",
   "metadata": {},
   "source": [
    "# Load packages and libraries"
   ]
  },
  {
   "cell_type": "code",
   "execution_count": 46,
   "id": "abcc97a1-28a1-4588-939d-0adc2b54439d",
   "metadata": {
    "execution": {
     "iopub.execute_input": "2025-06-13T16:32:25.552538Z",
     "iopub.status.busy": "2025-06-13T16:32:25.551330Z",
     "iopub.status.idle": "2025-06-13T16:32:29.166151Z",
     "shell.execute_reply": "2025-06-13T16:32:29.164659Z"
    },
    "vscode": {
     "languageId": "r"
    }
   },
   "outputs": [
    {
     "data": {
      "text/html": [
       "'/home/manuel.tardaguila/conda_envs/multiome_NEW_downstream_analysis/lib/R/library'"
      ],
      "text/latex": [
       "'/home/manuel.tardaguila/conda\\_envs/multiome\\_NEW\\_downstream\\_analysis/lib/R/library'"
      ],
      "text/markdown": [
       "'/home/manuel.tardaguila/conda_envs/multiome_NEW_downstream_analysis/lib/R/library'"
      ],
      "text/plain": [
       "[1] \"/home/manuel.tardaguila/conda_envs/multiome_NEW_downstream_analysis/lib/R/library\""
      ]
     },
     "metadata": {},
     "output_type": "display_data"
    },
    {
     "data": {
      "text/html": [
       "'/home/manuel.tardaguila/conda_envs/multiome_NEW_downstream_analysis/lib/R/library'"
      ],
      "text/latex": [
       "'/home/manuel.tardaguila/conda\\_envs/multiome\\_NEW\\_downstream\\_analysis/lib/R/library'"
      ],
      "text/markdown": [
       "'/home/manuel.tardaguila/conda_envs/multiome_NEW_downstream_analysis/lib/R/library'"
      ],
      "text/plain": [
       "[1] \"/home/manuel.tardaguila/conda_envs/multiome_NEW_downstream_analysis/lib/R/library\""
      ]
     },
     "metadata": {},
     "output_type": "display_data"
    }
   ],
   "source": [
    ".libPaths()\n",
    "assign(\".lib.loc\", \"/home/manuel.tardaguila/conda_envs/multiome_NEW_downstream_analysis/lib/R/library\", envir = environment(.libPaths))\n",
    ".libPaths()\n",
    "# sessionInfo()\n",
    "\n",
    "\n",
    "suppressMessages(library(dplyr)) \n",
    "suppressMessages(library(ggplot2)) \n",
    "suppressMessages(library(Matrix)) \n",
    "suppressMessages(library(data.table)) \n",
    "suppressMessages(library(ggpubr)) \n",
    "suppressMessages(library(ggplot2))\n",
    "suppressMessages(library(pheatmap))\n",
    "suppressMessages(library(\"cowplot\"))\n",
    "suppressMessages(library(\"RColorBrewer\"))\n",
    "suppressMessages(library(\"plyr\"))\n",
    "suppressMessages(library(\"forcats\"))\n",
    "suppressMessages(library('ggeasy'))\n",
    "suppressMessages(library('dplyr'))\n",
    "suppressMessages(library(\"svglite\"))\n",
    "suppressMessages(library(\"ape\"))\n",
    "suppressMessages(library(\"ggforce\"))\n",
    "suppressMessages(library(\"tidyr\"))\n",
    "suppressMessages(library(\"tibble\")) \n",
    "library(\"ggrepel\")\n",
    "\n",
    "library(\"optparse\")\n",
    "suppressMessages(library(\"splitstackshape\")) \n",
    "suppressMessages(library(\"ggupset\"))\n",
    "\n",
    "suppressMessages(library(\"BiocGenerics\"))\n",
    "suppressMessages(library(\"S4Vectors\"))\n",
    "suppressMessages(library(\"IRanges\"))\n",
    "suppressMessages(library(\"GenomeInfoDb\"))\n",
    "suppressMessages(library(\"GenomicRanges\"))\n"
   ]
  },
  {
   "cell_type": "markdown",
   "id": "862a5efe-7465-4bfe-9ad6-0f6205a89f5c",
   "metadata": {},
   "source": [
    "# Read DE results"
   ]
  },
  {
   "cell_type": "code",
   "execution_count": 2,
   "id": "d382728b-67ab-4eba-b48e-664d47fd9a10",
   "metadata": {
    "execution": {
     "iopub.execute_input": "2025-06-13T16:06:07.416647Z",
     "iopub.status.busy": "2025-06-13T16:06:07.392739Z",
     "iopub.status.idle": "2025-06-13T16:06:07.427995Z",
     "shell.execute_reply": "2025-06-13T16:06:07.426832Z"
    },
    "vscode": {
     "languageId": "r"
    }
   },
   "outputs": [],
   "source": [
    "setwd(\"/group/soranzo/manuel.tardaguila/2025_K562_multiome_reanalysis/Downstream_analysis/DE_per_cluster/\")"
   ]
  },
  {
   "cell_type": "code",
   "execution_count": 3,
   "id": "d76aa8d2-01fc-4d8b-9706-ec5784b3d36b",
   "metadata": {
    "execution": {
     "iopub.execute_input": "2025-06-13T16:06:07.430851Z",
     "iopub.status.busy": "2025-06-13T16:06:07.429888Z",
     "iopub.status.idle": "2025-06-13T16:06:08.098375Z",
     "shell.execute_reply": "2025-06-13T16:06:08.097146Z"
    },
    "vscode": {
     "languageId": "r"
    }
   },
   "outputs": [
    {
     "name": "stdout",
     "output_type": "stream",
     "text": [
      "DE_results_0\n",
      "'data.frame':\t322320 obs. of  10 variables:\n",
      " $ gene          : chr  \"PURPL\" \"GNB1\" \"RER1\" \"RPL22\" ...\n",
      " $ baseMean      : num  9.2 5.98 6.08 11.84 32.94 ...\n",
      " $ log2FoldChange: num  8.62e-06 -2.07e-06 1.73e-06 -4.44e-06 -3.18e-06 ...\n",
      " $ lfcSE         : num  0.00144 0.00144 0.00144 0.00144 0.00144 ...\n",
      " $ pvalue        : num  9.88e-06 3.22e-01 4.99e-01 1.12e-01 2.55e-01 ...\n",
      " $ padj          : num  0.0159 0.9976 0.9976 0.9976 0.9976 ...\n",
      " $ contrast      : Ord.factor w/ 5 levels \"Genotype_rs139141690_HET_vs_wt\"<..: 1 1 1 1 1 1 1 1 1 1 ...\n",
      " $ identity      : Ord.factor w/ 13 levels \"1\"<\"2\"<\"3\"<\"4\"<..: 13 13 13 13 13 13 13 13 13 13 ...\n",
      " $ minuslog10padj: num  1.79762 0.00104 0.00104 0.00104 0.00104 ...\n",
      " $ abslogfc      : num  8.62e-06 2.07e-06 1.73e-06 4.44e-06 3.18e-06 ...\n",
      "\n"
     ]
    }
   ],
   "source": [
    "DE_results<-readRDS(file=\"DE_results_Diff_K562.rds\")\n",
    "\n",
    "cat(\"DE_results_0\\n\")\n",
    "cat(str(DE_results))\n",
    "cat(\"\\n\")\n",
    "\n"
   ]
  },
  {
   "cell_type": "markdown",
   "id": "b4a8efc0-ebb8-4b25-a6ef-83be3d0fbf24",
   "metadata": {},
   "source": [
    "# Read ORA annotations"
   ]
  },
  {
   "cell_type": "code",
   "execution_count": 4,
   "id": "16956f7b-f30d-49bd-933e-59e88f9e772b",
   "metadata": {
    "execution": {
     "iopub.execute_input": "2025-06-13T16:06:08.101152Z",
     "iopub.status.busy": "2025-06-13T16:06:08.100187Z",
     "iopub.status.idle": "2025-06-13T16:06:08.109808Z",
     "shell.execute_reply": "2025-06-13T16:06:08.108717Z"
    },
    "vscode": {
     "languageId": "r"
    }
   },
   "outputs": [],
   "source": [
    "setwd(\"/group/soranzo/manuel.tardaguila/2025_K562_multiome_reanalysis/Downstream_analysis/DE_per_cluster/\")"
   ]
  },
  {
   "cell_type": "code",
   "execution_count": 5,
   "id": "25db352f-aa00-45ec-a939-576e1598460e",
   "metadata": {
    "execution": {
     "iopub.execute_input": "2025-06-13T16:06:08.112561Z",
     "iopub.status.busy": "2025-06-13T16:06:08.111605Z",
     "iopub.status.idle": "2025-06-13T16:06:08.249291Z",
     "shell.execute_reply": "2025-06-13T16:06:08.248102Z"
    },
    "vscode": {
     "languageId": "r"
    }
   },
   "outputs": [
    {
     "name": "stdout",
     "output_type": "stream",
     "text": [
      "annotation_file_0\n",
      "'data.frame':\t1914 obs. of  5 variables:\n",
      " $ gene         : chr  \"10006\" \"10006\" \"100133941\" \"10049\" ...\n",
      " $ identity     : int  3 1 1 1 3 3 1 3 1 3 ...\n",
      " $ diffexpressed: chr  \"UP\" \"UP\" \"DOWN\" \"DOWN\" ...\n",
      " $ other        : chr  \"TRAVAGLINI_LUNG_PLATELET_MEGAKARYOCYTE_CELL\" \"TRAVAGLINI_LUNG_PLATELET_MEGAKARYOCYTE_CELL\" \"DUNNE_TARGETS_OF_AML1_MTG8_FUSION_UP|GSE10325_BCELL_VS_MYELOID_UP\" \"TRAVAGLINI_LUNG_PLATELET_MEGAKARYOCYTE_CELL\" ...\n",
      " $ TF_targets   : chr  NA NA NA NA ...\n",
      "\n"
     ]
    },
    {
     "name": "stderr",
     "output_type": "stream",
     "text": [
      "Warning message in type.convert.default(unlist(x, use.names = FALSE)):\n",
      "“'as.is' should be specified by the caller; using TRUE”\n"
     ]
    },
    {
     "name": "stdout",
     "output_type": "stream",
     "text": [
      "annotation_file_long_0\n",
      "'data.frame':\t2533 obs. of  5 variables:\n",
      " $ gene         : chr  \"A2M\" \"A2M\" \"ABCA8\" \"ABCB1\" ...\n",
      " $ identity     : int  3 3 3 7 7 3 4 3 1 3 ...\n",
      " $ diffexpressed: chr  \"UP\" \"UP\" \"UP\" \"DOWN\" ...\n",
      " $ other        : chr  \"GOCC_PLATELET_ALPHA_GRANULE\" \"GOCC_PLATELET_ALPHA_GRANULE_LUMEN\" NA \"In-house Aged vs Young HSC\" ...\n",
      " $ TF_targets   : chr  NA NA \"Dorothea_ABC_GATA2_targets\" NA ...\n",
      "\n"
     ]
    }
   ],
   "source": [
    "annotation_file<-read.table(file=\"genes_ORA_annotated_Diff_K562.tsv\", sep=\"\\t\", header=T)\n",
    "\n",
    "cat(\"annotation_file_0\\n\")\n",
    "cat(str(annotation_file))\n",
    "cat(\"\\n\")\n",
    "\n",
    "\n",
    "annotation_file_gene_names<-annotation_file[-grep(\"^[0-9]+$\",annotation_file$gene),]\n",
    "\n",
    "annotation_file_long<-unique(as.data.frame(cSplit(annotation_file_gene_names,sep = '|', direction = \"long\",\n",
    "                                                    splitCols = \"other\"),stringsAsFactors=F))\n",
    "  \n",
    "cat(\"annotation_file_long_0\\n\")\n",
    "cat(str(annotation_file_long))\n",
    "cat(\"\\n\")"
   ]
  },
  {
   "cell_type": "code",
   "execution_count": 6,
   "id": "11927148-6f65-41ae-9897-5f6d525aad94",
   "metadata": {
    "execution": {
     "iopub.execute_input": "2025-06-13T16:06:08.251954Z",
     "iopub.status.busy": "2025-06-13T16:06:08.251028Z",
     "iopub.status.idle": "2025-06-13T16:06:08.262563Z",
     "shell.execute_reply": "2025-06-13T16:06:08.261395Z"
    }
   },
   "outputs": [
    {
     "data": {
      "text/html": [
       "741"
      ],
      "text/latex": [
       "741"
      ],
      "text/markdown": [
       "741"
      ],
      "text/plain": [
       "[1] 741"
      ]
     },
     "metadata": {},
     "output_type": "display_data"
    }
   ],
   "source": [
    "length(grep(\"^[0-9]+$\",annotation_file$gene))"
   ]
  },
  {
   "cell_type": "markdown",
   "id": "1678027f-7619-4be8-8eac-0ce54f7398cf",
   "metadata": {},
   "source": [
    "# Selected annotations"
   ]
  },
  {
   "cell_type": "code",
   "execution_count": 7,
   "id": "e6c0a9d2-17f9-402f-887f-b4eb65897f8e",
   "metadata": {
    "execution": {
     "iopub.execute_input": "2025-06-13T16:06:08.265145Z",
     "iopub.status.busy": "2025-06-13T16:06:08.264230Z",
     "iopub.status.idle": "2025-06-13T16:06:08.272668Z",
     "shell.execute_reply": "2025-06-13T16:06:08.271543Z"
    }
   },
   "outputs": [],
   "source": [
    "#WP_PI3KAKT_SIGNALING"
   ]
  },
  {
   "cell_type": "code",
   "execution_count": 8,
   "id": "e0392c2b-fd89-461f-b539-af07074ef747",
   "metadata": {
    "execution": {
     "iopub.execute_input": "2025-06-13T16:06:08.275279Z",
     "iopub.status.busy": "2025-06-13T16:06:08.274364Z",
     "iopub.status.idle": "2025-06-13T16:06:08.283308Z",
     "shell.execute_reply": "2025-06-13T16:06:08.282220Z"
    }
   },
   "outputs": [],
   "source": [
    "annotations<-c(\"GOBP_MEGAKARYOCYTE_DIFFERENTIATION\",\"HP_ABNORMAL_PLATELET_VOLUME\",\"HP_INCREASED_MEAN_PLATELET_VOLUME\",\"AKT_UP_MTOR_DN.V1_UP\",\"WP_PI3KAKT_SIGNALING\")"
   ]
  },
  {
   "cell_type": "code",
   "execution_count": 9,
   "id": "b03e60f1-1c78-4208-8f6b-6072237d79fb",
   "metadata": {
    "execution": {
     "iopub.execute_input": "2025-06-13T16:06:08.285981Z",
     "iopub.status.busy": "2025-06-13T16:06:08.285047Z",
     "iopub.status.idle": "2025-06-13T16:06:08.319418Z",
     "shell.execute_reply": "2025-06-13T16:06:08.318277Z"
    }
   },
   "outputs": [
    {
     "name": "stdout",
     "output_type": "stream",
     "text": [
      "annotation_file_long_sel_0\n",
      "'data.frame':\t71 obs. of  5 variables:\n",
      " $ gene         : chr  \"ABI1\" \"ABI1\" \"ACTB\" \"ACTB\" ...\n",
      " $ identity     : int  3 1 1 1 3 1 3 1 7 4 ...\n",
      " $ diffexpressed: chr  \"UP\" \"UP\" \"DOWN\" \"DOWN\" ...\n",
      " $ other        : chr  \"GOBP_MEGAKARYOCYTE_DIFFERENTIATION\" \"GOBP_MEGAKARYOCYTE_DIFFERENTIATION\" \"HP_ABNORMAL_PLATELET_VOLUME\" \"HP_INCREASED_MEAN_PLATELET_VOLUME\" ...\n",
      " $ TF_targets   : chr  \"PU1_Q6|RGAGGAARY_PU1_Q6\" \"PU1_Q6|RGAGGAARY_PU1_Q6\" \"Dorothea_ABCDE_CUX1_targets|Dorothea_ABCD_CUX1_targets\" \"Dorothea_ABCDE_CUX1_targets|Dorothea_ABCD_CUX1_targets\" ...\n",
      "\n",
      " chr [1:43] \"ABI1\" \"ACTB\" \"ADAM10\" \"ANGPT1\" \"ARRDC4\" \"ATF3\" \"C3orf52\" ...\n",
      "\n",
      "ABI1 ACTB ADAM10 ANGPT1 ARRDC4 ATF3 C3orf52 CD55 CIR1 DHCR24 DIAPH1 FGF13 FLNA FOXO3 FYB1 GFI1B GUSB HOXB3 IL1R1 ITGA2B KIT LAMA2 MAPK1 MEF2C MEIS1 MYB PIK3CA PIP4K2A PKN2 PLAGL1 PPP2R3A RBL2 SGPL1 SH2B3 SLC44A1 SLC6A6 SOS1 SUCO TOR3A TPM4 TUBB1 WASF2 ZFPM1\n",
      "\n",
      "GOBP_MEGAKARYOCYTE_DIFFERENTIATION HP_ABNORMAL_PLATELET_VOLUME HP_INCREASED_MEAN_PLATELET_VOLUME AKT_UP_MTOR_DN.V1_UP WP_PI3KAKT_SIGNALING\n"
     ]
    }
   ],
   "source": [
    "annotation_file_long_sel<-annotation_file_long[grep(paste(annotations, collapse=\"|\"), annotation_file_long$other),]\n",
    "\n",
    "cat(\"annotation_file_long_sel_0\\n\")\n",
    "cat(str(annotation_file_long_sel))\n",
    "cat(\"\\n\")\n",
    "cat(str(unique(annotation_file_long_sel$gene)))\n",
    "cat(\"\\n\")\n",
    "\n",
    "cat(sprintf(as.character(unique(annotation_file_long_sel$gene))))\n",
    "cat(\"\\n\")\n",
    "cat(\"\\n\")\n",
    "\n",
    "cat(sprintf(as.character(unique(annotation_file_long_sel$other))))\n",
    "cat(\"\\n\")\n"
   ]
  },
  {
   "cell_type": "code",
   "execution_count": 10,
   "id": "e6ea935b-9904-4d06-ae64-3c74d40d6428",
   "metadata": {
    "execution": {
     "iopub.execute_input": "2025-06-13T16:06:08.322080Z",
     "iopub.status.busy": "2025-06-13T16:06:08.321126Z",
     "iopub.status.idle": "2025-06-13T16:06:08.390049Z",
     "shell.execute_reply": "2025-06-13T16:06:08.388900Z"
    }
   },
   "outputs": [
    {
     "name": "stdout",
     "output_type": "stream",
     "text": [
      "annotation_file_long_sel_for_collapse_0\n",
      "'data.frame':\t50 obs. of  2 variables:\n",
      " $ gene : chr  \"ABI1\" \"ACTB\" \"ACTB\" \"ADAM10\" ...\n",
      " $ other: chr  \"GOBP_MEGAKARYOCYTE_DIFFERENTIATION\" \"HP_ABNORMAL_PLATELET_VOLUME\" \"HP_INCREASED_MEAN_PLATELET_VOLUME\" \"AKT_UP_MTOR_DN.V1_UP\" ...\n",
      "\n"
     ]
    }
   ],
   "source": [
    "annotation_file_long_sel_for_collapse<-unique(annotation_file_long_sel[,which(colnames(annotation_file_long_sel)%in%c('gene','other'))])\n",
    "\n",
    "annotation_file_long_sel_for_collapse<-annotation_file_long_sel_for_collapse[order(annotation_file_long_sel_for_collapse$gene, annotation_file_long_sel_for_collapse$other),]\n",
    "\n",
    "cat(\"annotation_file_long_sel_for_collapse_0\\n\")\n",
    "cat(str(annotation_file_long_sel_for_collapse))\n",
    "cat(\"\\n\")"
   ]
  },
  {
   "cell_type": "code",
   "execution_count": 11,
   "id": "c4e67e11-929d-4370-8094-ffec1852931f",
   "metadata": {
    "execution": {
     "iopub.execute_input": "2025-06-13T16:06:08.392700Z",
     "iopub.status.busy": "2025-06-13T16:06:08.391758Z",
     "iopub.status.idle": "2025-06-13T16:06:08.419395Z",
     "shell.execute_reply": "2025-06-13T16:06:08.418265Z"
    }
   },
   "outputs": [
    {
     "name": "stdout",
     "output_type": "stream",
     "text": [
      "annotation_file_sel_collapsed_0\n",
      "'data.frame':\t43 obs. of  2 variables:\n",
      " $ gene        : chr  \"ABI1\" \"ACTB\" \"ADAM10\" \"ANGPT1\" ...\n",
      " $ other_string: chr  \"GOBP_MEGAKARYOCYTE_DIFFERENTIATION\" \"HP_ABNORMAL_PLATELET_VOLUME|HP_INCREASED_MEAN_PLATELET_VOLUME\" \"AKT_UP_MTOR_DN.V1_UP\" \"WP_PI3KAKT_SIGNALING\" ...\n",
      "\n",
      "AKT_UP_MTOR_DN.V1_UP GOBP_MEGAKARYOCYTE_DIFFERENTIATION HP_ABNORMAL_PLATELET_VOLUME HP_ABNORMAL_PLATELET_VOLUME|HP_INCREASED_MEAN_PLATELET_VOLUME WP_PI3KAKT_SIGNALING\n",
      "16 9 1 7 10\n"
     ]
    }
   ],
   "source": [
    "annotation_file_long_sel_for_collapse.dt<-data.table(annotation_file_long_sel_for_collapse, key='gene')\n",
    "      \n",
    "annotation_file_sel_collapsed<-unique(as.data.frame(annotation_file_long_sel_for_collapse.dt[,.(other_string=paste(other, collapse=\"|\")), by=key(annotation_file_long_sel_for_collapse.dt)], stringsAsFactors=F))\n",
    "\n",
    "\n",
    "\n",
    "cat(\"annotation_file_sel_collapsed_0\\n\")\n",
    "cat(str(annotation_file_sel_collapsed))\n",
    "cat(\"\\n\")\n",
    "cat(names(summary(as.factor(annotation_file_sel_collapsed$other_string))))\n",
    "cat(\"\\n\")\n",
    "cat(summary(as.factor(annotation_file_sel_collapsed$other_string)))\n",
    "cat(\"\\n\")\n",
    "      "
   ]
  },
  {
   "cell_type": "markdown",
   "id": "d09e3e34-4eb8-4d1b-8909-a15a2fde6c21",
   "metadata": {},
   "source": [
    "# Selected genes"
   ]
  },
  {
   "cell_type": "code",
   "execution_count": 12,
   "id": "94f63907-4c08-4e2f-afb8-4832c0b7245f",
   "metadata": {
    "execution": {
     "iopub.execute_input": "2025-06-13T16:06:09.031409Z",
     "iopub.status.busy": "2025-06-13T16:06:09.030456Z",
     "iopub.status.idle": "2025-06-13T16:06:09.048851Z",
     "shell.execute_reply": "2025-06-13T16:06:09.047694Z"
    }
   },
   "outputs": [
    {
     "name": "stdout",
     "output_type": "stream",
     "text": [
      "selected_genes_df_0\n",
      "'data.frame':\t4 obs. of  2 variables:\n",
      " $ gene        : chr  \"CUX1\" \"RUNX1\" \"EZH2\" \"XRCC2\"\n",
      " $ other_string: chr  \"CUX1\" \"RUNX1\" \"EZH2 and targets\" \"EZH2 and targets\"\n",
      "\n"
     ]
    }
   ],
   "source": [
    "genes<-c(\"CUX1\",\"RUNX1\",\"EZH2\",\"XRCC2\")\n",
    "\n",
    "annotation_of_selected_genes<-c(\"CUX1\",\"RUNX1\",rep(\"EZH2 and targets\",2))\n",
    "\n",
    "\n",
    "selected_genes_df<-as.data.frame(cbind(genes,annotation_of_selected_genes))\n",
    "\n",
    "colnames(selected_genes_df)<-c(\"gene\",\"other_string\")\n",
    "\n",
    "cat(\"selected_genes_df_0\\n\")\n",
    "cat(str(selected_genes_df))\n",
    "cat(\"\\n\")"
   ]
  },
  {
   "cell_type": "markdown",
   "id": "3fedff56-0a16-44f9-b699-b710e4e93b44",
   "metadata": {},
   "source": [
    "# Put together and select from DE genes"
   ]
  },
  {
   "cell_type": "code",
   "execution_count": 13,
   "id": "d88acc6b-8c6b-494f-b140-7d6962d0e2ce",
   "metadata": {
    "execution": {
     "iopub.execute_input": "2025-06-13T16:06:10.080488Z",
     "iopub.status.busy": "2025-06-13T16:06:10.079529Z",
     "iopub.status.idle": "2025-06-13T16:06:10.099416Z",
     "shell.execute_reply": "2025-06-13T16:06:10.098247Z"
    }
   },
   "outputs": [
    {
     "name": "stdout",
     "output_type": "stream",
     "text": [
      "REP_genes_0\n",
      "'data.frame':\t47 obs. of  2 variables:\n",
      " $ gene        : chr  \"CUX1\" \"RUNX1\" \"EZH2\" \"XRCC2\" ...\n",
      " $ other_string: chr  \"CUX1\" \"RUNX1\" \"EZH2 and targets\" \"EZH2 and targets\" ...\n",
      "\n",
      " chr [1:47] \"CUX1\" \"RUNX1\" \"EZH2\" \"XRCC2\" \"ABI1\" \"ACTB\" \"ADAM10\" \"ANGPT1\" ...\n",
      "\n"
     ]
    }
   ],
   "source": [
    "REP_genes<-rbind(selected_genes_df,annotation_file_sel_collapsed)\n",
    "\n",
    "cat(\"REP_genes_0\\n\")\n",
    "cat(str(REP_genes))\n",
    "cat(\"\\n\")\n",
    "cat(str(unique(REP_genes$gene)))\n",
    "cat(\"\\n\")"
   ]
  },
  {
   "cell_type": "code",
   "execution_count": 14,
   "id": "21d4fc45-49af-476e-88f6-d60ab21db44d",
   "metadata": {
    "execution": {
     "iopub.execute_input": "2025-06-13T16:06:10.349137Z",
     "iopub.status.busy": "2025-06-13T16:06:10.348172Z",
     "iopub.status.idle": "2025-06-13T16:06:10.504841Z",
     "shell.execute_reply": "2025-06-13T16:06:10.358124Z"
    }
   },
   "outputs": [
    {
     "name": "stdout",
     "output_type": "stream",
     "text": [
      "'data.frame':\t47 obs. of  2 variables:\n",
      " $ gene        : chr  \"CUX1\" \"RUNX1\" \"EZH2\" \"XRCC2\" ...\n",
      " $ other_string: chr  \"CUX1\" \"RUNX1\" \"EZH2 and targets\" \"EZH2 and targets\" ...\n"
     ]
    }
   ],
   "source": [
    "str(REP_genes)"
   ]
  },
  {
   "cell_type": "code",
   "execution_count": 15,
   "id": "ad2d21df-9715-4a27-9da2-f011abc9c4d3",
   "metadata": {
    "execution": {
     "iopub.execute_input": "2025-06-13T16:06:10.666922Z",
     "iopub.status.busy": "2025-06-13T16:06:10.666035Z",
     "iopub.status.idle": "2025-06-13T16:06:10.677384Z",
     "shell.execute_reply": "2025-06-13T16:06:10.676313Z"
    }
   },
   "outputs": [
    {
     "data": {
      "text/html": [
       "<style>\n",
       ".list-inline {list-style: none; margin:0; padding: 0}\n",
       ".list-inline>li {display: inline-block}\n",
       ".list-inline>li:not(:last-child)::after {content: \"\\00b7\"; padding: 0 .5ex}\n",
       "</style>\n",
       "<ol class=list-inline><li>'AKT_UP_MTOR_DN.V1_UP'</li><li>'CUX1'</li><li>'EZH2 and targets'</li><li>'GOBP_MEGAKARYOCYTE_DIFFERENTIATION'</li><li>'HP_ABNORMAL_PLATELET_VOLUME'</li><li>'HP_ABNORMAL_PLATELET_VOLUME|HP_INCREASED_MEAN_PLATELET_VOLUME'</li><li>'RUNX1'</li><li>'WP_PI3KAKT_SIGNALING'</li></ol>\n"
      ],
      "text/latex": [
       "\\begin{enumerate*}\n",
       "\\item 'AKT\\_UP\\_MTOR\\_DN.V1\\_UP'\n",
       "\\item 'CUX1'\n",
       "\\item 'EZH2 and targets'\n",
       "\\item 'GOBP\\_MEGAKARYOCYTE\\_DIFFERENTIATION'\n",
       "\\item 'HP\\_ABNORMAL\\_PLATELET\\_VOLUME'\n",
       "\\item 'HP\\_ABNORMAL\\_PLATELET\\_VOLUME\\textbar{}HP\\_INCREASED\\_MEAN\\_PLATELET\\_VOLUME'\n",
       "\\item 'RUNX1'\n",
       "\\item 'WP\\_PI3KAKT\\_SIGNALING'\n",
       "\\end{enumerate*}\n"
      ],
      "text/markdown": [
       "1. 'AKT_UP_MTOR_DN.V1_UP'\n",
       "2. 'CUX1'\n",
       "3. 'EZH2 and targets'\n",
       "4. 'GOBP_MEGAKARYOCYTE_DIFFERENTIATION'\n",
       "5. 'HP_ABNORMAL_PLATELET_VOLUME'\n",
       "6. 'HP_ABNORMAL_PLATELET_VOLUME|HP_INCREASED_MEAN_PLATELET_VOLUME'\n",
       "7. 'RUNX1'\n",
       "8. 'WP_PI3KAKT_SIGNALING'\n",
       "\n",
       "\n"
      ],
      "text/plain": [
       "[1] \"AKT_UP_MTOR_DN.V1_UP\"                                         \n",
       "[2] \"CUX1\"                                                         \n",
       "[3] \"EZH2 and targets\"                                             \n",
       "[4] \"GOBP_MEGAKARYOCYTE_DIFFERENTIATION\"                           \n",
       "[5] \"HP_ABNORMAL_PLATELET_VOLUME\"                                  \n",
       "[6] \"HP_ABNORMAL_PLATELET_VOLUME|HP_INCREASED_MEAN_PLATELET_VOLUME\"\n",
       "[7] \"RUNX1\"                                                        \n",
       "[8] \"WP_PI3KAKT_SIGNALING\"                                         "
      ]
     },
     "metadata": {},
     "output_type": "display_data"
    }
   ],
   "source": [
    "names(summary(as.factor(REP_genes$other_string)))"
   ]
  },
  {
   "cell_type": "code",
   "execution_count": 16,
   "id": "7e48ab6f-8f33-4b3b-bad3-5bcae6a541b4",
   "metadata": {
    "execution": {
     "iopub.execute_input": "2025-06-13T16:06:11.299627Z",
     "iopub.status.busy": "2025-06-13T16:06:11.298613Z",
     "iopub.status.idle": "2025-06-13T16:06:11.308136Z",
     "shell.execute_reply": "2025-06-13T16:06:11.307055Z"
    }
   },
   "outputs": [],
   "source": [
    "REP_genes$Gene_class<-NA"
   ]
  },
  {
   "cell_type": "code",
   "execution_count": 17,
   "id": "f96c70aa-c23c-4b89-9b5d-2df98266ff6a",
   "metadata": {
    "execution": {
     "iopub.execute_input": "2025-06-13T16:06:12.588441Z",
     "iopub.status.busy": "2025-06-13T16:06:12.587500Z",
     "iopub.status.idle": "2025-06-13T16:06:12.596821Z",
     "shell.execute_reply": "2025-06-13T16:06:12.595762Z"
    }
   },
   "outputs": [],
   "source": [
    "REP_genes$Gene_class<-factor(REP_genes$other_string,\n",
    "                            levels=c('CUX1',\n",
    "                                    'RUNX1',\n",
    "                                    'EZH2 and targets',\n",
    "                                    'GOBP_MEGAKARYOCYTE_DIFFERENTIATION',\n",
    "                                    'HP_ABNORMAL_PLATELET_VOLUME',\n",
    "                                    'HP_ABNORMAL_PLATELET_VOLUME|HP_INCREASED_MEAN_PLATELET_VOLUME',\n",
    "                                    'AKT_UP_MTOR_DN.V1_UP',\n",
    "                                    'WP_PI3KAKT_SIGNALING',\n",
    "                                    'AKT_UP_MTOR_DN.V1_UP|WP_PI3KAKT_SIGNALING'),\n",
    "                            ordered=T)"
   ]
  },
  {
   "cell_type": "code",
   "execution_count": 18,
   "id": "32c112da-3e9f-429c-a0ad-f3ef58c98b34",
   "metadata": {
    "execution": {
     "iopub.execute_input": "2025-06-13T16:06:13.566065Z",
     "iopub.status.busy": "2025-06-13T16:06:13.565170Z",
     "iopub.status.idle": "2025-06-13T16:06:13.576381Z",
     "shell.execute_reply": "2025-06-13T16:06:13.575279Z"
    }
   },
   "outputs": [
    {
     "name": "stdout",
     "output_type": "stream",
     "text": [
      "'data.frame':\t47 obs. of  3 variables:\n",
      " $ gene        : chr  \"CUX1\" \"RUNX1\" \"EZH2\" \"XRCC2\" ...\n",
      " $ other_string: chr  \"CUX1\" \"RUNX1\" \"EZH2 and targets\" \"EZH2 and targets\" ...\n",
      " $ Gene_class  : Ord.factor w/ 9 levels \"CUX1\"<\"RUNX1\"<..: 1 2 3 3 4 6 7 8 7 7 ...\n"
     ]
    }
   ],
   "source": [
    "str(REP_genes)"
   ]
  },
  {
   "cell_type": "code",
   "execution_count": 19,
   "id": "dc84c2b4-d243-4592-a10b-ccf1ad7d2855",
   "metadata": {
    "execution": {
     "iopub.execute_input": "2025-06-13T16:06:13.893383Z",
     "iopub.status.busy": "2025-06-13T16:06:13.892529Z",
     "iopub.status.idle": "2025-06-13T16:06:13.932189Z",
     "shell.execute_reply": "2025-06-13T16:06:13.931036Z"
    }
   },
   "outputs": [
    {
     "name": "stdout",
     "output_type": "stream",
     "text": [
      "DE_results_sel_0\n",
      "'data.frame':\t368 obs. of  10 variables:\n",
      " $ gene          : chr  \"PIP4K2A\" \"C3orf52\" \"MEF2C\" \"WASF2\" ...\n",
      " $ baseMean      : num  301.1 6.6 686.9 137.4 33.6 ...\n",
      " $ log2FoldChange: num  0.21776 0.00297 0.0066 0.00122 -0.00421 ...\n",
      " $ lfcSE         : num  0.1375 0.0209 0.022 0.0203 0.0211 ...\n",
      " $ pvalue        : num  0.00255 0.01433 0.02977 0.75244 0.09663 ...\n",
      " $ padj          : num  0.758 0.867 0.986 0.996 0.996 ...\n",
      " $ contrast      : Ord.factor w/ 5 levels \"Genotype_rs139141690_HET_vs_wt\"<..: 1 1 1 1 1 1 1 1 1 1 ...\n",
      " $ identity      : Ord.factor w/ 13 levels \"1\"<\"2\"<\"3\"<\"4\"<..: 3 3 3 3 3 3 3 3 3 3 ...\n",
      " $ minuslog10padj: num  0.1203 0.0618 0.0063 0.0016 0.0016 ...\n",
      " $ abslogfc      : num  0.21776 0.00297 0.0066 0.00122 0.00421 ...\n",
      "\n",
      " chr [1:47] \"PIP4K2A\" \"C3orf52\" \"MEF2C\" \"WASF2\" \"DHCR24\" \"PKN2\" \"SUCO\" ...\n",
      "\n"
     ]
    }
   ],
   "source": [
    "DE_results_sel<-DE_results[which(DE_results$gene%in%REP_genes$gene &\n",
    "                                DE_results$identity%in%c('3','1')),]\n",
    "\n",
    "cat(\"DE_results_sel_0\\n\")\n",
    "cat(str(DE_results_sel))\n",
    "cat(\"\\n\")\n",
    "cat(str(unique(DE_results_sel$gene)))\n",
    "cat(\"\\n\")\n"
   ]
  },
  {
   "cell_type": "markdown",
   "id": "540d148f-16fc-4bbc-b8c0-0586824d4975",
   "metadata": {},
   "source": [
    "# Read Link peaks results"
   ]
  },
  {
   "cell_type": "code",
   "execution_count": 29,
   "id": "ad771a27-a0bd-487e-adfa-f694794a1928",
   "metadata": {
    "execution": {
     "iopub.execute_input": "2025-06-13T16:12:16.050372Z",
     "iopub.status.busy": "2025-06-13T16:12:16.049335Z",
     "iopub.status.idle": "2025-06-13T16:12:16.059206Z",
     "shell.execute_reply": "2025-06-13T16:12:16.058102Z"
    },
    "vscode": {
     "languageId": "r"
    }
   },
   "outputs": [],
   "source": [
    "setwd(\"/group/soranzo/manuel.tardaguila/2025_K562_multiome_reanalysis/Downstream_analysis/DA_per_cluster/\")"
   ]
  },
  {
   "cell_type": "code",
   "execution_count": 30,
   "id": "924b110e-6389-44cb-9c77-86f7eabf32e0",
   "metadata": {
    "execution": {
     "iopub.execute_input": "2025-06-13T16:12:16.399629Z",
     "iopub.status.busy": "2025-06-13T16:12:16.398730Z",
     "iopub.status.idle": "2025-06-13T16:12:16.432682Z",
     "shell.execute_reply": "2025-06-13T16:12:16.431601Z"
    },
    "vscode": {
     "languageId": "r"
    }
   },
   "outputs": [
    {
     "name": "stdout",
     "output_type": "stream",
     "text": [
      "Linked_peaks_to_DE_genes_0\n",
      "'data.frame':\t13046 obs. of  10 variables:\n",
      " $ seqnames: Factor w/ 23 levels \"chr1\",\"chr2\",..: 1 1 1 1 1 1 1 1 1 1 ...\n",
      " $ start   : int  630133 634177 999817 1000172 1000172 1000172 1000172 1000172 1000172 7471179 ...\n",
      " $ end     : int  1000172 1000172 1000172 1001765 1005161 1020625 1069540 1080001 1433593 7943165 ...\n",
      " $ width   : int  370040 365996 356 1594 4990 20454 69369 79830 433422 471987 ...\n",
      " $ strand  : Factor w/ 3 levels \"+\",\"-\",\"*\": 3 3 3 3 3 3 3 3 3 3 ...\n",
      " $ score   : num  0.0615 0.0661 0.1066 0.0573 0.068 ...\n",
      " $ gene    : chr  \"HES4\" \"HES4\" \"HES4\" \"HES4\" ...\n",
      " $ Peak_ID : chr  \"chr1-629563-630703\" \"chr1-633537-634816\" \"chr1-998653-1000980\" \"chr1-1001490-1002040\" ...\n",
      " $ zscore  : num  4.63 4.7 6.6 3.6 4.38 ...\n",
      " $ pvalue  : num  1.80e-06 1.27e-06 1.99e-11 1.57e-04 5.98e-06 ...\n",
      "\n"
     ]
    }
   ],
   "source": [
    "Linked_peaks_to_DE_genes<-readRDS(file=\"Linked_peaks_to_DE_genes.rds\")\n",
    "\n",
    "cat(\"Linked_peaks_to_DE_genes_0\\n\")\n",
    "cat(str(Linked_peaks_to_DE_genes))\n",
    "cat(\"\\n\")\n",
    "\n"
   ]
  },
  {
   "cell_type": "code",
   "execution_count": 33,
   "id": "a29e890c-51d5-4684-9af7-4b60ee33a225",
   "metadata": {
    "execution": {
     "iopub.execute_input": "2025-06-13T16:15:13.855492Z",
     "iopub.status.busy": "2025-06-13T16:15:13.854309Z",
     "iopub.status.idle": "2025-06-13T16:15:13.889062Z",
     "shell.execute_reply": "2025-06-13T16:15:13.887694Z"
    }
   },
   "outputs": [
    {
     "name": "stdout",
     "output_type": "stream",
     "text": [
      "Linked_peaks_to_DE_genes_sel_0\n",
      "'data.frame':\t502 obs. of  10 variables:\n",
      " $ seqnames: Factor w/ 23 levels \"chr1\",\"chr2\",..: 1 1 1 1 1 1 1 1 1 1 ...\n",
      " $ start   : int  172254832 172279896 172287017 172293299 172343586 172441885 172450117 172466536 172532349 172532349 ...\n",
      " $ end     : int  172532349 172532349 172532349 172532349 172532349 172532349 172532349 172532349 172588661 172600768 ...\n",
      " $ width   : int  277518 252454 245333 239051 188764 90465 82233 65814 56313 68420 ...\n",
      " $ strand  : Factor w/ 3 levels \"+\",\"-\",\"*\": 3 3 3 3 3 3 3 3 3 3 ...\n",
      " $ score   : num  0.0802 0.0515 0.065 0.0522 0.0515 ...\n",
      " $ gene    : chr  \"SUCO\" \"SUCO\" \"SUCO\" \"SUCO\" ...\n",
      " $ Peak_ID : chr  \"chr1-172253931-172255732\" \"chr1-172279444-172280348\" \"chr1-172286516-172287517\" \"chr1-172292885-172293713\" ...\n",
      " $ zscore  : num  5.48 3.34 4.03 4.1 3.68 ...\n",
      " $ pvalue  : num  2.08e-08 4.12e-04 2.74e-05 2.08e-05 1.15e-04 ...\n",
      "\n",
      "Linked_peaks_to_DE_genes_sel_subset_0\n",
      "'data.frame':\t502 obs. of  3 variables:\n",
      " $ gene   : chr  \"SUCO\" \"SUCO\" \"SUCO\" \"SUCO\" ...\n",
      " $ Peak_ID: chr  \"chr1-172253931-172255732\" \"chr1-172279444-172280348\" \"chr1-172286516-172287517\" \"chr1-172292885-172293713\" ...\n",
      " $ zscore : num  5.48 3.34 4.03 4.1 3.68 ...\n",
      "\n"
     ]
    }
   ],
   "source": [
    "Linked_peaks_to_DE_genes_sel<-Linked_peaks_to_DE_genes[which(Linked_peaks_to_DE_genes$gene%in%REP_genes$gene),]\n",
    "\n",
    "cat(\"Linked_peaks_to_DE_genes_sel_0\\n\")\n",
    "cat(str(Linked_peaks_to_DE_genes_sel))\n",
    "cat(\"\\n\")\n",
    "\n",
    "\n",
    "Linked_peaks_to_DE_genes_sel_subset<-unique(Linked_peaks_to_DE_genes_sel[,which(colnames(Linked_peaks_to_DE_genes_sel)%in%c('Peak_ID','gene','zscore'))])\n",
    "\n",
    "\n",
    "cat(\"Linked_peaks_to_DE_genes_sel_subset_0\\n\")\n",
    "cat(str(Linked_peaks_to_DE_genes_sel_subset))\n",
    "cat(\"\\n\")"
   ]
  },
  {
   "cell_type": "markdown",
   "id": "903e947c-6e39-4781-838e-e258f9b9266a",
   "metadata": {},
   "source": [
    "# Read variant"
   ]
  },
  {
   "cell_type": "code",
   "execution_count": 48,
   "id": "67ad04a9-98b0-4dd7-86af-beaac161abd0",
   "metadata": {
    "execution": {
     "iopub.execute_input": "2025-06-13T16:33:48.707774Z",
     "iopub.status.busy": "2025-06-13T16:33:48.706739Z",
     "iopub.status.idle": "2025-06-13T16:33:48.783189Z",
     "shell.execute_reply": "2025-06-13T16:33:48.782061Z"
    }
   },
   "outputs": [
    {
     "name": "stdout",
     "output_type": "stream",
     "text": [
      "selected_variants_0\n",
      "rs139141690__chr7_101856650_G_A\n",
      "rs_vector_0\n",
      " chr \"rs139141690\"\n",
      "\n",
      "VAR_vector_0\n",
      " chr \"chr7_101856650_G_A\"\n",
      "\n",
      "selected_variants_df_0\n",
      "'data.frame':\t1 obs. of  6 variables:\n",
      " $ rs   : chr \"rs139141690\"\n",
      " $ VAR  : chr \"chr7_101856650_G_A\"\n",
      " $ chr  : chr \"chr7\"\n",
      " $ pos38: int 101856650\n",
      " $ ref  : chr \"G\"\n",
      " $ alt  : chr \"A\"\n",
      "\n",
      "gr_VARS_0\n",
      "Formal class 'GRanges' [package \"GenomicRanges\"] with 7 slots\n",
      "  ..@ seqnames       :Formal class 'Rle' [package \"S4Vectors\"] with 4 slots\n",
      "  .. .. ..@ values         : Factor w/ 1 level \"7\": 1\n",
      "  .. .. ..@ lengths        : int 1\n",
      "  .. .. ..@ elementMetadata: NULL\n",
      "  .. .. ..@ metadata       : list()\n",
      "  ..@ ranges         :Formal class 'IRanges' [package \"IRanges\"] with 6 slots\n",
      "  .. .. ..@ start          : int 101856650\n",
      "  .. .. ..@ width          : int 1\n",
      "  .. .. ..@ NAMES          : chr \"chr7_101856650_G_A\"\n",
      "  .. .. ..@ elementType    : chr \"ANY\"\n",
      "  .. .. ..@ elementMetadata: NULL\n",
      "  .. .. ..@ metadata       : list()\n",
      "  ..@ strand         :Formal class 'Rle' [package \"S4Vectors\"] with 4 slots\n",
      "  .. .. ..@ values         : Factor w/ 3 levels \"+\",\"-\",\"*\": 3\n",
      "  .. .. ..@ lengths        : int 1\n",
      "  .. .. ..@ elementMetadata: NULL\n",
      "  .. .. ..@ metadata       : list()\n",
      "  ..@ seqinfo        :Formal class 'Seqinfo' [package \"GenomeInfoDb\"] with 4 slots\n",
      "  .. .. ..@ seqnames   : chr \"7\"\n",
      "  .. .. ..@ seqlengths : int NA\n",
      "  .. .. ..@ is_circular: logi NA\n",
      "  .. .. ..@ genome     : chr NA\n",
      "  ..@ elementMetadata:Formal class 'DFrame' [package \"S4Vectors\"] with 6 slots\n",
      "  .. .. ..@ rownames       : NULL\n",
      "  .. .. ..@ nrows          : int 1\n",
      "  .. .. ..@ elementType    : chr \"ANY\"\n",
      "  .. .. ..@ elementMetadata: NULL\n",
      "  .. .. ..@ metadata       : list()\n",
      "  .. .. ..@ listData       :List of 1\n",
      "  .. .. .. ..$ name2: chr \"rs139141690\"\n",
      "  ..@ elementType    : chr \"ANY\"\n",
      "  ..@ metadata       : list()\n",
      "\n"
     ]
    }
   ],
   "source": [
    " #### READ and transform selected_variants ----\n",
    "  \n",
    "  selected_variants = unlist(strsplit(\"rs139141690__chr7_101856650_G_A\", split=\",\"))\n",
    "  \n",
    "  cat(\"selected_variants_0\\n\")\n",
    "  cat(sprintf(as.character(selected_variants)))\n",
    "  cat(\"\\n\")\n",
    "  \n",
    "  rs_vector<-gsub(\"__.+$\",\"\",selected_variants)\n",
    "  VAR_vector<-gsub(\"[^__]+__\",\"\",selected_variants)\n",
    "  \n",
    "  cat(\"rs_vector_0\\n\")\n",
    "  cat(str(rs_vector))\n",
    "  cat(\"\\n\")\n",
    "  \n",
    "  cat(\"VAR_vector_0\\n\")\n",
    "  cat(str(VAR_vector))\n",
    "  cat(\"\\n\")\n",
    "  \n",
    "  \n",
    "  selected_variants_df<-as.data.frame(cbind(rs_vector,VAR_vector))\n",
    "  \n",
    "  colnames(selected_variants_df)<-c('rs','VAR')\n",
    "  \n",
    "  selected_variants_df$chr<-gsub(\"_.+$\",\"\",selected_variants_df$VAR)\n",
    "  selected_variants_df$pos38<-gsub(\"^[^_]+_\",\"\",selected_variants_df$VAR)\n",
    "  selected_variants_df$pos38<-as.integer(gsub(\"_.+$\",\"\",selected_variants_df$pos38))\n",
    "  selected_variants_df$ref<-gsub(\"^[^_]+_[^_]+_\",\"\",selected_variants_df$VAR)\n",
    "  selected_variants_df$ref<-gsub(\"_.+$\",\"\",selected_variants_df$ref)\n",
    "  selected_variants_df$alt<-gsub(\"^[^_]+_[^_]+_[^_]+_\",\"\",selected_variants_df$VAR)\n",
    "  \n",
    "  cat(\"selected_variants_df_0\\n\")\n",
    "  cat(str(selected_variants_df))\n",
    "  cat(\"\\n\")\n",
    "  \n",
    "  gr_VARS <- GRanges(\n",
    "    seqnames = as.character(gsub(\"chr\",\"\",selected_variants_df$chr)),\n",
    "    name2=as.character(selected_variants_df$rs),\n",
    "    ranges=IRanges(\n",
    "      start=as.numeric(selected_variants_df$pos38),\n",
    "      end=as.numeric(selected_variants_df$pos38),\n",
    "      name=selected_variants_df$VAR))\n",
    "  \n",
    "  cat(\"gr_VARS_0\\n\")\n",
    "  cat(str(gr_VARS))\n",
    "  cat(\"\\n\")"
   ]
  },
  {
   "cell_type": "markdown",
   "id": "1ef6d7c8-489c-40f7-a347-b513005b33d4",
   "metadata": {},
   "source": [
    "# Read DA results"
   ]
  },
  {
   "cell_type": "code",
   "execution_count": 34,
   "id": "d4eb854c-a04d-46ea-89bd-a2c68743350d",
   "metadata": {
    "execution": {
     "iopub.execute_input": "2025-06-13T16:15:21.657123Z",
     "iopub.status.busy": "2025-06-13T16:15:21.655844Z",
     "iopub.status.idle": "2025-06-13T16:15:21.667491Z",
     "shell.execute_reply": "2025-06-13T16:15:21.666178Z"
    },
    "vscode": {
     "languageId": "r"
    }
   },
   "outputs": [],
   "source": [
    "setwd(\"/group/soranzo/manuel.tardaguila/2025_K562_multiome_reanalysis/Downstream_analysis/DA_per_cluster/\")"
   ]
  },
  {
   "cell_type": "code",
   "execution_count": 44,
   "id": "3d5ed0ed-cdc3-4925-8ed6-67e6901ea312",
   "metadata": {
    "execution": {
     "iopub.execute_input": "2025-06-13T16:27:58.170941Z",
     "iopub.status.busy": "2025-06-13T16:27:58.169621Z",
     "iopub.status.idle": "2025-06-13T16:28:00.214421Z",
     "shell.execute_reply": "2025-06-13T16:28:00.212809Z"
    },
    "vscode": {
     "languageId": "r"
    }
   },
   "outputs": [
    {
     "name": "stdout",
     "output_type": "stream",
     "text": [
      "DA_results_0\n",
      "'data.frame':\t617292 obs. of  10 variables:\n",
      " $ Peak_ID       : chr  \"chr1-629563-630703\" \"chr1-633537-634816\" \"chr1-998653-1000980\" \"chr1-1001490-1002040\" ...\n",
      " $ baseMean      : num  15.139 45.564 3.025 0.915 0.404 ...\n",
      " $ log2FoldChange: num  -7.47e-07 -7.39e-07 -3.74e-07 3.18e-07 1.99e-07 ...\n",
      " $ lfcSE         : num  0.00144 0.00144 0.00144 0.00144 0.00144 ...\n",
      " $ pvalue        : num  0.62 0.637 0.789 0.736 0.801 ...\n",
      " $ padj          : num  1 1 1 1 1 ...\n",
      " $ contrast      : Ord.factor w/ 5 levels \"Genotype_rs139141690_HET_vs_wt\"<..: 1 1 1 1 1 1 1 1 1 1 ...\n",
      " $ identity      : Ord.factor w/ 13 levels \"1\"<\"2\"<\"3\"<\"4\"<..: 13 13 13 13 13 13 13 13 13 13 ...\n",
      " $ minuslog10padj: num  1.38e-05 1.38e-05 1.38e-05 1.38e-05 1.38e-05 ...\n",
      " $ abslogfc      : num  7.47e-07 7.39e-07 3.74e-07 3.18e-07 1.99e-07 ...\n",
      "\n",
      "DA_results_1\n",
      "'data.frame':\t617292 obs. of  13 variables:\n",
      " $ Peak_ID       : chr  \"chr1-629563-630703\" \"chr1-633537-634816\" \"chr1-998653-1000980\" \"chr1-1001490-1002040\" ...\n",
      " $ baseMean      : num  15.139 45.564 3.025 0.915 0.404 ...\n",
      " $ log2FoldChange: num  -7.47e-07 -7.39e-07 -3.74e-07 3.18e-07 1.99e-07 ...\n",
      " $ lfcSE         : num  0.00144 0.00144 0.00144 0.00144 0.00144 ...\n",
      " $ pvalue        : num  0.62 0.637 0.789 0.736 0.801 ...\n",
      " $ padj          : num  1 1 1 1 1 ...\n",
      " $ contrast      : Ord.factor w/ 5 levels \"Genotype_rs139141690_HET_vs_wt\"<..: 1 1 1 1 1 1 1 1 1 1 ...\n",
      " $ identity      : Ord.factor w/ 13 levels \"1\"<\"2\"<\"3\"<\"4\"<..: 13 13 13 13 13 13 13 13 13 13 ...\n",
      " $ minuslog10padj: num  1.38e-05 1.38e-05 1.38e-05 1.38e-05 1.38e-05 ...\n",
      " $ abslogfc      : num  7.47e-07 7.39e-07 3.74e-07 3.18e-07 1.99e-07 ...\n",
      " $ chr           : chr  \"chr1\" \"chr1\" \"chr1\" \"chr1\" ...\n",
      " $ start         : int  629563 633537 998653 1001490 1004636 1019170 1068573 1079381 1433040 7470573 ...\n",
      " $ end           : int  630703 634816 1000980 1002040 1005685 1022080 1070507 1080620 1434145 7471784 ...\n",
      "\n"
     ]
    }
   ],
   "source": [
    "DA_results<-readRDS(file=\"DA_results_Diff_K562.rds\")\n",
    "\n",
    "cat(\"DA_results_0\\n\")\n",
    "cat(str(DA_results))\n",
    "cat(\"\\n\")\n",
    "\n",
    "DA_results$chr<-gsub(\"-.+$\",\"\",DA_results$Peak_ID)\n",
    "DA_results$start<-gsub(\"^[^-]+-\",\"\",DA_results$Peak_ID)\n",
    "DA_results$start<-as.integer(gsub(\"-.+$\",\"\",DA_results$start))\n",
    "\n",
    "DA_results$end<-as.integer(gsub(\"^[^-]+-[^-]+-\",\"\",DA_results$Peak_ID))\n",
    "\n",
    "cat(\"DA_results_1\\n\")\n",
    "cat(str(DA_results))\n",
    "cat(\"\\n\")"
   ]
  },
  {
   "cell_type": "code",
   "execution_count": 47,
   "id": "253c3b5a-6947-42e5-93df-021f0e28ab4b",
   "metadata": {
    "execution": {
     "iopub.execute_input": "2025-06-13T16:32:36.467921Z",
     "iopub.status.busy": "2025-06-13T16:32:36.466263Z",
     "iopub.status.idle": "2025-06-13T16:32:36.782372Z",
     "shell.execute_reply": "2025-06-13T16:32:36.781232Z"
    }
   },
   "outputs": [
    {
     "name": "stdout",
     "output_type": "stream",
     "text": [
      "gr_peaks_0\n",
      "Formal class 'GRanges' [package \"GenomicRanges\"] with 7 slots\n",
      "  ..@ seqnames       :Formal class 'Rle' [package \"S4Vectors\"] with 4 slots\n",
      "  .. .. ..@ values         : Factor w/ 23 levels \"1\",\"10\",\"11\",..: 1 2 3 4 5 6 7 8 9 10 ...\n",
      "  .. .. ..@ lengths        : int [1:104254] 1170 471 501 480 118 345 468 387 241 360 ...\n",
      "  .. .. ..@ elementMetadata: NULL\n",
      "  .. .. ..@ metadata       : list()\n",
      "  ..@ ranges         :Formal class 'IRanges' [package \"IRanges\"] with 6 slots\n",
      "  .. .. ..@ start          : int [1:617292] 629563 633537 998653 1001490 1004636 1019170 1068573 1079381 1433040 7470573 ...\n",
      "  .. .. ..@ width          : int [1:617292] 1141 1280 2328 551 1050 2911 1935 1240 1106 1212 ...\n",
      "  .. .. ..@ NAMES          : chr [1:617292] \"chr1-629563-630703\" \"chr1-633537-634816\" \"chr1-998653-1000980\" \"chr1-1001490-1002040\" ...\n",
      "  .. .. ..@ elementType    : chr \"ANY\"\n",
      "  .. .. ..@ elementMetadata: NULL\n",
      "  .. .. ..@ metadata       : list()\n",
      "  ..@ strand         :Formal class 'Rle' [package \"S4Vectors\"] with 4 slots\n",
      "  .. .. ..@ values         : Factor w/ 3 levels \"+\",\"-\",\"*\": 3\n",
      "  .. .. ..@ lengths        : int 617292\n",
      "  .. .. ..@ elementMetadata: NULL\n",
      "  .. .. ..@ metadata       : list()\n",
      "  ..@ seqinfo        :Formal class 'Seqinfo' [package \"GenomeInfoDb\"] with 4 slots\n",
      "  .. .. ..@ seqnames   : chr [1:23] \"1\" \"10\" \"11\" \"12\" ...\n",
      "  .. .. ..@ seqlengths : int [1:23] NA NA NA NA NA NA NA NA NA NA ...\n",
      "  .. .. ..@ is_circular: logi [1:23] NA NA NA NA NA NA ...\n",
      "  .. .. ..@ genome     : chr [1:23] NA NA NA NA ...\n",
      "  ..@ elementMetadata:Formal class 'DFrame' [package \"S4Vectors\"] with 6 slots\n",
      "  .. .. ..@ rownames       : NULL\n",
      "  .. .. ..@ nrows          : int 617292\n",
      "  .. .. ..@ elementType    : chr \"ANY\"\n",
      "  .. .. ..@ elementMetadata: NULL\n",
      "  .. .. ..@ metadata       : list()\n",
      "  .. .. ..@ listData       : Named list()\n",
      "  ..@ elementType    : chr \"ANY\"\n",
      "  ..@ metadata       : list()\n",
      "\n"
     ]
    }
   ],
   "source": [
    " gr_peaks <- GRanges(\n",
    "    seqnames = as.character(gsub(\"chr\",\"\",DA_results$chr)),\n",
    "    ranges=IRanges(\n",
    "      start=as.numeric(DA_results$start),\n",
    "      end=as.numeric(DA_results$end),\n",
    "      name=DA_results$Peak_ID))\n",
    "\n",
    "cat(\"gr_peaks_0\\n\")\n",
    "cat(str(gr_peaks))\n",
    "cat(\"\\n\")\n"
   ]
  },
  {
   "cell_type": "markdown",
   "id": "8b7e572f-83ce-4df9-8bfc-0858b75b6f7e",
   "metadata": {},
   "source": [
    "# Intersect with the variant"
   ]
  },
  {
   "cell_type": "code",
   "execution_count": 49,
   "id": "ff917c1f-5445-47ab-9f92-a19341373e3e",
   "metadata": {
    "execution": {
     "iopub.execute_input": "2025-06-13T16:35:25.299397Z",
     "iopub.status.busy": "2025-06-13T16:35:25.298281Z",
     "iopub.status.idle": "2025-06-13T16:35:25.386979Z",
     "shell.execute_reply": "2025-06-13T16:35:25.385810Z"
    }
   },
   "outputs": [
    {
     "name": "stdout",
     "output_type": "stream",
     "text": [
      "m\n",
      "Formal class 'SortedByQueryHits' [package \"S4Vectors\"] with 6 slots\n",
      "  ..@ from           : int [1:52] 1 1 1 1 1 1 1 1 1 1 ...\n",
      "  ..@ to             : int [1:52] 9666 21525 33408 45614 56915 68803 80622 92422 104890 117265 ...\n",
      "  ..@ nLnode         : int 1\n",
      "  ..@ nRnode         : int 617292\n",
      "  ..@ elementMetadata: NULL\n",
      "  ..@ metadata       : list()\n",
      "\n",
      "subjectHits_peaks\n",
      " int [1:52] 9666 21525 33408 45614 56915 68803 80622 92422 104890 117265 ...\n",
      "\n",
      "queryHits_VARS\n",
      " int [1:52] 1 1 1 1 1 1 1 1 1 1 ...\n",
      "\n",
      "VARS_df_0\n",
      "'data.frame':\t1 obs. of  2 variables:\n",
      " $ rs : chr \"rs139141690\"\n",
      " $ VAR: chr \"chr7_101856650_G_A\"\n",
      "\n",
      "VARS_df_hits_0\n",
      "'data.frame':\t52 obs. of  2 variables:\n",
      " $ rs : chr  \"rs139141690\" \"rs139141690\" \"rs139141690\" \"rs139141690\" ...\n",
      " $ VAR: chr  \"chr7_101856650_G_A\" \"chr7_101856650_G_A\" \"chr7_101856650_G_A\" \"chr7_101856650_G_A\" ...\n",
      "\n"
     ]
    }
   ],
   "source": [
    "#### Intersect Peak to genes with SNP ----\n",
    "  \n",
    "  DEBUG <- 1\n",
    "  \n",
    "  m <- findOverlaps(gr_VARS,gr_peaks)\n",
    "  \n",
    "  if(DEBUG == 1)\n",
    "  {\n",
    "    cat(\"m\\n\")\n",
    "    cat(str(m))\n",
    "    cat(\"\\n\")\n",
    "  }\n",
    "  \n",
    "  subjectHits_peaks<-subjectHits(m)\n",
    "  \n",
    "  if(DEBUG == 1)\n",
    "  {\n",
    "    cat(\"subjectHits_peaks\\n\")\n",
    "    cat(str(subjectHits_peaks))\n",
    "    cat(\"\\n\")\n",
    "  }\n",
    "  \n",
    "  queryHits_VARS<-queryHits(m)\n",
    "  \n",
    "  if(DEBUG == 1)\n",
    "  {\n",
    "    cat(\"queryHits_VARS\\n\")\n",
    "    cat(str(queryHits_VARS))\n",
    "    cat(\"\\n\")\n",
    "  }\n",
    "  \n",
    "  VARS_df <- data.frame(rs=as.character(gr_VARS$name2),\n",
    "                        VAR=names(gr_VARS), stringsAsFactors = F)\n",
    "  \n",
    "  if(DEBUG == 1)\n",
    "  {\n",
    "    cat(\"VARS_df_0\\n\")\n",
    "    cat(str(VARS_df))\n",
    "    cat(\"\\n\")\n",
    "  }\n",
    "  \n",
    "  VARS_df_hits<-VARS_df[queryHits_VARS,]\n",
    "  \n",
    "  if(DEBUG == 1)\n",
    "  {\n",
    "    cat(\"VARS_df_hits_0\\n\")\n",
    "    cat(str(VARS_df_hits))\n",
    "    cat(\"\\n\")\n",
    "  }"
   ]
  },
  {
   "cell_type": "code",
   "execution_count": 50,
   "id": "449b5178-cfd0-4fef-b887-5254c2449e0e",
   "metadata": {
    "execution": {
     "iopub.execute_input": "2025-06-13T16:36:22.824377Z",
     "iopub.status.busy": "2025-06-13T16:36:22.823307Z",
     "iopub.status.idle": "2025-06-13T16:36:22.858540Z",
     "shell.execute_reply": "2025-06-13T16:36:22.857347Z"
    }
   },
   "outputs": [
    {
     "name": "stdout",
     "output_type": "stream",
     "text": [
      "peaks_df_SNP_0\n",
      "'data.frame':\t617292 obs. of  4 variables:\n",
      " $ chr    : chr  \"1\" \"1\" \"1\" \"1\" ...\n",
      " $ start  : int  629563 633537 998653 1001490 1004636 1019170 1068573 1079381 1433040 7470573 ...\n",
      " $ end    : int  630703 634816 1000980 1002040 1005685 1022080 1070507 1080620 1434145 7471784 ...\n",
      " $ Peak_ID: chr  \"chr1-629563-630703\" \"chr1-633537-634816\" \"chr1-998653-1000980\" \"chr1-1001490-1002040\" ...\n",
      "\n",
      "peaks_df_SNP_hits_0\n",
      "'data.frame':\t52 obs. of  4 variables:\n",
      " $ chr    : chr  \"7\" \"7\" \"7\" \"7\" ...\n",
      " $ start  : int  101855838 101855838 101855838 101855838 101855838 101855838 101855838 101855838 101855838 101855838 ...\n",
      " $ end    : int  101857327 101857327 101857327 101857327 101857327 101857327 101857327 101857327 101857327 101857327 ...\n",
      " $ Peak_ID: chr  \"chr7-101855838-101857327\" \"chr7-101855838-101857327\" \"chr7-101855838-101857327\" \"chr7-101855838-101857327\" ...\n",
      "\n",
      "peaks_df_SNP_hits_1\n",
      "'data.frame':\t52 obs. of  6 variables:\n",
      " $ chr    : chr  \"chr7\" \"chr7\" \"chr7\" \"chr7\" ...\n",
      " $ start  : int  101855838 101855838 101855838 101855838 101855838 101855838 101855838 101855838 101855838 101855838 ...\n",
      " $ end    : int  101857327 101857327 101857327 101857327 101857327 101857327 101857327 101857327 101857327 101857327 ...\n",
      " $ Peak_ID: chr  \"chr7-101855838-101857327\" \"chr7-101855838-101857327\" \"chr7-101855838-101857327\" \"chr7-101855838-101857327\" ...\n",
      " $ rs     : chr  \"rs139141690\" \"rs139141690\" \"rs139141690\" \"rs139141690\" ...\n",
      " $ VAR    : chr  \"chr7_101856650_G_A\" \"chr7_101856650_G_A\" \"chr7_101856650_G_A\" \"chr7_101856650_G_A\" ...\n",
      "\n"
     ]
    }
   ],
   "source": [
    "\n",
    "  \n",
    "  peaks_df_SNP <- data.frame(chr=as.character(seqnames(gr_peaks)),\n",
    "                                     start=as.integer(start(gr_peaks)),\n",
    "                                     end=as.integer(end(gr_peaks)),\n",
    "                                     Peak_ID=names(gr_peaks),\n",
    "                                     stringsAsFactors = F)\n",
    "  \n",
    "  \n",
    "  if(DEBUG == 1)\n",
    "  {\n",
    "    cat(\"peaks_df_SNP_0\\n\")\n",
    "    cat(str(peaks_df_SNP))\n",
    "    cat(\"\\n\")\n",
    "  }\n",
    "  \n",
    "  peaks_df_SNP_hits<-peaks_df_SNP[subjectHits_peaks,]\n",
    "  \n",
    "  if(dim(peaks_df_SNP_hits)[1] >0)\n",
    "  {\n",
    "    if(DEBUG == 1)\n",
    "    {\n",
    "      cat(\"peaks_df_SNP_hits_0\\n\")\n",
    "      cat(str(peaks_df_SNP_hits))\n",
    "      cat(\"\\n\")\n",
    "    }\n",
    "    \n",
    "    peaks_df_SNP_hits<-cbind(peaks_df_SNP_hits,VARS_df_hits)\n",
    "    \n",
    "    peaks_df_SNP_hits$chr<-paste('chr',peaks_df_SNP_hits$chr,sep='')\n",
    "    \n",
    "    if(DEBUG == 1)\n",
    "    {\n",
    "      cat(\"peaks_df_SNP_hits_1\\n\")\n",
    "      cat(str(peaks_df_SNP_hits))\n",
    "      cat(\"\\n\")\n",
    "    }\n",
    "    \n",
    " \n",
    "    \n",
    "  }#dim(peaks_df_SNP_hits)[1] >0"
   ]
  },
  {
   "cell_type": "markdown",
   "id": "8799c96b-b0fa-4b88-8062-7ad79ccf4623",
   "metadata": {},
   "source": [
    "## Subset to peaks linked to DE genes and clusters 1 and 3"
   ]
  },
  {
   "cell_type": "code",
   "execution_count": 51,
   "id": "b5168bee-4d51-4424-ba34-dbf9c03174e6",
   "metadata": {
    "execution": {
     "iopub.execute_input": "2025-06-13T16:36:51.460937Z",
     "iopub.status.busy": "2025-06-13T16:36:51.459819Z",
     "iopub.status.idle": "2025-06-13T16:36:51.622304Z",
     "shell.execute_reply": "2025-06-13T16:36:51.621112Z"
    }
   },
   "outputs": [
    {
     "name": "stdout",
     "output_type": "stream",
     "text": [
      "DA_results_sel_0\n",
      "'data.frame':\t26104 obs. of  15 variables:\n",
      " $ Peak_ID       : chr  \"chr1-172253931-172255732\" \"chr1-172253931-172255732\" \"chr1-172253931-172255732\" \"chr1-172253931-172255732\" ...\n",
      " $ gene          : chr  \"SUCO\" \"SUCO\" \"SUCO\" \"SUCO\" ...\n",
      " $ zscore        : num  5.48 5.48 5.48 5.48 5.48 ...\n",
      " $ baseMean      : num  7.59 1.14 1.33 8.06 1.05 ...\n",
      " $ log2FoldChange: num  5.84e-04 -1.48e-01 -1.84e-01 -8.45e-03 -1.39e-07 ...\n",
      " $ lfcSE         : num  0.02583 0.33601 0.31779 0.04734 0.00144 ...\n",
      " $ pvalue        : num  0.7924 0.3053 0.0783 0.2925 0.9478 ...\n",
      " $ padj          : num  0.999 1 0.893 0.989 1 ...\n",
      " $ contrast      : Ord.factor w/ 5 levels \"Genotype_rs139141690_HET_vs_wt\"<..: 3 2 2 3 4 3 4 1 4 4 ...\n",
      " $ identity      : Ord.factor w/ 13 levels \"1\"<\"2\"<\"3\"<\"4\"<..: 3 8 9 1 5 7 9 1 8 12 ...\n",
      " $ minuslog10padj: num  4.27e-04 4.09e-05 4.91e-02 4.67e-03 9.53e-05 ...\n",
      " $ abslogfc      : num  5.84e-04 1.48e-01 1.84e-01 8.45e-03 1.39e-07 ...\n",
      " $ chr           : chr  \"chr1\" \"chr1\" \"chr1\" \"chr1\" ...\n",
      " $ start         : int  172253931 172253931 172253931 172253931 172253931 172253931 172253931 172253931 172253931 172253931 ...\n",
      " $ end           : int  172255732 172255732 172255732 172255732 172255732 172255732 172255732 172255732 172255732 172255732 ...\n",
      "\n"
     ]
    }
   ],
   "source": [
    "DA_results_sel<-merge(Linked_peaks_to_DE_genes_sel_subset,\n",
    "                  DA_results,\n",
    "                  by=\"Peak_ID\")\n",
    "\n",
    "cat(\"DA_results_sel_0\\n\")\n",
    "cat(str(DA_results_sel))\n",
    "cat(\"\\n\")\n"
   ]
  },
  {
   "cell_type": "code",
   "execution_count": 58,
   "id": "2de4b034-56b1-4bd5-9843-3e8426376d75",
   "metadata": {
    "execution": {
     "iopub.execute_input": "2025-06-13T16:43:52.668364Z",
     "iopub.status.busy": "2025-06-13T16:43:52.667295Z",
     "iopub.status.idle": "2025-06-13T16:43:52.692454Z",
     "shell.execute_reply": "2025-06-13T16:43:52.691206Z"
    }
   },
   "outputs": [
    {
     "name": "stdout",
     "output_type": "stream",
     "text": [
      "DA_results_sel_id_sel_0\n",
      "'data.frame':\t4016 obs. of  15 variables:\n",
      " $ Peak_ID       : chr  \"chr1-172253931-172255732\" \"chr1-172253931-172255732\" \"chr1-172253931-172255732\" \"chr1-172253931-172255732\" ...\n",
      " $ gene          : chr  \"SUCO\" \"SUCO\" \"SUCO\" \"SUCO\" ...\n",
      " $ zscore        : num  5.48 5.48 5.48 5.48 5.48 ...\n",
      " $ baseMean      : num  7.59 8.06 8.06 7.59 8.06 ...\n",
      " $ log2FoldChange: num  5.84e-04 -8.45e-03 -9.92e-02 7.10e-07 -3.62e-02 ...\n",
      " $ lfcSE         : num  0.02583 0.04734 0.15748 0.00144 0.08775 ...\n",
      " $ pvalue        : num  0.7924 0.2925 0.0411 0.8334 0.3551 ...\n",
      " $ padj          : num  0.999 0.989 0.485 1 0.798 ...\n",
      " $ contrast      : Ord.factor w/ 5 levels \"Genotype_rs139141690_HET_vs_wt\"<..: 3 3 1 1 4 4 2 2 4 3 ...\n",
      " $ identity      : Ord.factor w/ 13 levels \"1\"<\"2\"<\"3\"<\"4\"<..: 3 1 1 3 1 3 3 1 3 1 ...\n",
      " $ minuslog10padj: num  4.27e-04 4.67e-03 3.14e-01 4.98e-05 9.82e-02 ...\n",
      " $ abslogfc      : num  5.84e-04 8.45e-03 9.92e-02 7.10e-07 3.62e-02 ...\n",
      " $ chr           : chr  \"chr1\" \"chr1\" \"chr1\" \"chr1\" ...\n",
      " $ start         : int  172253931 172253931 172253931 172253931 172253931 172253931 172253931 172253931 172279444 172279444 ...\n",
      " $ end           : int  172255732 172255732 172255732 172255732 172255732 172255732 172255732 172255732 172280348 172280348 ...\n",
      "\n"
     ]
    }
   ],
   "source": [
    "DA_results_sel_id_sel<-DA_results_sel[which(DA_results_sel$identity%in%c('1','3')),]\n",
    "\n",
    "cat(\"DA_results_sel_id_sel_0\\n\")\n",
    "cat(str(DA_results_sel_id_sel))\n",
    "cat(\"\\n\")"
   ]
  },
  {
   "cell_type": "code",
   "execution_count": 60,
   "id": "e7367b3d-63a3-4fd7-b6c0-025c5c57f4e5",
   "metadata": {
    "execution": {
     "iopub.execute_input": "2025-06-13T16:44:18.277491Z",
     "iopub.status.busy": "2025-06-13T16:44:18.276376Z",
     "iopub.status.idle": "2025-06-13T16:44:18.300306Z",
     "shell.execute_reply": "2025-06-13T16:44:18.299144Z"
    }
   },
   "outputs": [
    {
     "name": "stdout",
     "output_type": "stream",
     "text": [
      "'data.frame':\t3 obs. of  15 variables:\n",
      " $ Peak_ID       : chr  \"chr7-101855838-101857327\" \"chr7-101855838-101857327\" \"chr7-101855838-101857327\"\n",
      " $ gene          : chr  \"CUX1\" \"CUX1\" \"CUX1\"\n",
      " $ zscore        : num  5.41 5.41 5.41\n",
      " $ baseMean      : num  34.3 25 34.3\n",
      " $ log2FoldChange: num  -0.521 -0.551 -0.31\n",
      " $ lfcSE         : num  0.1174 0.1539 0.0912\n",
      " $ pvalue        : num  6.17e-07 1.89e-05 5.23e-05\n",
      " $ padj          : num  0.000385 0.012448 0.010714\n",
      " $ contrast      : Ord.factor w/ 5 levels \"Genotype_rs139141690_HET_vs_wt\"<..: 2 2 4\n",
      " $ identity      : Ord.factor w/ 13 levels \"1\"<\"2\"<\"3\"<\"4\"<..: 1 3 1\n",
      " $ minuslog10padj: num  3.41 1.9 1.97\n",
      " $ abslogfc      : num  0.521 0.551 0.31\n",
      " $ chr           : chr  \"chr7\" \"chr7\" \"chr7\"\n",
      " $ start         : int  101855838 101855838 101855838\n",
      " $ end           : int  101857327 101857327 101857327\n",
      "\n",
      "Genotype_rs139141690_vs_wt Genotype_rs139141690_vs_wt Genotype_Del_80bp_vs_wt\n"
     ]
    }
   ],
   "source": [
    "test<-DA_results_sel_id_sel[which(DA_results_sel_id_sel$gene == \"CUX1\" & DA_results_sel_id_sel$Peak_ID%in%peaks_df_SNP_hits$Peak_ID &\n",
    "                                 DA_results_sel_id_sel$minuslog10padj >= 1.3),]\n",
    "\n",
    "str(test)\n",
    "cat(\"\\n\")\n",
    "cat(sprintf(as.character(test$contrast)))\n",
    "cat(\"\\n\")"
   ]
  },
  {
   "cell_type": "code",
   "execution_count": 70,
   "id": "53009712-4356-4cc4-b02a-5b27397134a8",
   "metadata": {
    "execution": {
     "iopub.execute_input": "2025-06-13T16:51:13.802640Z",
     "iopub.status.busy": "2025-06-13T16:51:13.801555Z",
     "iopub.status.idle": "2025-06-13T16:51:13.817728Z",
     "shell.execute_reply": "2025-06-13T16:51:13.816589Z"
    }
   },
   "outputs": [
    {
     "name": "stdout",
     "output_type": "stream",
     "text": [
      " chr [1:17] \"chr16-88494205-88495023\" \"chr21-36149918-36151087\" ...\n",
      "\n"
     ]
    }
   ],
   "source": [
    "select_peaks_to_display<-unique(DA_results_sel_id_sel$Peak_ID[which(DA_results_sel_id_sel$minuslog10padj >= 1.3)])\n",
    "\n",
    "str(select_peaks_to_display)\n",
    "cat(\"\\n\")"
   ]
  },
  {
   "cell_type": "markdown",
   "id": "987352a7-e5ca-48fc-9087-2665ccbde7d2",
   "metadata": {},
   "source": [
    "# path to graph"
   ]
  },
  {
   "cell_type": "code",
   "execution_count": 71,
   "id": "fd717a34-8c52-44b7-95d6-b051b9e3536e",
   "metadata": {
    "execution": {
     "iopub.execute_input": "2025-06-13T16:51:45.368750Z",
     "iopub.status.busy": "2025-06-13T16:51:45.367677Z",
     "iopub.status.idle": "2025-06-13T16:51:45.381077Z",
     "shell.execute_reply": "2025-06-13T16:51:45.379937Z"
    }
   },
   "outputs": [
    {
     "data": {
      "text/plain": [
       "NULL"
      ]
     },
     "metadata": {},
     "output_type": "display_data"
    }
   ],
   "source": [
    " path_graphs = paste(\"/group/soranzo/manuel.tardaguila/2025_K562_multiome_reanalysis/Downstream_analysis/Figure_graphs/\",'/',sep='')\n",
    "  \n",
    "  if (file.exists(path_graphs)){\n",
    "    \n",
    "    \n",
    "  }else{\n",
    "    \n",
    "    dir.create(file.path(path_graphs))\n",
    "    \n",
    "  }#path_Downstream_analysis"
   ]
  },
  {
   "cell_type": "markdown",
   "id": "f6d43f6f-cb59-4997-b9d1-a004f27a0882",
   "metadata": {},
   "source": [
    "# Tile plot"
   ]
  },
  {
   "cell_type": "code",
   "execution_count": 74,
   "id": "01eb330d-a608-4646-9320-6100d49525b3",
   "metadata": {
    "execution": {
     "iopub.execute_input": "2025-06-13T16:52:30.102008Z",
     "iopub.status.busy": "2025-06-13T16:52:30.100941Z",
     "iopub.status.idle": "2025-06-13T16:52:30.119638Z",
     "shell.execute_reply": "2025-06-13T16:52:30.118456Z"
    }
   },
   "outputs": [
    {
     "name": "stdout",
     "output_type": "stream",
     "text": [
      "order_from_REP_0\n",
      " chr [1:47] \"CUX1\" \"RUNX1\" \"EZH2\" \"XRCC2\" \"ABI1\" \"ACTB\" \"ADAM10\" \"ANGPT1\" ...\n",
      "\n"
     ]
    }
   ],
   "source": [
    "DEBUG<-1\n",
    "\n",
    "order_from_REP<-REP_genes$gene\n",
    "        \n",
    "        \n",
    "cat(\"order_from_REP_0\\n\")\n",
    "cat(str(order_from_REP))\n",
    "cat(\"\\n\")"
   ]
  },
  {
   "cell_type": "code",
   "execution_count": 75,
   "id": "eca84d80-2402-4fc1-b8b8-8d22012965e2",
   "metadata": {
    "execution": {
     "iopub.execute_input": "2025-06-13T16:52:30.406639Z",
     "iopub.status.busy": "2025-06-13T16:52:30.405722Z",
     "iopub.status.idle": "2025-06-13T16:52:30.446952Z",
     "shell.execute_reply": "2025-06-13T16:52:30.445825Z"
    }
   },
   "outputs": [
    {
     "name": "stdout",
     "output_type": "stream",
     "text": [
      "tile_plot_0\n",
      "'data.frame':\t136 obs. of  15 variables:\n",
      " $ Peak_ID       : chr  \"chr16-88494205-88495023\" \"chr16-88494205-88495023\" \"chr16-88494205-88495023\" \"chr16-88494205-88495023\" ...\n",
      " $ gene          : chr  \"ZFPM1\" \"ZFPM1\" \"ZFPM1\" \"ZFPM1\" ...\n",
      " $ zscore        : num  6.21 6.21 6.21 6.21 6.21 ...\n",
      " $ baseMean      : num  15.69 15.69 15.69 7.91 15.69 ...\n",
      " $ log2FoldChange: num  0.09142 0.01399 0.61522 0.00105 0.07779 ...\n",
      " $ lfcSE         : num  0.1234 0.0487 0.1301 0.0259 0.1128 ...\n",
      " $ pvalue        : num  8.92e-02 1.80e-01 1.32e-07 5.92e-01 1.32e-01 ...\n",
      " $ padj          : num  0.623447 0.966183 0.000312 0.999018 0.658193 ...\n",
      " $ contrast      : Ord.factor w/ 5 levels \"Genotype_rs139141690_HET_vs_wt\"<..: 1 3 4 3 2 2 4 1 2 1 ...\n",
      " $ identity      : Ord.factor w/ 13 levels \"1\"<\"2\"<\"3\"<\"4\"<..: 1 1 1 3 1 3 3 3 1 1 ...\n",
      " $ minuslog10padj: num  0.2052 0.014941 3.505441 0.000427 0.181647 ...\n",
      " $ abslogfc      : num  0.09142 0.01399 0.61522 0.00105 0.07779 ...\n",
      " $ chr           : chr  \"chr16\" \"chr16\" \"chr16\" \"chr16\" ...\n",
      " $ start         : int  88494205 88494205 88494205 88494205 88494205 88494205 88494205 88494205 36149918 36149918 ...\n",
      " $ end           : int  88495023 88495023 88495023 88495023 88495023 88495023 88495023 88495023 36151087 36151087 ...\n",
      "\n",
      " chr [1:17] \"chr16-88494205-88495023\" \"chr21-36149918-36151087\" ...\n",
      "\n",
      "tile_plot_1\n",
      "'data.frame':\t136 obs. of  16 variables:\n",
      " $ Peak_ID       : chr  \"chr16-88494205-88495023\" \"chr16-88494205-88495023\" \"chr16-88494205-88495023\" \"chr16-88494205-88495023\" ...\n",
      " $ gene          : Ord.factor w/ 47 levels \"ZFPM1\"<\"WASF2\"<..: 1 1 1 1 1 1 1 1 46 46 ...\n",
      " $ zscore        : num  6.21 6.21 6.21 6.21 6.21 ...\n",
      " $ baseMean      : num  15.69 15.69 15.69 7.91 15.69 ...\n",
      " $ log2FoldChange: num  0.09142 0.01399 0.61522 0.00105 0.07779 ...\n",
      " $ lfcSE         : num  0.1234 0.0487 0.1301 0.0259 0.1128 ...\n",
      " $ pvalue        : num  8.92e-02 1.80e-01 1.32e-07 5.92e-01 1.32e-01 ...\n",
      " $ padj          : num  0.623447 0.966183 0.000312 0.999018 0.658193 ...\n",
      " $ contrast      : Ord.factor w/ 5 levels \"Genotype_rs139141690_HET_vs_wt\"<..: 1 3 4 3 2 2 4 1 2 1 ...\n",
      " $ identity      : Ord.factor w/ 13 levels \"1\"<\"2\"<\"3\"<\"4\"<..: 1 1 1 3 1 3 3 3 1 1 ...\n",
      " $ minuslog10padj: num  0.2052 0.014941 3.505441 0.000427 0.181647 ...\n",
      " $ abslogfc      : num  0.09142 0.01399 0.61522 0.00105 0.07779 ...\n",
      " $ chr           : chr  \"chr16\" \"chr16\" \"chr16\" \"chr16\" ...\n",
      " $ start         : int  88494205 88494205 88494205 88494205 88494205 88494205 88494205 88494205 36149918 36149918 ...\n",
      " $ end           : int  88495023 88495023 88495023 88495023 88495023 88495023 88495023 88495023 36151087 36151087 ...\n",
      " $ SIG           : Ord.factor w/ 2 levels \"NO\"<\"YES\": 1 1 2 1 1 1 1 1 2 1 ...\n",
      "\n"
     ]
    }
   ],
   "source": [
    "tile_plot<-DA_results_sel_id_sel[which(DA_results_sel_id_sel$Peak_ID%in%select_peaks_to_display),]\n",
    "\n",
    "\n",
    "if(DEBUG == 1){\n",
    "  cat(\"tile_plot_0\\n\")\n",
    "  cat(str(tile_plot))\n",
    "  cat(\"\\n\")\n",
    "  cat(str(unique(tile_plot$Peak_ID)))\n",
    "  cat(\"\\n\")\n",
    "}\n",
    "\n",
    "tile_plot$gene<-factor(tile_plot$gene, levels=rev(order_from_REP), ordered=T)\n",
    "\n",
    "\n",
    "\n",
    "tile_plot$SIG<-NA\n",
    "\n",
    "tile_plot$SIG[which(tile_plot$minuslog10padj >= 1.3)]<-'YES'\n",
    "tile_plot$SIG[which(tile_plot$minuslog10padj < 1.3)]<-'NO'\n",
    "\n",
    "\n",
    "tile_plot$SIG<-factor(tile_plot$SIG, levels=c('NO','YES'), ordered=T)\n",
    "\n",
    "if(DEBUG == 1){\n",
    "  cat(\"tile_plot_1\\n\")\n",
    "  cat(str(tile_plot))\n",
    "  cat(\"\\n\")\n",
    "}"
   ]
  },
  {
   "cell_type": "markdown",
   "id": "991b7dee-df88-42c8-95c4-6b59642629c2",
   "metadata": {},
   "source": [
    "## Add the gene class information"
   ]
  },
  {
   "cell_type": "code",
   "execution_count": 76,
   "id": "4e92518a-047e-4d0d-a5b4-3ba692b40fa2",
   "metadata": {
    "execution": {
     "iopub.execute_input": "2025-06-13T16:52:40.655673Z",
     "iopub.status.busy": "2025-06-13T16:52:40.654579Z",
     "iopub.status.idle": "2025-06-13T16:52:40.675605Z",
     "shell.execute_reply": "2025-06-13T16:52:40.674420Z"
    }
   },
   "outputs": [
    {
     "name": "stdout",
     "output_type": "stream",
     "text": [
      "tile_plot_2\n",
      "'data.frame':\t136 obs. of  18 variables:\n",
      " $ gene          : Ord.factor w/ 47 levels \"ZFPM1\"<\"WASF2\"<..: 40 40 40 40 40 40 40 40 47 47 ...\n",
      " $ Peak_ID       : chr  \"chr8-107751269-107752023\" \"chr8-107751269-107752023\" \"chr8-107751269-107752023\" \"chr8-107751269-107752023\" ...\n",
      " $ zscore        : num  2.66 2.66 2.66 2.66 2.66 ...\n",
      " $ baseMean      : num  1.3 2.7 1.3 2.7 2.7 ...\n",
      " $ log2FoldChange: num  -3.28e-02 1.87e-06 -1.33 -2.73e-05 1.04e-02 ...\n",
      " $ lfcSE         : num  0.10147 0.00144 0.54127 0.02589 0.08924 ...\n",
      " $ pvalue        : num  0.056777 0.327757 0.000531 0.962598 0.592018 ...\n",
      " $ padj          : num  0.537 1 0.043 0.999 0.999 ...\n",
      " $ contrast      : Ord.factor w/ 5 levels \"Genotype_rs139141690_HET_vs_wt\"<..: 1 1 4 3 2 3 4 2 2 3 ...\n",
      " $ identity      : Ord.factor w/ 13 levels \"1\"<\"2\"<\"3\"<\"4\"<..: 1 3 1 3 3 1 3 1 1 3 ...\n",
      " $ minuslog10padj: num  2.70e-01 4.98e-05 1.37 4.27e-04 6.19e-04 ...\n",
      " $ abslogfc      : num  3.28e-02 1.87e-06 1.33 2.73e-05 1.04e-02 ...\n",
      " $ chr           : chr  \"chr8\" \"chr8\" \"chr8\" \"chr8\" ...\n",
      " $ start         : int  107751269 107751269 107751269 107751269 107751269 107751269 107751269 107751269 101855838 101855838 ...\n",
      " $ end           : int  107752023 107752023 107752023 107752023 107752023 107752023 107752023 107752023 101857327 101857327 ...\n",
      " $ SIG           : Ord.factor w/ 2 levels \"NO\"<\"YES\": 1 1 2 1 1 1 1 1 2 1 ...\n",
      " $ other_string  : chr  \"WP_PI3KAKT_SIGNALING\" \"WP_PI3KAKT_SIGNALING\" \"WP_PI3KAKT_SIGNALING\" \"WP_PI3KAKT_SIGNALING\" ...\n",
      " $ Gene_class    : Ord.factor w/ 9 levels \"CUX1\"<\"RUNX1\"<..: 8 8 8 8 8 8 8 8 1 1 ...\n",
      "\n"
     ]
    }
   ],
   "source": [
    "tile_plot<-merge(tile_plot,\n",
    "                 REP_genes,\n",
    "                 by=\"gene\")\n",
    "\n",
    "if(DEBUG == 1){\n",
    "  cat(\"tile_plot_2\\n\")\n",
    "  cat(str(tile_plot))\n",
    "  cat(\"\\n\")\n",
    "}\n",
    "                 "
   ]
  },
  {
   "cell_type": "markdown",
   "id": "4a68143e-87e9-4411-ab0c-a442d79d1bb2",
   "metadata": {},
   "source": [
    "## Order the Peaks"
   ]
  },
  {
   "cell_type": "code",
   "execution_count": 98,
   "id": "15128a3d-21de-4d95-8d10-cd11d5c9a576",
   "metadata": {
    "execution": {
     "iopub.execute_input": "2025-06-13T17:22:34.752120Z",
     "iopub.status.busy": "2025-06-13T17:22:34.751000Z",
     "iopub.status.idle": "2025-06-13T17:22:34.797306Z",
     "shell.execute_reply": "2025-06-13T17:22:34.796154Z"
    }
   },
   "outputs": [
    {
     "name": "stdout",
     "output_type": "stream",
     "text": [
      "tile_plot_3\n",
      "'data.frame':\t136 obs. of  18 variables:\n",
      " $ gene          : Ord.factor w/ 47 levels \"ZFPM1\"<\"WASF2\"<..: 1 1 1 1 1 1 1 1 8 8 ...\n",
      " $ Peak_ID       : Ord.factor w/ 17 levels \"chr7-102079071-102081907\"<..: 17 17 17 17 17 17 17 17 16 16 ...\n",
      " $ zscore        : num  6.21 6.21 6.21 6.21 6.21 ...\n",
      " $ baseMean      : num  15.69 15.69 15.69 7.91 15.69 ...\n",
      " $ log2FoldChange: num  0.09142 0.01399 0.61522 0.00105 0.07779 ...\n",
      " $ lfcSE         : num  0.1234 0.0487 0.1301 0.0259 0.1128 ...\n",
      " $ pvalue        : num  8.92e-02 1.80e-01 1.32e-07 5.92e-01 1.32e-01 ...\n",
      " $ padj          : num  0.623447 0.966183 0.000312 0.999018 0.658193 ...\n",
      " $ contrast      : Ord.factor w/ 5 levels \"Genotype_rs139141690_HET_vs_wt\"<..: 1 3 4 3 2 2 4 1 3 4 ...\n",
      " $ identity      : Ord.factor w/ 13 levels \"1\"<\"2\"<\"3\"<\"4\"<..: 1 1 1 3 1 3 3 3 3 3 ...\n",
      " $ minuslog10padj: num  0.2052 0.014941 3.505441 0.000427 0.181647 ...\n",
      " $ abslogfc      : num  0.09142 0.01399 0.61522 0.00105 0.07779 ...\n",
      " $ chr           : chr  \"chr16\" \"chr16\" \"chr16\" \"chr16\" ...\n",
      " $ start         : int  88494205 88494205 88494205 88494205 88494205 88494205 88494205 88494205 14771750 14771750 ...\n",
      " $ end           : int  88495023 88495023 88495023 88495023 88495023 88495023 88495023 88495023 14772394 14772394 ...\n",
      " $ SIG           : Ord.factor w/ 2 levels \"NO\"<\"YES\": 1 1 2 1 1 1 1 1 1 1 ...\n",
      " $ other_string  : chr  \"GOBP_MEGAKARYOCYTE_DIFFERENTIATION\" \"GOBP_MEGAKARYOCYTE_DIFFERENTIATION\" \"GOBP_MEGAKARYOCYTE_DIFFERENTIATION\" \"GOBP_MEGAKARYOCYTE_DIFFERENTIATION\" ...\n",
      " $ Gene_class    : Ord.factor w/ 9 levels \"CUX1\"<\"RUNX1\"<..: 4 4 4 4 4 4 4 4 7 7 ...\n",
      "\n",
      "chr16-88494205-88495023 chr3-14771750-14772394 chr9-105063586-105065120 chr22-22085391-22087167 chr7-65980380-65982795 chr8-107751269-107752023 chr7-152434521-152437050 chr7-152462993-152465171 chr7-152674819-152676762 chr7-148697446-148700080 chr7-148882947-148885411 chr7-148940379-148942549 chr7-149027541-149029321 chr7-149146000-149148540 chr21-36149918-36151087 chr7-101855838-101857327 chr7-102079071-102081907\n",
      "tile_plot_4\n",
      "'data.frame':\t136 obs. of  18 variables:\n",
      " $ gene          : Ord.factor w/ 47 levels \"ZFPM1\"<\"WASF2\"<..: 1 1 1 1 1 1 1 1 8 8 ...\n",
      " $ Peak_ID       : Ord.factor w/ 17 levels \"chr7-102079071-102081907\"<..: 17 17 17 17 17 17 17 17 16 16 ...\n",
      " $ zscore        : num  6.21 6.21 6.21 6.21 6.21 ...\n",
      " $ baseMean      : num  15.69 15.69 15.69 7.91 15.69 ...\n",
      " $ log2FoldChange: num  0.09142 0.01399 0.61522 0.00105 0.07779 ...\n",
      " $ lfcSE         : num  0.1234 0.0487 0.1301 0.0259 0.1128 ...\n",
      " $ pvalue        : num  8.92e-02 1.80e-01 1.32e-07 5.92e-01 1.32e-01 ...\n",
      " $ padj          : num  0.623447 0.966183 0.000312 0.999018 0.658193 ...\n",
      " $ contrast      : Ord.factor w/ 5 levels \"Genotype_rs139141690_HET_vs_wt\"<..: 1 3 4 3 2 2 4 1 3 4 ...\n",
      " $ identity      : Ord.factor w/ 13 levels \"1\"<\"2\"<\"3\"<\"4\"<..: 1 1 1 3 1 3 3 3 3 3 ...\n",
      " $ minuslog10padj: num  0.2052 0.014941 3.505441 0.000427 0.181647 ...\n",
      " $ abslogfc      : num  0.09142 0.01399 0.61522 0.00105 0.07779 ...\n",
      " $ chr           : chr  \"chr16\" \"chr16\" \"chr16\" \"chr16\" ...\n",
      " $ start         : int  88494205 88494205 88494205 88494205 88494205 88494205 88494205 88494205 14771750 14771750 ...\n",
      " $ end           : int  88495023 88495023 88495023 88495023 88495023 88495023 88495023 88495023 14772394 14772394 ...\n",
      " $ SIG           : Ord.factor w/ 2 levels \"NO\"<\"YES\": 1 1 2 1 1 1 1 1 1 1 ...\n",
      " $ other_string  : chr  \"GOBP_MEGAKARYOCYTE_DIFFERENTIATION\" \"GOBP_MEGAKARYOCYTE_DIFFERENTIATION\" \"GOBP_MEGAKARYOCYTE_DIFFERENTIATION\" \"GOBP_MEGAKARYOCYTE_DIFFERENTIATION\" ...\n",
      " $ Gene_class    : Ord.factor w/ 9 levels \"CUX1\"<\"RUNX1\"<..: 4 4 4 4 4 4 4 4 7 7 ...\n",
      "\n",
      "chr16-88494205-88495023 chr3-14771750-14772394 chr9-105063586-105065120 chr22-22085391-22087167 chr7-65980380-65982795 chr8-107751269-107752023 chr7-152434521-152437050 chr7-152462993-152465171 chr7-152674819-152676762 chr7-148697446-148700080 chr7-148882947-148885411 chr7-148940379-148942549 chr7-149027541-149029321 chr7-149146000-149148540 chr21-36149918-36151087 chr7-101855838-101857327 chr7-102079071-102081907\n",
      "tile_plot_processed_0\n",
      "'data.frame':\t136 obs. of  19 variables:\n",
      " $ gene          : Ord.factor w/ 47 levels \"ZFPM1\"<\"WASF2\"<..: 1 1 1 1 1 1 1 1 8 8 ...\n",
      " $ Peak_ID       : Ord.factor w/ 17 levels \"chr7-102079071-102081907\"<..: 17 17 17 17 17 17 17 17 16 16 ...\n",
      " $ zscore        : num  6.21 6.21 6.21 6.21 6.21 ...\n",
      " $ baseMean      : num  15.69 15.69 15.69 7.91 15.69 ...\n",
      " $ log2FoldChange: num  0.09142 0.01399 0.61522 0.00105 0.07779 ...\n",
      " $ lfcSE         : num  0.1234 0.0487 0.1301 0.0259 0.1128 ...\n",
      " $ pvalue        : num  8.92e-02 1.80e-01 1.32e-07 5.92e-01 1.32e-01 ...\n",
      " $ padj          : num  0.623447 0.966183 0.000312 0.999018 0.658193 ...\n",
      " $ contrast      : Ord.factor w/ 5 levels \"Genotype_rs139141690_HET_vs_wt\"<..: 1 3 4 3 2 2 4 1 3 4 ...\n",
      " $ identity      : Ord.factor w/ 13 levels \"1\"<\"2\"<\"3\"<\"4\"<..: 1 1 1 3 1 3 3 3 3 3 ...\n",
      " $ minuslog10padj: num  0.2052 0.014941 3.505441 0.000427 0.181647 ...\n",
      " $ abslogfc      : num  0.09142 0.01399 0.61522 0.00105 0.07779 ...\n",
      " $ chr           : chr  \"chr16\" \"chr16\" \"chr16\" \"chr16\" ...\n",
      " $ start         : int  88494205 88494205 88494205 88494205 88494205 88494205 88494205 88494205 14771750 14771750 ...\n",
      " $ end           : int  88495023 88495023 88495023 88495023 88495023 88495023 88495023 88495023 14772394 14772394 ...\n",
      " $ SIG           : Ord.factor w/ 2 levels \"NO\"<\"YES\": 1 1 2 1 1 1 1 1 1 1 ...\n",
      " $ other_string  : chr  \"GOBP_MEGAKARYOCYTE_DIFFERENTIATION\" \"GOBP_MEGAKARYOCYTE_DIFFERENTIATION\" \"GOBP_MEGAKARYOCYTE_DIFFERENTIATION\" \"GOBP_MEGAKARYOCYTE_DIFFERENTIATION\" ...\n",
      " $ Gene_class    : Ord.factor w/ 9 levels \"CUX1\"<\"RUNX1\"<..: 4 4 4 4 4 4 4 4 7 7 ...\n",
      " $ myaxis        : Factor w/ 17 levels \"chr7-102079071-102081907\\nCUX1\",..: 17 17 17 17 17 17 17 17 16 16 ...\n",
      "\n",
      "chr16-88494205-88495023 chr3-14771750-14772394 chr9-105063586-105065120 chr22-22085391-22087167 chr7-65980380-65982795 chr8-107751269-107752023 chr7-152434521-152437050 chr7-152462993-152465171 chr7-152674819-152676762 chr7-148697446-148700080 chr7-148882947-148885411 chr7-148940379-148942549 chr7-149027541-149029321 chr7-149146000-149148540 chr21-36149918-36151087 chr7-101855838-101857327 chr7-102079071-102081907\n"
     ]
    }
   ],
   "source": [
    "tile_plot<-tile_plot[order(tile_plot$gene),]\n",
    "\n",
    "if(DEBUG == 1){\n",
    "  cat(\"tile_plot_3\\n\")\n",
    "  cat(str(tile_plot))\n",
    "  cat(\"\\n\")\n",
    "  cat(sprintf(as.character(unique(tile_plot$Peak_ID))))\n",
    "  cat(\"\\n\")\n",
    "}\n",
    "\n",
    "order_peaks<-rev(unique(tile_plot$Peak_ID))\n",
    "\n",
    "\n",
    "tile_plot$Peak_ID<-factor(tile_plot$Peak_ID,\n",
    "                         levels=order_peaks,\n",
    "                         ordered=T)\n",
    "\n",
    "if(DEBUG == 1){\n",
    "  cat(\"tile_plot_4\\n\")\n",
    "  cat(str(tile_plot))\n",
    "  cat(\"\\n\")\n",
    "  cat(sprintf(as.character(unique(tile_plot$Peak_ID))))\n",
    "  cat(\"\\n\")\n",
    "}\n",
    "\n",
    "tile_plot_processed <- tile_plot %>%\n",
    "     mutate(myaxis = paste0(Peak_ID,\"\\n\", gene)) %>%\n",
    "     mutate(myaxis=fct_reorder(myaxis,as.numeric(Peak_ID)))\n",
    "\n",
    "if(DEBUG == 1){\n",
    "  cat(\"tile_plot_processed_0\\n\")\n",
    "  cat(str(tile_plot_processed))\n",
    "  cat(\"\\n\")\n",
    "  cat(sprintf(as.character(unique(tile_plot_processed$Peak_ID))))\n",
    "  cat(\"\\n\")\n",
    "}"
   ]
  },
  {
   "cell_type": "markdown",
   "id": "6294a0e1-bb9b-4781-88ff-fefd1b8b85ef",
   "metadata": {},
   "source": [
    "## Intersect SNP"
   ]
  },
  {
   "cell_type": "code",
   "execution_count": 106,
   "id": "3d1b6bcd-1553-425f-be9a-e06f86a3fb8f",
   "metadata": {
    "execution": {
     "iopub.execute_input": "2025-06-13T17:34:15.803199Z",
     "iopub.status.busy": "2025-06-13T17:34:15.802089Z",
     "iopub.status.idle": "2025-06-13T17:34:15.815850Z",
     "shell.execute_reply": "2025-06-13T17:34:15.814725Z"
    }
   },
   "outputs": [],
   "source": [
    "annotation_data <- tile_plot_processed %>%\n",
    "  filter(Peak_ID == \"chr7-101855838-101857327\") %>%\n",
    "  mutate(label_text = \"rs139141690\") # Add the text you want to display"
   ]
  },
  {
   "cell_type": "markdown",
   "id": "ef74b7a1-fa87-4c85-84da-cc0c7c93f5ac",
   "metadata": {},
   "source": [
    "## graph"
   ]
  },
  {
   "cell_type": "code",
   "execution_count": 109,
   "id": "9ad9cfd1-241a-46a4-9b78-0c37f431c492",
   "metadata": {
    "execution": {
     "iopub.execute_input": "2025-06-13T17:34:42.766129Z",
     "iopub.status.busy": "2025-06-13T17:34:42.764997Z",
     "iopub.status.idle": "2025-06-13T17:34:42.800369Z",
     "shell.execute_reply": "2025-06-13T17:34:42.799150Z"
    }
   },
   "outputs": [],
   "source": [
    " ggheatmap_DE <-ggplot(data=tile_plot_processed,\n",
    "                       aes(x=contrast, y=myaxis, fill = log2FoldChange))+\n",
    "    geom_tile()+\n",
    "    geom_tile(data=subset(tile_plot_processed, SIG == 'NO'), fill = NA, color = \"black\", size = 0.1)+  \n",
    "    scale_fill_gradient2(name=paste(\"log2FC\", sep=\"\\n\"),\n",
    "                         low = \"blue\", high = \"red\",mid=\"white\",midpoint=0,\n",
    "                         na.value = NA)\n",
    "\n",
    "ggheatmap_DE <- ggheatmap_DE +\n",
    "  geom_text(data = annotation_data, # Use the specific annotation data\n",
    "            aes(label = label_text), # Map the label_text column to the label aesthetic\n",
    "            color = \"black\",         # Color of the text\n",
    "            size = 1,                # Size of the text (adjust as needed)\n",
    "            vjust = 0.5,             # Vertical justification (0 = bottom, 1 = top, 0.5 = middle)\n",
    "            hjust = 0.5)             # Horizontal justification (0 = left, 1 = right, 0.5 = middle)\n",
    "\n",
    "\n",
    "\n",
    "ggheatmap_DE<-ggheatmap_DE+\n",
    "                     theme_cowplot(font_size = 2,\n",
    "                  font_family = \"sans\")+\n",
    "                     facet_grid(Gene_class ~ identity ,\n",
    "             scales='free_y', space='free_y', switch=\"y\",\n",
    "             labeller = labeller(Gene_class = function(labels) paste(\"Gene Class:\", labels))) + # Add a label for the Gene_class facet\n",
    "                    theme( strip.background = element_blank(),\n",
    "                           strip.placement = \"outside\",\n",
    "                           strip.text = element_text(size=5,color=\"black\", family=\"sans\"),\n",
    "                           panel.spacing = unit(0.2, \"lines\"),\n",
    "                           panel.background=element_rect(fill=\"white\"),\n",
    "                           panel.border=element_rect(colour=\"white\",size=0,5),\n",
    "                           panel.grid.major = element_blank(),\n",
    "                           panel.grid.minor = element_blank())+\n",
    "            theme_classic()+\n",
    "           theme(axis.title.y=element_blank(),\n",
    "                 axis.title.x=element_blank(),\n",
    "                 axis.text.y=element_text(size=8, color=\"black\", family=\"sans\"),\n",
    "                 axis.text.x=element_text(angle=45,size=8,vjust=1, hjust=1, color=\"black\", family=\"sans\"),\n",
    "                 axis.line.x = element_line(size = 0.4),\n",
    "                 axis.ticks.x = element_blank(),\n",
    "                 axis.ticks.y = element_line(size = 0.4),\n",
    "                 axis.line.y = element_line(size = 0.4))+\n",
    "           theme(legend.title = element_text(size=12),\n",
    "                 legend.text = element_text(size=8),\n",
    "                 legend.key.size = unit(0.5, 'cm'), #change legend key size\n",
    "                 legend.key.height = unit(0.5, 'cm'), #change legend key height\n",
    "                 legend.key.width = unit(0.5, 'cm'), #change legend key width\n",
    "                 legend.position=\"right\")+\n",
    "           ggeasy::easy_center_title()"
   ]
  },
  {
   "cell_type": "code",
   "execution_count": 110,
   "id": "c4594d9b-0c21-40f5-90c5-36c24bcc79a9",
   "metadata": {
    "execution": {
     "iopub.execute_input": "2025-06-13T17:34:43.278270Z",
     "iopub.status.busy": "2025-06-13T17:34:43.277302Z",
     "iopub.status.idle": "2025-06-13T17:34:43.770600Z",
     "shell.execute_reply": "2025-06-13T17:34:43.769358Z"
    }
   },
   "outputs": [
    {
     "name": "stderr",
     "output_type": "stream",
     "text": [
      "\u001b[1m\u001b[22mSaving 7 x 7 in image\n"
     ]
    }
   ],
   "source": [
    "setwd(path_graphs)\n",
    "\n",
    "svgname<-paste(\"Figure_5_panel_D_DA_part\",\".svg\",sep='')\n",
    "\n",
    "ggsave(svgname,plot=ggheatmap_DE, device ='svg')"
   ]
  },
  {
   "cell_type": "code",
   "execution_count": null,
   "id": "3838bcf8-e223-4594-9a76-5ada8b483a90",
   "metadata": {},
   "outputs": [],
   "source": []
  }
 ],
 "metadata": {
  "kernelspec": {
   "display_name": "R [conda env:multiome_NEW_downstream_analysis]",
   "language": "R",
   "name": "conda-env-multiome_NEW_downstream_analysis-r"
  },
  "language_info": {
   "codemirror_mode": "r",
   "file_extension": ".r",
   "mimetype": "text/x-r-source",
   "name": "R",
   "pygments_lexer": "r",
   "version": "4.4.3"
  }
 },
 "nbformat": 4,
 "nbformat_minor": 5
}
