{
 "cells": [
  {
   "cell_type": "markdown",
   "id": "6aa90505-d963-4f35-be51-e57a2b285ffa",
   "metadata": {},
   "source": [
    "# Load packages and libraries"
   ]
  },
  {
   "cell_type": "code",
   "execution_count": 1,
   "id": "abcc97a1-28a1-4588-939d-0adc2b54439d",
   "metadata": {
    "execution": {
     "iopub.execute_input": "2025-06-13T15:12:14.667861Z",
     "iopub.status.busy": "2025-06-13T15:12:14.665573Z",
     "iopub.status.idle": "2025-06-13T15:12:21.196865Z",
     "shell.execute_reply": "2025-06-13T15:12:21.195531Z"
    },
    "vscode": {
     "languageId": "r"
    }
   },
   "outputs": [
    {
     "data": {
      "text/html": [
       "'/group/soranzo/conda_envs/multiome_NEW_downstream_analysis/lib/R/library'"
      ],
      "text/latex": [
       "'/group/soranzo/conda\\_envs/multiome\\_NEW\\_downstream\\_analysis/lib/R/library'"
      ],
      "text/markdown": [
       "'/group/soranzo/conda_envs/multiome_NEW_downstream_analysis/lib/R/library'"
      ],
      "text/plain": [
       "[1] \"/group/soranzo/conda_envs/multiome_NEW_downstream_analysis/lib/R/library\""
      ]
     },
     "metadata": {},
     "output_type": "display_data"
    },
    {
     "data": {
      "text/html": [
       "'/home/manuel.tardaguila/conda_envs/multiome_NEW_downstream_analysis/lib/R/library'"
      ],
      "text/latex": [
       "'/home/manuel.tardaguila/conda\\_envs/multiome\\_NEW\\_downstream\\_analysis/lib/R/library'"
      ],
      "text/markdown": [
       "'/home/manuel.tardaguila/conda_envs/multiome_NEW_downstream_analysis/lib/R/library'"
      ],
      "text/plain": [
       "[1] \"/home/manuel.tardaguila/conda_envs/multiome_NEW_downstream_analysis/lib/R/library\""
      ]
     },
     "metadata": {},
     "output_type": "display_data"
    }
   ],
   "source": [
    ".libPaths()\n",
    "assign(\".lib.loc\", \"/home/manuel.tardaguila/conda_envs/multiome_NEW_downstream_analysis/lib/R/library\", envir = environment(.libPaths))\n",
    ".libPaths()\n",
    "# sessionInfo()\n",
    "\n",
    "\n",
    "suppressMessages(library(dplyr)) \n",
    "suppressMessages(library(ggplot2)) \n",
    "suppressMessages(library(Matrix)) \n",
    "suppressMessages(library(data.table)) \n",
    "suppressMessages(library(ggpubr)) \n",
    "suppressMessages(library(ggplot2))\n",
    "suppressMessages(library(pheatmap))\n",
    "suppressMessages(library(\"cowplot\"))\n",
    "suppressMessages(library(\"RColorBrewer\"))\n",
    "suppressMessages(library(\"plyr\"))\n",
    "suppressMessages(library(\"forcats\"))\n",
    "suppressMessages(library('ggeasy'))\n",
    "suppressMessages(library('dplyr'))\n",
    "suppressMessages(library(\"svglite\"))\n",
    "suppressMessages(library(\"ape\"))\n",
    "suppressMessages(library(\"ggforce\"))\n",
    "suppressMessages(library(\"tidyr\"))\n",
    "suppressMessages(library(\"tibble\")) \n",
    "library(\"ggrepel\")\n",
    "\n",
    "library(\"optparse\")\n",
    "suppressMessages(library(\"splitstackshape\")) \n",
    "suppressMessages(library(\"ggupset\"))\n",
    "\n"
   ]
  },
  {
   "cell_type": "markdown",
   "id": "862a5efe-7465-4bfe-9ad6-0f6205a89f5c",
   "metadata": {},
   "source": [
    "# Read DE results"
   ]
  },
  {
   "cell_type": "code",
   "execution_count": 2,
   "id": "d382728b-67ab-4eba-b48e-664d47fd9a10",
   "metadata": {
    "execution": {
     "iopub.execute_input": "2025-06-13T15:12:21.224146Z",
     "iopub.status.busy": "2025-06-13T15:12:21.202686Z",
     "iopub.status.idle": "2025-06-13T15:12:21.233206Z",
     "shell.execute_reply": "2025-06-13T15:12:21.232055Z"
    },
    "vscode": {
     "languageId": "r"
    }
   },
   "outputs": [],
   "source": [
    "setwd(\"/group/soranzo/manuel.tardaguila/2025_K562_multiome_reanalysis/Downstream_analysis/DE_per_cluster/\")"
   ]
  },
  {
   "cell_type": "code",
   "execution_count": 3,
   "id": "d76aa8d2-01fc-4d8b-9706-ec5784b3d36b",
   "metadata": {
    "execution": {
     "iopub.execute_input": "2025-06-13T15:12:21.235890Z",
     "iopub.status.busy": "2025-06-13T15:12:21.234936Z",
     "iopub.status.idle": "2025-06-13T15:12:22.005605Z",
     "shell.execute_reply": "2025-06-13T15:12:22.004421Z"
    },
    "vscode": {
     "languageId": "r"
    }
   },
   "outputs": [
    {
     "name": "stdout",
     "output_type": "stream",
     "text": [
      "DE_results_0\n",
      "'data.frame':\t322320 obs. of  10 variables:\n",
      " $ gene          : chr  \"PURPL\" \"GNB1\" \"RER1\" \"RPL22\" ...\n",
      " $ baseMean      : num  9.2 5.98 6.08 11.84 32.94 ...\n",
      " $ log2FoldChange: num  8.62e-06 -2.07e-06 1.73e-06 -4.44e-06 -3.18e-06 ...\n",
      " $ lfcSE         : num  0.00144 0.00144 0.00144 0.00144 0.00144 ...\n",
      " $ pvalue        : num  9.88e-06 3.22e-01 4.99e-01 1.12e-01 2.55e-01 ...\n",
      " $ padj          : num  0.0159 0.9976 0.9976 0.9976 0.9976 ...\n",
      " $ contrast      : Ord.factor w/ 5 levels \"Genotype_rs139141690_HET_vs_wt\"<..: 1 1 1 1 1 1 1 1 1 1 ...\n",
      " $ identity      : Ord.factor w/ 13 levels \"1\"<\"2\"<\"3\"<\"4\"<..: 13 13 13 13 13 13 13 13 13 13 ...\n",
      " $ minuslog10padj: num  1.79762 0.00104 0.00104 0.00104 0.00104 ...\n",
      " $ abslogfc      : num  8.62e-06 2.07e-06 1.73e-06 4.44e-06 3.18e-06 ...\n",
      "\n"
     ]
    }
   ],
   "source": [
    "DE_results<-readRDS(file=\"DE_results_Diff_K562.rds\")\n",
    "\n",
    "cat(\"DE_results_0\\n\")\n",
    "cat(str(DE_results))\n",
    "cat(\"\\n\")\n",
    "\n"
   ]
  },
  {
   "cell_type": "markdown",
   "id": "b4a8efc0-ebb8-4b25-a6ef-83be3d0fbf24",
   "metadata": {},
   "source": [
    "# Read ORA annotations"
   ]
  },
  {
   "cell_type": "code",
   "execution_count": 4,
   "id": "16956f7b-f30d-49bd-933e-59e88f9e772b",
   "metadata": {
    "execution": {
     "iopub.execute_input": "2025-06-13T15:12:22.008353Z",
     "iopub.status.busy": "2025-06-13T15:12:22.007390Z",
     "iopub.status.idle": "2025-06-13T15:12:22.016913Z",
     "shell.execute_reply": "2025-06-13T15:12:22.015813Z"
    },
    "vscode": {
     "languageId": "r"
    }
   },
   "outputs": [],
   "source": [
    "setwd(\"/group/soranzo/manuel.tardaguila/2025_K562_multiome_reanalysis/Downstream_analysis/DE_per_cluster/\")"
   ]
  },
  {
   "cell_type": "code",
   "execution_count": 5,
   "id": "25db352f-aa00-45ec-a939-576e1598460e",
   "metadata": {
    "execution": {
     "iopub.execute_input": "2025-06-13T15:12:22.019621Z",
     "iopub.status.busy": "2025-06-13T15:12:22.018694Z",
     "iopub.status.idle": "2025-06-13T15:12:22.143805Z",
     "shell.execute_reply": "2025-06-13T15:12:22.142667Z"
    },
    "vscode": {
     "languageId": "r"
    }
   },
   "outputs": [
    {
     "name": "stdout",
     "output_type": "stream",
     "text": [
      "annotation_file_0\n",
      "'data.frame':\t1914 obs. of  5 variables:\n",
      " $ gene         : chr  \"10006\" \"10006\" \"100133941\" \"10049\" ...\n",
      " $ identity     : int  3 1 1 1 3 3 1 3 1 3 ...\n",
      " $ diffexpressed: chr  \"UP\" \"UP\" \"DOWN\" \"DOWN\" ...\n",
      " $ other        : chr  \"TRAVAGLINI_LUNG_PLATELET_MEGAKARYOCYTE_CELL\" \"TRAVAGLINI_LUNG_PLATELET_MEGAKARYOCYTE_CELL\" \"DUNNE_TARGETS_OF_AML1_MTG8_FUSION_UP|GSE10325_BCELL_VS_MYELOID_UP\" \"TRAVAGLINI_LUNG_PLATELET_MEGAKARYOCYTE_CELL\" ...\n",
      " $ TF_targets   : chr  NA NA NA NA ...\n",
      "\n"
     ]
    },
    {
     "name": "stderr",
     "output_type": "stream",
     "text": [
      "Warning message in type.convert.default(unlist(x, use.names = FALSE)):\n",
      "“'as.is' should be specified by the caller; using TRUE”\n"
     ]
    },
    {
     "name": "stdout",
     "output_type": "stream",
     "text": [
      "annotation_file_long_0\n",
      "'data.frame':\t2533 obs. of  5 variables:\n",
      " $ gene         : chr  \"A2M\" \"A2M\" \"ABCA8\" \"ABCB1\" ...\n",
      " $ identity     : int  3 3 3 7 7 3 4 3 1 3 ...\n",
      " $ diffexpressed: chr  \"UP\" \"UP\" \"UP\" \"DOWN\" ...\n",
      " $ other        : chr  \"GOCC_PLATELET_ALPHA_GRANULE\" \"GOCC_PLATELET_ALPHA_GRANULE_LUMEN\" NA \"In-house Aged vs Young HSC\" ...\n",
      " $ TF_targets   : chr  NA NA \"Dorothea_ABC_GATA2_targets\" NA ...\n",
      "\n"
     ]
    }
   ],
   "source": [
    "annotation_file<-read.table(file=\"genes_ORA_annotated_Diff_K562.tsv\", sep=\"\\t\", header=T)\n",
    "\n",
    "cat(\"annotation_file_0\\n\")\n",
    "cat(str(annotation_file))\n",
    "cat(\"\\n\")\n",
    "\n",
    "\n",
    "annotation_file_gene_names<-annotation_file[-grep(\"^[0-9]+$\",annotation_file$gene),]\n",
    "\n",
    "annotation_file_long<-unique(as.data.frame(cSplit(annotation_file_gene_names,sep = '|', direction = \"long\",\n",
    "                                                    splitCols = \"other\"),stringsAsFactors=F))\n",
    "  \n",
    "cat(\"annotation_file_long_0\\n\")\n",
    "cat(str(annotation_file_long))\n",
    "cat(\"\\n\")"
   ]
  },
  {
   "cell_type": "code",
   "execution_count": 6,
   "id": "11927148-6f65-41ae-9897-5f6d525aad94",
   "metadata": {
    "execution": {
     "iopub.execute_input": "2025-06-13T15:12:22.146515Z",
     "iopub.status.busy": "2025-06-13T15:12:22.145578Z",
     "iopub.status.idle": "2025-06-13T15:12:22.157083Z",
     "shell.execute_reply": "2025-06-13T15:12:22.155940Z"
    }
   },
   "outputs": [
    {
     "data": {
      "text/html": [
       "741"
      ],
      "text/latex": [
       "741"
      ],
      "text/markdown": [
       "741"
      ],
      "text/plain": [
       "[1] 741"
      ]
     },
     "metadata": {},
     "output_type": "display_data"
    }
   ],
   "source": [
    "length(grep(\"^[0-9]+$\",annotation_file$gene))"
   ]
  },
  {
   "cell_type": "markdown",
   "id": "1678027f-7619-4be8-8eac-0ce54f7398cf",
   "metadata": {},
   "source": [
    "# Selected annotations"
   ]
  },
  {
   "cell_type": "code",
   "execution_count": 46,
   "id": "e6c0a9d2-17f9-402f-887f-b4eb65897f8e",
   "metadata": {
    "execution": {
     "iopub.execute_input": "2025-06-13T15:28:04.688411Z",
     "iopub.status.busy": "2025-06-13T15:28:04.687372Z",
     "iopub.status.idle": "2025-06-13T15:28:04.699792Z",
     "shell.execute_reply": "2025-06-13T15:28:04.698728Z"
    }
   },
   "outputs": [],
   "source": [
    "#WP_PI3KAKT_SIGNALING"
   ]
  },
  {
   "cell_type": "code",
   "execution_count": 47,
   "id": "e0392c2b-fd89-461f-b539-af07074ef747",
   "metadata": {
    "execution": {
     "iopub.execute_input": "2025-06-13T15:28:04.894243Z",
     "iopub.status.busy": "2025-06-13T15:28:04.893312Z",
     "iopub.status.idle": "2025-06-13T15:28:04.902467Z",
     "shell.execute_reply": "2025-06-13T15:28:04.901311Z"
    }
   },
   "outputs": [],
   "source": [
    "annotations<-c(\"GOBP_MEGAKARYOCYTE_DIFFERENTIATION\",\"HP_ABNORMAL_PLATELET_VOLUME\",\"HP_INCREASED_MEAN_PLATELET_VOLUME\",\"AKT_UP_MTOR_DN.V1_UP\",\"WP_PI3KAKT_SIGNALING\")"
   ]
  },
  {
   "cell_type": "code",
   "execution_count": 48,
   "id": "b03e60f1-1c78-4208-8f6b-6072237d79fb",
   "metadata": {
    "execution": {
     "iopub.execute_input": "2025-06-13T15:28:05.065011Z",
     "iopub.status.busy": "2025-06-13T15:28:05.064075Z",
     "iopub.status.idle": "2025-06-13T15:28:05.097636Z",
     "shell.execute_reply": "2025-06-13T15:28:05.096507Z"
    }
   },
   "outputs": [
    {
     "name": "stdout",
     "output_type": "stream",
     "text": [
      "annotation_file_long_sel_0\n",
      "'data.frame':\t71 obs. of  5 variables:\n",
      " $ gene         : chr  \"ABI1\" \"ABI1\" \"ACTB\" \"ACTB\" ...\n",
      " $ identity     : int  3 1 1 1 3 1 3 1 7 4 ...\n",
      " $ diffexpressed: chr  \"UP\" \"UP\" \"DOWN\" \"DOWN\" ...\n",
      " $ other        : chr  \"GOBP_MEGAKARYOCYTE_DIFFERENTIATION\" \"GOBP_MEGAKARYOCYTE_DIFFERENTIATION\" \"HP_ABNORMAL_PLATELET_VOLUME\" \"HP_INCREASED_MEAN_PLATELET_VOLUME\" ...\n",
      " $ TF_targets   : chr  \"PU1_Q6|RGAGGAARY_PU1_Q6\" \"PU1_Q6|RGAGGAARY_PU1_Q6\" \"Dorothea_ABCDE_CUX1_targets|Dorothea_ABCD_CUX1_targets\" \"Dorothea_ABCDE_CUX1_targets|Dorothea_ABCD_CUX1_targets\" ...\n",
      "\n",
      " chr [1:43] \"ABI1\" \"ACTB\" \"ADAM10\" \"ANGPT1\" \"ARRDC4\" \"ATF3\" \"C3orf52\" ...\n",
      "\n",
      "ABI1 ACTB ADAM10 ANGPT1 ARRDC4 ATF3 C3orf52 CD55 CIR1 DHCR24 DIAPH1 FGF13 FLNA FOXO3 FYB1 GFI1B GUSB HOXB3 IL1R1 ITGA2B KIT LAMA2 MAPK1 MEF2C MEIS1 MYB PIK3CA PIP4K2A PKN2 PLAGL1 PPP2R3A RBL2 SGPL1 SH2B3 SLC44A1 SLC6A6 SOS1 SUCO TOR3A TPM4 TUBB1 WASF2 ZFPM1\n",
      "\n",
      "GOBP_MEGAKARYOCYTE_DIFFERENTIATION HP_ABNORMAL_PLATELET_VOLUME HP_INCREASED_MEAN_PLATELET_VOLUME AKT_UP_MTOR_DN.V1_UP WP_PI3KAKT_SIGNALING\n"
     ]
    }
   ],
   "source": [
    "annotation_file_long_sel<-annotation_file_long[grep(paste(annotations, collapse=\"|\"), annotation_file_long$other),]\n",
    "\n",
    "cat(\"annotation_file_long_sel_0\\n\")\n",
    "cat(str(annotation_file_long_sel))\n",
    "cat(\"\\n\")\n",
    "cat(str(unique(annotation_file_long_sel$gene)))\n",
    "cat(\"\\n\")\n",
    "\n",
    "cat(sprintf(as.character(unique(annotation_file_long_sel$gene))))\n",
    "cat(\"\\n\")\n",
    "cat(\"\\n\")\n",
    "\n",
    "cat(sprintf(as.character(unique(annotation_file_long_sel$other))))\n",
    "cat(\"\\n\")\n"
   ]
  },
  {
   "cell_type": "code",
   "execution_count": 49,
   "id": "e6ea935b-9904-4d06-ae64-3c74d40d6428",
   "metadata": {
    "execution": {
     "iopub.execute_input": "2025-06-13T15:28:05.230835Z",
     "iopub.status.busy": "2025-06-13T15:28:05.229891Z",
     "iopub.status.idle": "2025-06-13T15:28:05.246909Z",
     "shell.execute_reply": "2025-06-13T15:28:05.245743Z"
    }
   },
   "outputs": [
    {
     "name": "stdout",
     "output_type": "stream",
     "text": [
      "annotation_file_long_sel_for_collapse_0\n",
      "'data.frame':\t50 obs. of  2 variables:\n",
      " $ gene : chr  \"ABI1\" \"ACTB\" \"ACTB\" \"ADAM10\" ...\n",
      " $ other: chr  \"GOBP_MEGAKARYOCYTE_DIFFERENTIATION\" \"HP_ABNORMAL_PLATELET_VOLUME\" \"HP_INCREASED_MEAN_PLATELET_VOLUME\" \"AKT_UP_MTOR_DN.V1_UP\" ...\n",
      "\n"
     ]
    }
   ],
   "source": [
    "annotation_file_long_sel_for_collapse<-unique(annotation_file_long_sel[,which(colnames(annotation_file_long_sel)%in%c('gene','other'))])\n",
    "\n",
    "annotation_file_long_sel_for_collapse<-annotation_file_long_sel_for_collapse[order(annotation_file_long_sel_for_collapse$gene, annotation_file_long_sel_for_collapse$other),]\n",
    "\n",
    "cat(\"annotation_file_long_sel_for_collapse_0\\n\")\n",
    "cat(str(annotation_file_long_sel_for_collapse))\n",
    "cat(\"\\n\")"
   ]
  },
  {
   "cell_type": "code",
   "execution_count": 50,
   "id": "c4e67e11-929d-4370-8094-ffec1852931f",
   "metadata": {
    "execution": {
     "iopub.execute_input": "2025-06-13T15:28:05.391718Z",
     "iopub.status.busy": "2025-06-13T15:28:05.390781Z",
     "iopub.status.idle": "2025-06-13T15:28:05.416679Z",
     "shell.execute_reply": "2025-06-13T15:28:05.415532Z"
    }
   },
   "outputs": [
    {
     "name": "stdout",
     "output_type": "stream",
     "text": [
      "annotation_file_sel_collapsed_0\n",
      "'data.frame':\t43 obs. of  2 variables:\n",
      " $ gene        : chr  \"ABI1\" \"ACTB\" \"ADAM10\" \"ANGPT1\" ...\n",
      " $ other_string: chr  \"GOBP_MEGAKARYOCYTE_DIFFERENTIATION\" \"HP_ABNORMAL_PLATELET_VOLUME|HP_INCREASED_MEAN_PLATELET_VOLUME\" \"AKT_UP_MTOR_DN.V1_UP\" \"WP_PI3KAKT_SIGNALING\" ...\n",
      "\n",
      "AKT_UP_MTOR_DN.V1_UP GOBP_MEGAKARYOCYTE_DIFFERENTIATION HP_ABNORMAL_PLATELET_VOLUME HP_ABNORMAL_PLATELET_VOLUME|HP_INCREASED_MEAN_PLATELET_VOLUME WP_PI3KAKT_SIGNALING\n",
      "16 9 1 7 10\n"
     ]
    }
   ],
   "source": [
    "annotation_file_long_sel_for_collapse.dt<-data.table(annotation_file_long_sel_for_collapse, key='gene')\n",
    "      \n",
    "annotation_file_sel_collapsed<-unique(as.data.frame(annotation_file_long_sel_for_collapse.dt[,.(other_string=paste(other, collapse=\"|\")), by=key(annotation_file_long_sel_for_collapse.dt)], stringsAsFactors=F))\n",
    "\n",
    "\n",
    "\n",
    "cat(\"annotation_file_sel_collapsed_0\\n\")\n",
    "cat(str(annotation_file_sel_collapsed))\n",
    "cat(\"\\n\")\n",
    "cat(names(summary(as.factor(annotation_file_sel_collapsed$other_string))))\n",
    "cat(\"\\n\")\n",
    "cat(summary(as.factor(annotation_file_sel_collapsed$other_string)))\n",
    "cat(\"\\n\")\n",
    "      "
   ]
  },
  {
   "cell_type": "markdown",
   "id": "d09e3e34-4eb8-4d1b-8909-a15a2fde6c21",
   "metadata": {},
   "source": [
    "# Selected genes"
   ]
  },
  {
   "cell_type": "code",
   "execution_count": 51,
   "id": "94f63907-4c08-4e2f-afb8-4832c0b7245f",
   "metadata": {
    "execution": {
     "iopub.execute_input": "2025-06-13T15:28:05.747764Z",
     "iopub.status.busy": "2025-06-13T15:28:05.746844Z",
     "iopub.status.idle": "2025-06-13T15:28:05.765382Z",
     "shell.execute_reply": "2025-06-13T15:28:05.764230Z"
    }
   },
   "outputs": [
    {
     "name": "stdout",
     "output_type": "stream",
     "text": [
      "selected_genes_df_0\n",
      "'data.frame':\t4 obs. of  2 variables:\n",
      " $ gene        : chr  \"CUX1\" \"RUNX1\" \"EZH2\" \"XRCC2\"\n",
      " $ other_string: chr  \"CUX1\" \"RUNX1\" \"EZH2 and targets\" \"EZH2 and targets\"\n",
      "\n"
     ]
    }
   ],
   "source": [
    "genes<-c(\"CUX1\",\"RUNX1\",\"EZH2\",\"XRCC2\")\n",
    "\n",
    "annotation_of_selected_genes<-c(\"CUX1\",\"RUNX1\",rep(\"EZH2 and targets\",2))\n",
    "\n",
    "\n",
    "selected_genes_df<-as.data.frame(cbind(genes,annotation_of_selected_genes))\n",
    "\n",
    "colnames(selected_genes_df)<-c(\"gene\",\"other_string\")\n",
    "\n",
    "cat(\"selected_genes_df_0\\n\")\n",
    "cat(str(selected_genes_df))\n",
    "cat(\"\\n\")"
   ]
  },
  {
   "cell_type": "markdown",
   "id": "3fedff56-0a16-44f9-b699-b710e4e93b44",
   "metadata": {},
   "source": [
    "# Put together and select from DE genes"
   ]
  },
  {
   "cell_type": "code",
   "execution_count": 52,
   "id": "d88acc6b-8c6b-494f-b140-7d6962d0e2ce",
   "metadata": {
    "execution": {
     "iopub.execute_input": "2025-06-13T15:28:06.086000Z",
     "iopub.status.busy": "2025-06-13T15:28:06.085079Z",
     "iopub.status.idle": "2025-06-13T15:28:06.110601Z",
     "shell.execute_reply": "2025-06-13T15:28:06.109525Z"
    }
   },
   "outputs": [
    {
     "name": "stdout",
     "output_type": "stream",
     "text": [
      "REP_genes_0\n",
      "'data.frame':\t47 obs. of  2 variables:\n",
      " $ gene        : chr  \"CUX1\" \"RUNX1\" \"EZH2\" \"XRCC2\" ...\n",
      " $ other_string: chr  \"CUX1\" \"RUNX1\" \"EZH2 and targets\" \"EZH2 and targets\" ...\n",
      "\n",
      " chr [1:47] \"CUX1\" \"RUNX1\" \"EZH2\" \"XRCC2\" \"ABI1\" \"ACTB\" \"ADAM10\" \"ANGPT1\" ...\n",
      "\n"
     ]
    }
   ],
   "source": [
    "REP_genes<-rbind(selected_genes_df,annotation_file_sel_collapsed)\n",
    "\n",
    "cat(\"REP_genes_0\\n\")\n",
    "cat(str(REP_genes))\n",
    "cat(\"\\n\")\n",
    "cat(str(unique(REP_genes$gene)))\n",
    "cat(\"\\n\")"
   ]
  },
  {
   "cell_type": "code",
   "execution_count": 53,
   "id": "21d4fc45-49af-476e-88f6-d60ab21db44d",
   "metadata": {
    "execution": {
     "iopub.execute_input": "2025-06-13T15:28:06.311000Z",
     "iopub.status.busy": "2025-06-13T15:28:06.310032Z",
     "iopub.status.idle": "2025-06-13T15:28:06.321261Z",
     "shell.execute_reply": "2025-06-13T15:28:06.320181Z"
    }
   },
   "outputs": [
    {
     "name": "stdout",
     "output_type": "stream",
     "text": [
      "'data.frame':\t47 obs. of  2 variables:\n",
      " $ gene        : chr  \"CUX1\" \"RUNX1\" \"EZH2\" \"XRCC2\" ...\n",
      " $ other_string: chr  \"CUX1\" \"RUNX1\" \"EZH2 and targets\" \"EZH2 and targets\" ...\n"
     ]
    }
   ],
   "source": [
    "str(REP_genes)"
   ]
  },
  {
   "cell_type": "code",
   "execution_count": 54,
   "id": "ad2d21df-9715-4a27-9da2-f011abc9c4d3",
   "metadata": {
    "execution": {
     "iopub.execute_input": "2025-06-13T15:28:06.448668Z",
     "iopub.status.busy": "2025-06-13T15:28:06.447792Z",
     "iopub.status.idle": "2025-06-13T15:28:06.458639Z",
     "shell.execute_reply": "2025-06-13T15:28:06.457518Z"
    }
   },
   "outputs": [
    {
     "data": {
      "text/html": [
       "<style>\n",
       ".list-inline {list-style: none; margin:0; padding: 0}\n",
       ".list-inline>li {display: inline-block}\n",
       ".list-inline>li:not(:last-child)::after {content: \"\\00b7\"; padding: 0 .5ex}\n",
       "</style>\n",
       "<ol class=list-inline><li>'AKT_UP_MTOR_DN.V1_UP'</li><li>'CUX1'</li><li>'EZH2 and targets'</li><li>'GOBP_MEGAKARYOCYTE_DIFFERENTIATION'</li><li>'HP_ABNORMAL_PLATELET_VOLUME'</li><li>'HP_ABNORMAL_PLATELET_VOLUME|HP_INCREASED_MEAN_PLATELET_VOLUME'</li><li>'RUNX1'</li><li>'WP_PI3KAKT_SIGNALING'</li></ol>\n"
      ],
      "text/latex": [
       "\\begin{enumerate*}\n",
       "\\item 'AKT\\_UP\\_MTOR\\_DN.V1\\_UP'\n",
       "\\item 'CUX1'\n",
       "\\item 'EZH2 and targets'\n",
       "\\item 'GOBP\\_MEGAKARYOCYTE\\_DIFFERENTIATION'\n",
       "\\item 'HP\\_ABNORMAL\\_PLATELET\\_VOLUME'\n",
       "\\item 'HP\\_ABNORMAL\\_PLATELET\\_VOLUME\\textbar{}HP\\_INCREASED\\_MEAN\\_PLATELET\\_VOLUME'\n",
       "\\item 'RUNX1'\n",
       "\\item 'WP\\_PI3KAKT\\_SIGNALING'\n",
       "\\end{enumerate*}\n"
      ],
      "text/markdown": [
       "1. 'AKT_UP_MTOR_DN.V1_UP'\n",
       "2. 'CUX1'\n",
       "3. 'EZH2 and targets'\n",
       "4. 'GOBP_MEGAKARYOCYTE_DIFFERENTIATION'\n",
       "5. 'HP_ABNORMAL_PLATELET_VOLUME'\n",
       "6. 'HP_ABNORMAL_PLATELET_VOLUME|HP_INCREASED_MEAN_PLATELET_VOLUME'\n",
       "7. 'RUNX1'\n",
       "8. 'WP_PI3KAKT_SIGNALING'\n",
       "\n",
       "\n"
      ],
      "text/plain": [
       "[1] \"AKT_UP_MTOR_DN.V1_UP\"                                         \n",
       "[2] \"CUX1\"                                                         \n",
       "[3] \"EZH2 and targets\"                                             \n",
       "[4] \"GOBP_MEGAKARYOCYTE_DIFFERENTIATION\"                           \n",
       "[5] \"HP_ABNORMAL_PLATELET_VOLUME\"                                  \n",
       "[6] \"HP_ABNORMAL_PLATELET_VOLUME|HP_INCREASED_MEAN_PLATELET_VOLUME\"\n",
       "[7] \"RUNX1\"                                                        \n",
       "[8] \"WP_PI3KAKT_SIGNALING\"                                         "
      ]
     },
     "metadata": {},
     "output_type": "display_data"
    }
   ],
   "source": [
    "names(summary(as.factor(REP_genes$other_string)))"
   ]
  },
  {
   "cell_type": "code",
   "execution_count": 55,
   "id": "7e48ab6f-8f33-4b3b-bad3-5bcae6a541b4",
   "metadata": {
    "execution": {
     "iopub.execute_input": "2025-06-13T15:28:06.615832Z",
     "iopub.status.busy": "2025-06-13T15:28:06.614944Z",
     "iopub.status.idle": "2025-06-13T15:28:06.623494Z",
     "shell.execute_reply": "2025-06-13T15:28:06.622476Z"
    }
   },
   "outputs": [],
   "source": [
    "REP_genes$Gene_class<-NA"
   ]
  },
  {
   "cell_type": "code",
   "execution_count": 56,
   "id": "f96c70aa-c23c-4b89-9b5d-2df98266ff6a",
   "metadata": {
    "execution": {
     "iopub.execute_input": "2025-06-13T15:28:06.785499Z",
     "iopub.status.busy": "2025-06-13T15:28:06.784601Z",
     "iopub.status.idle": "2025-06-13T15:28:06.793360Z",
     "shell.execute_reply": "2025-06-13T15:28:06.792338Z"
    }
   },
   "outputs": [],
   "source": [
    "REP_genes$Gene_class<-factor(REP_genes$other_string,\n",
    "                            levels=c('CUX1',\n",
    "                                    'RUNX1',\n",
    "                                    'EZH2 and targets',\n",
    "                                    'GOBP_MEGAKARYOCYTE_DIFFERENTIATION',\n",
    "                                    'HP_ABNORMAL_PLATELET_VOLUME',\n",
    "                                    'HP_ABNORMAL_PLATELET_VOLUME|HP_INCREASED_MEAN_PLATELET_VOLUME',\n",
    "                                    'AKT_UP_MTOR_DN.V1_UP',\n",
    "                                    'WP_PI3KAKT_SIGNALING',\n",
    "                                    'AKT_UP_MTOR_DN.V1_UP|WP_PI3KAKT_SIGNALING'),\n",
    "                            ordered=T)"
   ]
  },
  {
   "cell_type": "code",
   "execution_count": 57,
   "id": "32c112da-3e9f-429c-a0ad-f3ef58c98b34",
   "metadata": {
    "execution": {
     "iopub.execute_input": "2025-06-13T15:28:06.963725Z",
     "iopub.status.busy": "2025-06-13T15:28:06.962844Z",
     "iopub.status.idle": "2025-06-13T15:28:06.973915Z",
     "shell.execute_reply": "2025-06-13T15:28:06.972771Z"
    }
   },
   "outputs": [
    {
     "name": "stdout",
     "output_type": "stream",
     "text": [
      "'data.frame':\t47 obs. of  3 variables:\n",
      " $ gene        : chr  \"CUX1\" \"RUNX1\" \"EZH2\" \"XRCC2\" ...\n",
      " $ other_string: chr  \"CUX1\" \"RUNX1\" \"EZH2 and targets\" \"EZH2 and targets\" ...\n",
      " $ Gene_class  : Ord.factor w/ 9 levels \"CUX1\"<\"RUNX1\"<..: 1 2 3 3 4 6 7 8 7 7 ...\n"
     ]
    }
   ],
   "source": [
    "str(REP_genes)"
   ]
  },
  {
   "cell_type": "code",
   "execution_count": 58,
   "id": "dc84c2b4-d243-4592-a10b-ccf1ad7d2855",
   "metadata": {
    "execution": {
     "iopub.execute_input": "2025-06-13T15:28:07.131665Z",
     "iopub.status.busy": "2025-06-13T15:28:07.130787Z",
     "iopub.status.idle": "2025-06-13T15:28:07.171224Z",
     "shell.execute_reply": "2025-06-13T15:28:07.170027Z"
    }
   },
   "outputs": [
    {
     "name": "stdout",
     "output_type": "stream",
     "text": [
      "DE_results_sel_0\n",
      "'data.frame':\t368 obs. of  10 variables:\n",
      " $ gene          : chr  \"PIP4K2A\" \"C3orf52\" \"MEF2C\" \"WASF2\" ...\n",
      " $ baseMean      : num  301.1 6.6 686.9 137.4 33.6 ...\n",
      " $ log2FoldChange: num  0.21776 0.00297 0.0066 0.00122 -0.00421 ...\n",
      " $ lfcSE         : num  0.1375 0.0209 0.022 0.0203 0.0211 ...\n",
      " $ pvalue        : num  0.00255 0.01433 0.02977 0.75244 0.09663 ...\n",
      " $ padj          : num  0.758 0.867 0.986 0.996 0.996 ...\n",
      " $ contrast      : Ord.factor w/ 5 levels \"Genotype_rs139141690_HET_vs_wt\"<..: 1 1 1 1 1 1 1 1 1 1 ...\n",
      " $ identity      : Ord.factor w/ 13 levels \"1\"<\"2\"<\"3\"<\"4\"<..: 3 3 3 3 3 3 3 3 3 3 ...\n",
      " $ minuslog10padj: num  0.1203 0.0618 0.0063 0.0016 0.0016 ...\n",
      " $ abslogfc      : num  0.21776 0.00297 0.0066 0.00122 0.00421 ...\n",
      "\n",
      " chr [1:47] \"PIP4K2A\" \"C3orf52\" \"MEF2C\" \"WASF2\" \"DHCR24\" \"PKN2\" \"SUCO\" ...\n",
      "\n"
     ]
    }
   ],
   "source": [
    "DE_results_sel<-DE_results[which(DE_results$gene%in%REP_genes$gene &\n",
    "                                DE_results$identity%in%c('3','1')),]\n",
    "\n",
    "cat(\"DE_results_sel_0\\n\")\n",
    "cat(str(DE_results_sel))\n",
    "cat(\"\\n\")\n",
    "cat(str(unique(DE_results_sel$gene)))\n",
    "cat(\"\\n\")\n"
   ]
  },
  {
   "cell_type": "markdown",
   "id": "987352a7-e5ca-48fc-9087-2665ccbde7d2",
   "metadata": {},
   "source": [
    "# path to graph"
   ]
  },
  {
   "cell_type": "code",
   "execution_count": 59,
   "id": "fd717a34-8c52-44b7-95d6-b051b9e3536e",
   "metadata": {
    "execution": {
     "iopub.execute_input": "2025-06-13T15:28:07.903445Z",
     "iopub.status.busy": "2025-06-13T15:28:07.902489Z",
     "iopub.status.idle": "2025-06-13T15:28:07.917293Z",
     "shell.execute_reply": "2025-06-13T15:28:07.916130Z"
    }
   },
   "outputs": [
    {
     "data": {
      "text/plain": [
       "NULL"
      ]
     },
     "metadata": {},
     "output_type": "display_data"
    }
   ],
   "source": [
    " path_graphs = paste(\"/group/soranzo/manuel.tardaguila/2025_K562_multiome_reanalysis/Downstream_analysis/Figure_graphs/\",'/',sep='')\n",
    "  \n",
    "  if (file.exists(path_graphs)){\n",
    "    \n",
    "    \n",
    "  }else{\n",
    "    \n",
    "    dir.create(file.path(path_graphs))\n",
    "    \n",
    "  }#path_Downstream_analysis"
   ]
  },
  {
   "cell_type": "markdown",
   "id": "f6d43f6f-cb59-4997-b9d1-a004f27a0882",
   "metadata": {},
   "source": [
    "# Tile plot"
   ]
  },
  {
   "cell_type": "code",
   "execution_count": 60,
   "id": "2f6cdc31-4ea7-45a8-8a94-0307d78bcaef",
   "metadata": {
    "execution": {
     "iopub.execute_input": "2025-06-13T15:28:08.795459Z",
     "iopub.status.busy": "2025-06-13T15:28:08.794407Z",
     "iopub.status.idle": "2025-06-13T15:28:08.841495Z",
     "shell.execute_reply": "2025-06-13T15:28:08.840173Z"
    }
   },
   "outputs": [
    {
     "name": "stdout",
     "output_type": "stream",
     "text": [
      "order_from_REP_0\n",
      " chr [1:47] \"CUX1\" \"RUNX1\" \"EZH2\" \"XRCC2\" \"ABI1\" \"ACTB\" \"ADAM10\" \"ANGPT1\" ...\n",
      "\n",
      "tile_plot_0\n",
      "'data.frame':\t368 obs. of  10 variables:\n",
      " $ gene          : chr  \"PIP4K2A\" \"C3orf52\" \"MEF2C\" \"WASF2\" ...\n",
      " $ baseMean      : num  301.1 6.6 686.9 137.4 33.6 ...\n",
      " $ log2FoldChange: num  0.21776 0.00297 0.0066 0.00122 -0.00421 ...\n",
      " $ lfcSE         : num  0.1375 0.0209 0.022 0.0203 0.0211 ...\n",
      " $ pvalue        : num  0.00255 0.01433 0.02977 0.75244 0.09663 ...\n",
      " $ padj          : num  0.758 0.867 0.986 0.996 0.996 ...\n",
      " $ contrast      : Ord.factor w/ 5 levels \"Genotype_rs139141690_HET_vs_wt\"<..: 1 1 1 1 1 1 1 1 1 1 ...\n",
      " $ identity      : Ord.factor w/ 13 levels \"1\"<\"2\"<\"3\"<\"4\"<..: 3 3 3 3 3 3 3 3 3 3 ...\n",
      " $ minuslog10padj: num  0.1203 0.0618 0.0063 0.0016 0.0016 ...\n",
      " $ abslogfc      : num  0.21776 0.00297 0.0066 0.00122 0.00421 ...\n",
      "\n",
      "tile_plot_1\n",
      "'data.frame':\t368 obs. of  11 variables:\n",
      " $ gene          : Ord.factor w/ 47 levels \"ZFPM1\"<\"WASF2\"<..: 16 37 20 2 34 15 6 5 36 38 ...\n",
      " $ baseMean      : num  301.1 6.6 686.9 137.4 33.6 ...\n",
      " $ log2FoldChange: num  0.21776 0.00297 0.0066 0.00122 -0.00421 ...\n",
      " $ lfcSE         : num  0.1375 0.0209 0.022 0.0203 0.0211 ...\n",
      " $ pvalue        : num  0.00255 0.01433 0.02977 0.75244 0.09663 ...\n",
      " $ padj          : num  0.758 0.867 0.986 0.996 0.996 ...\n",
      " $ contrast      : Ord.factor w/ 5 levels \"Genotype_rs139141690_HET_vs_wt\"<..: 1 1 1 1 1 1 1 1 1 1 ...\n",
      " $ identity      : Ord.factor w/ 13 levels \"1\"<\"2\"<\"3\"<\"4\"<..: 3 3 3 3 3 3 3 3 3 3 ...\n",
      " $ minuslog10padj: num  0.1203 0.0618 0.0063 0.0016 0.0016 ...\n",
      " $ abslogfc      : num  0.21776 0.00297 0.0066 0.00122 0.00421 ...\n",
      " $ SIG           : Ord.factor w/ 2 levels \"NO\"<\"YES\": 1 1 1 1 1 1 1 1 1 1 ...\n",
      "\n"
     ]
    }
   ],
   "source": [
    "DEBUG<-1\n",
    "\n",
    "order_from_REP<-REP_genes$gene\n",
    "        \n",
    "        \n",
    "cat(\"order_from_REP_0\\n\")\n",
    "cat(str(order_from_REP))\n",
    "cat(\"\\n\")\n",
    "\n",
    "\n",
    "\n",
    "tile_plot<-DE_results_sel[which(DE_results_sel$gene%in%order_from_REP),]\n",
    "\n",
    "\n",
    "if(DEBUG == 1){\n",
    "  cat(\"tile_plot_0\\n\")\n",
    "  cat(str(tile_plot))\n",
    "  cat(\"\\n\")\n",
    "}\n",
    "\n",
    "tile_plot$gene<-factor(tile_plot$gene, levels=rev(order_from_REP), ordered=T)\n",
    "\n",
    "\n",
    "\n",
    "tile_plot$SIG<-NA\n",
    "\n",
    "tile_plot$SIG[which(tile_plot$minuslog10padj >= 1.3)]<-'YES'\n",
    "tile_plot$SIG[which(tile_plot$minuslog10padj < 1.3)]<-'NO'\n",
    "\n",
    "\n",
    "tile_plot$SIG<-factor(tile_plot$SIG, levels=c('NO','YES'), ordered=T)\n",
    "\n",
    "if(DEBUG == 1){\n",
    "  cat(\"tile_plot_1\\n\")\n",
    "  cat(str(tile_plot))\n",
    "  cat(\"\\n\")\n",
    "}"
   ]
  },
  {
   "cell_type": "markdown",
   "id": "991b7dee-df88-42c8-95c4-6b59642629c2",
   "metadata": {},
   "source": [
    "## Add the gene class information"
   ]
  },
  {
   "cell_type": "code",
   "execution_count": 61,
   "id": "4e92518a-047e-4d0d-a5b4-3ba692b40fa2",
   "metadata": {
    "execution": {
     "iopub.execute_input": "2025-06-13T15:28:13.699691Z",
     "iopub.status.busy": "2025-06-13T15:28:13.698441Z",
     "iopub.status.idle": "2025-06-13T15:28:13.720470Z",
     "shell.execute_reply": "2025-06-13T15:28:13.719136Z"
    }
   },
   "outputs": [
    {
     "name": "stdout",
     "output_type": "stream",
     "text": [
      "tile_plot_2\n",
      "'data.frame':\t368 obs. of  13 variables:\n",
      " $ gene          : Ord.factor w/ 47 levels \"ZFPM1\"<\"WASF2\"<..: 43 43 43 43 43 43 43 43 42 42 ...\n",
      " $ baseMean      : num  152 151 151 152 151 ...\n",
      " $ log2FoldChange: num  0.058556 0.272214 0.000448 0.249473 0.156426 ...\n",
      " $ lfcSE         : num  0.0533 0.0721 0.0202 0.0508 0.0786 ...\n",
      " $ pvalue        : num  1.26e-01 1.66e-05 9.11e-01 7.76e-08 8.88e-03 ...\n",
      " $ padj          : num  0.57136 0.00122 0.99632 0.00002 0.13649 ...\n",
      " $ contrast      : Ord.factor w/ 5 levels \"Genotype_rs139141690_HET_vs_wt\"<..: 2 4 1 4 2 1 3 3 4 2 ...\n",
      " $ identity      : Ord.factor w/ 13 levels \"1\"<\"2\"<\"3\"<\"4\"<..: 1 3 3 1 3 1 1 3 1 3 ...\n",
      " $ minuslog10padj: num  0.2431 2.9131 0.0016 4.6998 0.8649 ...\n",
      " $ abslogfc      : num  0.058556 0.272214 0.000448 0.249473 0.156426 ...\n",
      " $ SIG           : Ord.factor w/ 2 levels \"NO\"<\"YES\": 1 2 1 2 1 1 2 1 1 1 ...\n",
      " $ other_string  : chr  \"GOBP_MEGAKARYOCYTE_DIFFERENTIATION\" \"GOBP_MEGAKARYOCYTE_DIFFERENTIATION\" \"GOBP_MEGAKARYOCYTE_DIFFERENTIATION\" \"GOBP_MEGAKARYOCYTE_DIFFERENTIATION\" ...\n",
      " $ Gene_class    : Ord.factor w/ 9 levels \"CUX1\"<\"RUNX1\"<..: 4 4 4 4 4 4 4 4 6 6 ...\n",
      "\n"
     ]
    }
   ],
   "source": [
    "tile_plot<-merge(tile_plot,\n",
    "                 REP_genes,\n",
    "                 by=\"gene\")\n",
    "\n",
    "if(DEBUG == 1){\n",
    "  cat(\"tile_plot_2\\n\")\n",
    "  cat(str(tile_plot))\n",
    "  cat(\"\\n\")\n",
    "}\n",
    "                 "
   ]
  },
  {
   "cell_type": "markdown",
   "id": "ef74b7a1-fa87-4c85-84da-cc0c7c93f5ac",
   "metadata": {},
   "source": [
    "## graph"
   ]
  },
  {
   "cell_type": "code",
   "execution_count": 62,
   "id": "9ad9cfd1-241a-46a4-9b78-0c37f431c492",
   "metadata": {
    "execution": {
     "iopub.execute_input": "2025-06-13T15:28:13.723508Z",
     "iopub.status.busy": "2025-06-13T15:28:13.722468Z",
     "iopub.status.idle": "2025-06-13T15:28:13.758466Z",
     "shell.execute_reply": "2025-06-13T15:28:13.757385Z"
    }
   },
   "outputs": [],
   "source": [
    " ggheatmap_DE <-ggplot(data=tile_plot,\n",
    "                     aes(x=contrast, y=gene, fill = log2FoldChange))+\n",
    "    geom_tile()+\n",
    "    geom_tile(data=subset(tile_plot, SIG == 'NO'), fill = NA, color = \"black\", size = 0.1)+\n",
    "    geom_tile(data=subset(tile_plot, SIG == 'YES'), fill = NA, color = \"black\", size = 1)+\n",
    "    scale_fill_gradient2(name=paste(\"log2FC\", sep=\"\\n\"),\n",
    "                         low = \"blue\", high = \"red\",mid=\"white\",midpoint=0,\n",
    "                         na.value = NA)\n",
    "\n",
    "ggheatmap_DE<-ggheatmap_DE+\n",
    "                     theme_cowplot(font_size = 2,\n",
    "                  font_family = \"sans\")+\n",
    "                     facet_grid(Gene_class ~ identity ,\n",
    "             scales='free_y', space='free_y', switch=\"y\",\n",
    "             labeller = labeller(Gene_class = function(labels) paste(\"Gene Class:\", labels))) + # Add a label for the Gene_class facet\n",
    "                    theme( strip.background = element_blank(),\n",
    "                           strip.placement = \"outside\",\n",
    "                           strip.text = element_text(size=5,color=\"black\", family=\"sans\"),\n",
    "                           panel.spacing = unit(0.2, \"lines\"),\n",
    "                           panel.background=element_rect(fill=\"white\"),\n",
    "                           panel.border=element_rect(colour=\"white\",size=0,5),\n",
    "                           panel.grid.major = element_blank(),\n",
    "                           panel.grid.minor = element_blank())+\n",
    "            theme_classic()+\n",
    "           theme(axis.title.y=element_blank(),\n",
    "                 axis.title.x=element_blank(),\n",
    "                 axis.text.y=element_text(size=8, color=\"black\", family=\"sans\"),\n",
    "                 axis.text.x=element_text(angle=45,size=8,vjust=1, hjust=1, color=\"black\", family=\"sans\"),\n",
    "                 axis.line.x = element_line(size = 0.4),\n",
    "                 axis.ticks.x = element_blank(),\n",
    "                 axis.ticks.y = element_line(size = 0.4),\n",
    "                 axis.line.y = element_line(size = 0.4))+\n",
    "           theme(legend.title = element_text(size=12),\n",
    "                 legend.text = element_text(size=8),\n",
    "                 legend.key.size = unit(0.5, 'cm'), #change legend key size\n",
    "                 legend.key.height = unit(0.5, 'cm'), #change legend key height\n",
    "                 legend.key.width = unit(0.5, 'cm'), #change legend key width\n",
    "                 legend.position=\"right\")+\n",
    "           ggeasy::easy_center_title()"
   ]
  },
  {
   "cell_type": "code",
   "execution_count": 64,
   "id": "c4594d9b-0c21-40f5-90c5-36c24bcc79a9",
   "metadata": {
    "execution": {
     "iopub.execute_input": "2025-06-13T15:29:36.872908Z",
     "iopub.status.busy": "2025-06-13T15:29:36.871838Z",
     "iopub.status.idle": "2025-06-13T15:29:37.490463Z",
     "shell.execute_reply": "2025-06-13T15:29:37.489200Z"
    }
   },
   "outputs": [
    {
     "name": "stderr",
     "output_type": "stream",
     "text": [
      "\u001b[1m\u001b[22mSaving 7 x 7 in image\n"
     ]
    }
   ],
   "source": [
    "setwd(path_graphs)\n",
    "\n",
    "svgname<-paste(\"Figure_5_panel_D_DE_part\",\".svg\",sep='')\n",
    "\n",
    "ggsave(svgname,plot=ggheatmap_DE, device ='svg')"
   ]
  },
  {
   "cell_type": "code",
   "execution_count": null,
   "id": "eaa2b112-7802-457c-87ba-5c79a87d8a27",
   "metadata": {},
   "outputs": [],
   "source": []
  }
 ],
 "metadata": {
  "kernelspec": {
   "display_name": "R [conda env:multiome_NEW_downstream_analysis]",
   "language": "R",
   "name": "conda-env-multiome_NEW_downstream_analysis-r"
  },
  "language_info": {
   "codemirror_mode": "r",
   "file_extension": ".r",
   "mimetype": "text/x-r-source",
   "name": "R",
   "pygments_lexer": "r",
   "version": "4.4.3"
  }
 },
 "nbformat": 4,
 "nbformat_minor": 5
}
