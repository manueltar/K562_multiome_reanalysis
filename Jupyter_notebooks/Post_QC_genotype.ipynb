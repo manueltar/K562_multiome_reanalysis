{
 "cells": [
  {
   "cell_type": "markdown",
   "id": "6aa90505-d963-4f35-be51-e57a2b285ffa",
   "metadata": {},
   "source": [
    "# Load packages and libraries"
   ]
  },
  {
   "cell_type": "code",
   "execution_count": 1,
   "id": "abcc97a1-28a1-4588-939d-0adc2b54439d",
   "metadata": {
    "execution": {
     "iopub.execute_input": "2025-06-11T12:30:13.534066Z",
     "iopub.status.busy": "2025-06-11T12:30:13.531782Z",
     "iopub.status.idle": "2025-06-11T12:31:53.311379Z",
     "shell.execute_reply": "2025-06-11T12:31:53.310170Z"
    },
    "vscode": {
     "languageId": "r"
    }
   },
   "outputs": [
    {
     "data": {
      "text/html": [
       "<style>\n",
       ".list-inline {list-style: none; margin:0; padding: 0}\n",
       ".list-inline>li {display: inline-block}\n",
       ".list-inline>li:not(:last-child)::after {content: \"\\00b7\"; padding: 0 .5ex}\n",
       "</style>\n",
       "<ol class=list-inline><li>'/home/manuel.tardaguila/R/x86_64-conda-linux-gnu-library/4.3'</li><li>'/home/manuel.tardaguila/conda_envs/multiome_QC_DEF/lib/R/library'</li></ol>\n"
      ],
      "text/latex": [
       "\\begin{enumerate*}\n",
       "\\item '/home/manuel.tardaguila/R/x86\\_64-conda-linux-gnu-library/4.3'\n",
       "\\item '/home/manuel.tardaguila/conda\\_envs/multiome\\_QC\\_DEF/lib/R/library'\n",
       "\\end{enumerate*}\n"
      ],
      "text/markdown": [
       "1. '/home/manuel.tardaguila/R/x86_64-conda-linux-gnu-library/4.3'\n",
       "2. '/home/manuel.tardaguila/conda_envs/multiome_QC_DEF/lib/R/library'\n",
       "\n",
       "\n"
      ],
      "text/plain": [
       "[1] \"/home/manuel.tardaguila/R/x86_64-conda-linux-gnu-library/4.3\"    \n",
       "[2] \"/home/manuel.tardaguila/conda_envs/multiome_QC_DEF/lib/R/library\""
      ]
     },
     "metadata": {},
     "output_type": "display_data"
    },
    {
     "data": {
      "text/html": [
       "'/home/manuel.tardaguila/conda_envs/multiome_QC_DEF/lib/R/library'"
      ],
      "text/latex": [
       "'/home/manuel.tardaguila/conda\\_envs/multiome\\_QC\\_DEF/lib/R/library'"
      ],
      "text/markdown": [
       "'/home/manuel.tardaguila/conda_envs/multiome_QC_DEF/lib/R/library'"
      ],
      "text/plain": [
       "[1] \"/home/manuel.tardaguila/conda_envs/multiome_QC_DEF/lib/R/library\""
      ]
     },
     "metadata": {},
     "output_type": "display_data"
    },
    {
     "data": {
      "text/html": [
       "TRUE"
      ],
      "text/latex": [
       "TRUE"
      ],
      "text/markdown": [
       "TRUE"
      ],
      "text/plain": [
       "[1] TRUE"
      ]
     },
     "metadata": {},
     "output_type": "display_data"
    },
    {
     "data": {
      "text/plain": [
       "Module(leidenalg)"
      ]
     },
     "metadata": {},
     "output_type": "display_data"
    },
    {
     "name": "stderr",
     "output_type": "stream",
     "text": [
      "Warning message:\n",
      "“package ‘optparse’ was built under R version 4.3.3”\n",
      "Warning message:\n",
      "“package ‘Seurat’ was built under R version 4.3.2”\n",
      "Warning message:\n",
      "“package ‘Signac’ was built under R version 4.3.2”\n",
      "Warning message:\n",
      "“package ‘ensembldb’ was built under R version 4.3.2”\n",
      "Warning message:\n",
      "“package ‘BiocGenerics’ was built under R version 4.3.2”\n",
      "Warning message:\n",
      "“package ‘GenomicRanges’ was built under R version 4.3.2”\n",
      "Warning message:\n",
      "“package ‘S4Vectors’ was built under R version 4.3.2”\n",
      "Warning message:\n",
      "“package ‘IRanges’ was built under R version 4.3.2”\n",
      "Warning message:\n",
      "“package ‘GenomeInfoDb’ was built under R version 4.3.2”\n",
      "Warning message:\n",
      "“package ‘GenomicFeatures’ was built under R version 4.3.2”\n",
      "Warning message:\n",
      "“package ‘AnnotationDbi’ was built under R version 4.3.2”\n",
      "Warning message:\n",
      "“package ‘Biobase’ was built under R version 4.3.2”\n",
      "Warning message:\n",
      "“package ‘AnnotationFilter’ was built under R version 4.3.2”\n",
      "Warning message:\n",
      "\"package 'scDblFinder' was built under R version 4.3.2\"\n",
      "Warning message:\n",
      "\"package 'SingleCellExperiment' was built under R version 4.3.2\"\n",
      "Warning message:\n",
      "\"package 'SummarizedExperiment' was built under R version 4.3.2\"\n",
      "Warning message:\n",
      "\"package 'MatrixGenerics' was built under R version 4.3.2\"\n",
      "Warning message:\n",
      "\"package 'biovizBase' was built under R version 4.3.3\"\n",
      "Warning message:\n",
      "\"package 'glmGamPoi' was built under R version 4.3.2\"\n",
      "Warning message:\n",
      "\"package 'svglite' was built under R version 4.3.3\"\n"
     ]
    }
   ],
   "source": [
    ".libPaths()\n",
    ".libPaths(new = c(\"/home/manuel.tardaguila/conda_envs/multiome_QC_DEF/lib/R/library\"))\n",
    ".libPaths()\n",
    "# sessionInfo()\n",
    "\n",
    "Sys.setenv(RETICULATE_PYTHON=\"/home/manuel.tardaguila/conda_envs/multiome_QC_DEF/bin/python\")\n",
    "library(reticulate)\n",
    "reticulate::use_python(\"/home/manuel.tardaguila/conda_envs/multiome_QC_DEF/bin/python\")\n",
    "reticulate::use_condaenv(\"/home/manuel.tardaguila/conda_envs/multiome_QC_DEF\")\n",
    "reticulate::py_module_available(module='leidenalg')\n",
    "reticulate::import('leidenalg')\n",
    "suppressMessages(library(\"optparse\"))\n",
    "suppressMessages(library(hdf5r))\n",
    "suppressMessages(library(Seurat))\n",
    "suppressMessages(library(Signac))\n",
    "suppressMessages(library(EnsDb.Hsapiens.v86))\n",
    "suppressMessages(library(dplyr))\n",
    "suppressMessages(library(ggplot2))\n",
    "suppressMessages(library(Matrix))\n",
    "suppressMessages(library(data.table))\n",
    "suppressMessages(library(ggpubr))\n",
    "suppressMessages(library(ggplot2))\n",
    "suppressMessages(library(scDblFinder))\n",
    "suppressMessages(library(\"tidyr\"))\n",
    "suppressMessages(library(\"tibble\"))\n",
    "suppressMessages(library(\"biovizBase\"))\n",
    "suppressMessages(library(\"patchwork\"))\n",
    "suppressMessages(library(glmGamPoi))\n",
    "suppressMessages(library(svglite))\n",
    "suppressMessages(library(RColorBrewer))\n",
    "suppressMessages(library(forcats))\n",
    "suppressMessages(library(cowplot))"
   ]
  },
  {
   "cell_type": "markdown",
   "id": "862a5efe-7465-4bfe-9ad6-0f6205a89f5c",
   "metadata": {},
   "source": [
    "## Read the merged object filtered for doublets and clusterized at high resolution"
   ]
  },
  {
   "cell_type": "code",
   "execution_count": 2,
   "id": "d382728b-67ab-4eba-b48e-664d47fd9a10",
   "metadata": {
    "execution": {
     "iopub.execute_input": "2025-06-11T12:31:53.333291Z",
     "iopub.status.busy": "2025-06-11T12:31:53.313233Z",
     "iopub.status.idle": "2025-06-11T12:31:53.343009Z",
     "shell.execute_reply": "2025-06-11T12:31:53.341966Z"
    },
    "vscode": {
     "languageId": "r"
    }
   },
   "outputs": [],
   "source": [
    "setwd(\"/group/soranzo/manuel.tardaguila/2025_K562_multiome_reanalysis/processing_outputs/\")"
   ]
  },
  {
   "cell_type": "code",
   "execution_count": 3,
   "id": "d76aa8d2-01fc-4d8b-9706-ec5784b3d36b",
   "metadata": {
    "execution": {
     "iopub.execute_input": "2025-06-11T12:31:53.345705Z",
     "iopub.status.busy": "2025-06-11T12:31:53.344741Z",
     "iopub.status.idle": "2025-06-11T12:34:57.401858Z",
     "shell.execute_reply": "2025-06-11T12:34:57.400541Z"
    },
    "vscode": {
     "languageId": "r"
    }
   },
   "outputs": [],
   "source": [
    "adata<-readRDS(file=\"merged_unprocessed_db_filt_clustered_QCed_reclustered.rds\")"
   ]
  },
  {
   "cell_type": "markdown",
   "id": "fcec6259-8651-44c7-863d-7bd945ad4f2d",
   "metadata": {},
   "source": [
    "## Check initial metadata"
   ]
  },
  {
   "cell_type": "code",
   "execution_count": 4,
   "id": "238ccdee-9dd6-4412-a0c5-e9afd742f9dd",
   "metadata": {
    "execution": {
     "iopub.execute_input": "2025-06-11T12:34:57.404584Z",
     "iopub.status.busy": "2025-06-11T12:34:57.403668Z",
     "iopub.status.idle": "2025-06-11T12:34:57.414256Z",
     "shell.execute_reply": "2025-06-11T12:34:57.413274Z"
    },
    "vscode": {
     "languageId": "r"
    }
   },
   "outputs": [],
   "source": [
    "metadata<-adata[[]]"
   ]
  },
  {
   "cell_type": "code",
   "execution_count": 5,
   "id": "35e63a2b-0f2b-4823-b9fc-59a69e6da085",
   "metadata": {
    "execution": {
     "iopub.execute_input": "2025-06-11T12:34:57.420751Z",
     "iopub.status.busy": "2025-06-11T12:34:57.419826Z",
     "iopub.status.idle": "2025-06-11T12:34:57.462284Z",
     "shell.execute_reply": "2025-06-11T12:34:57.461273Z"
    },
    "vscode": {
     "languageId": "r"
    }
   },
   "outputs": [
    {
     "name": "stdout",
     "output_type": "stream",
     "text": [
      "metadata_0\n",
      "'data.frame':\t42563 obs. of  61 variables:\n",
      " $ orig.ident                       : chr  \"MCO_1278\" \"MCO_1278\" \"MCO_1278\" \"MCO_1278\" ...\n",
      " $ nCount_RNA                       : num  20131 37354 40293 19368 13148 ...\n",
      " $ nFeature_RNA                     : int  5903 7954 7919 5970 4784 7284 5247 5587 5017 4046 ...\n",
      " $ percent.mt                       : num  0.457 0.361 0.541 0.423 0.548 ...\n",
      " $ nCount_RNA_raw                   : num  20627 37674 40650 19929 13810 ...\n",
      " $ nFeature_RNA_raw                 : int  5905 7954 7922 5977 4798 7285 5311 5592 5084 4202 ...\n",
      " $ nCount_ATAC                      : num  174530 439892 406774 8286 11580 ...\n",
      " $ nFeature_ATAC                    : int  36249 72733 70079 2064 2905 42352 30057 39576 33199 33501 ...\n",
      " $ gex_raw_reads                    : int  55696 99956 112159 51478 34690 81252 37384 41995 37238 30687 ...\n",
      " $ gex_mapped_reads                 : int  53947 96927 108799 49918 33634 78679 36228 40773 36065 29591 ...\n",
      " $ gex_conf_intergenic_reads        : int  3909 7088 8420 3944 2530 5914 2502 2225 2808 2494 ...\n",
      " $ gex_conf_exonic_reads            : int  19283 37422 36370 17153 12728 24372 10440 16422 10885 9437 ...\n",
      " $ gex_conf_intronic_reads          : int  28551 48351 59425 26444 16731 44912 21584 20394 20868 16321 ...\n",
      " $ gex_conf_exonic_unique_reads     : int  17368 34287 32071 15743 11839 21685 9138 14966 9576 8393 ...\n",
      " $ gex_conf_exonic_antisense_reads  : int  1744 2953 3769 1332 787 2531 1199 1355 1254 980 ...\n",
      " $ gex_conf_exonic_dup_reads        : int  7652 15117 13820 6817 5141 9345 3880 6548 4124 3667 ...\n",
      " $ gex_exonic_umis                  : int  9653 18984 18092 8865 6657 12245 5217 8367 5420 4701 ...\n",
      " $ gex_conf_intronic_unique_reads   : int  19096 32829 39360 19621 12521 30643 14605 12840 13379 10429 ...\n",
      " $ gex_conf_intronic_antisense_reads: int  9074 14768 19140 6472 3866 13572 6617 7250 7108 5627 ...\n",
      " $ gex_conf_intronic_dup_reads      : int  8032 13956 16562 8439 5319 13170 6112 5222 5787 4506 ...\n",
      " $ gex_intronic_umis                : int  10974 18690 22558 11064 7153 17304 8417 7558 7535 5891 ...\n",
      " $ gex_conf_txomic_unique_reads     : int  16965 33502 31140 15333 11540 21040 8756 14653 9280 8152 ...\n",
      " $ gex_umis_count                   : int  20627 37674 40650 19929 13810 29549 13634 15925 12955 10592 ...\n",
      " $ gex_genes_count                  : int  5905 7954 7922 5977 4798 7285 5311 5592 5084 4202 ...\n",
      " $ atac_raw_reads                   : int  75142 180746 177426 8890 15840 107967 57882 85163 80390 56706 ...\n",
      " $ atac_unmapped_reads              : int  521 1277 1222 61 98 707 416 595 468 345 ...\n",
      " $ atac_lowmapq                     : int  8873 20269 22140 1768 3262 15252 6630 8535 10842 5596 ...\n",
      " $ atac_dup_reads                   : int  12284 30380 26984 536 770 13381 8680 14440 10088 9803 ...\n",
      " $ atac_chimeric_reads              : int  64 164 210 19 52 152 52 70 114 42 ...\n",
      " $ atac_mitochondrial_reads         : int  11095 22128 28242 4484 8829 28303 8493 8931 19780 3126 ...\n",
      " $ atac_fragments                   : int  42270 106443 98545 2021 2825 50128 33586 52572 39079 37751 ...\n",
      " $ atac_TSS_fragments               : int  12492 33161 28790 878 1045 15073 9964 19722 12240 9227 ...\n",
      " $ atac_peak_region_fragments       : int  25661 61094 52195 1418 2063 30217 18630 34097 24064 21817 ...\n",
      " $ atac_peak_region_cutsites        : int  47633 113078 95729 2668 3903 55910 34250 63193 44519 40293 ...\n",
      " $ TSS.enrichment                   : num  3.97 3.77 3.78 7.19 5.33 ...\n",
      " $ TSS.percentile                   : num  0.24 0.13 0.14 0.98 0.85 0.69 0.26 0.69 0.34 0.03 ...\n",
      " $ scDblFinder.class                : chr  \"singlet\" \"singlet\" \"singlet\" \"singlet\" ...\n",
      " $ scDblFinder.score                : num  0.0876 0.4465 0.3069 0.258 0.3428 ...\n",
      " $ scDblFinder.weighted             : num  0.161 0.577 0.48 0.432 0.401 ...\n",
      " $ scDblFinder.cxds_score           : num  0.0134 0.29 0.1579 0.119 0.2739 ...\n",
      " $ scDblFinder.class_atac           : chr  \"singlet\" \"doublet\" \"singlet\" \"singlet\" ...\n",
      " $ scDblFinder.score_atac           : num  0.366 0.846 0.627 0.184 0.25 ...\n",
      " $ scDblFinder.weighted_atac        : num  0.458 0.678 0.414 0.326 0.472 ...\n",
      " $ scDblFinder.cxds_score_atac      : num  0.262 1 0.813 0 0 ...\n",
      " $ DBL_comb                         : chr  \"R:singlet:A:singlet\" \"R:singlet:A:doublet\" \"R:singlet:A:singlet\" \"R:singlet:A:singlet\" ...\n",
      " $ amulet_nFrags                    : int  14044 35994 32079 718 955 16138 10677 18330 12866 11098 ...\n",
      " $ amulet_uniqFrags                 : int  14044 35994 32079 718 955 16138 10677 18330 12866 11098 ...\n",
      " $ amulet_nAbove2                   : int  7 104 54 0 0 8 0 21 8 5 ...\n",
      " $ amulet_total.nAbove2             : int  17 412 314 0 0 61 8 108 26 15 ...\n",
      " $ amulet_p.value                   : num  9.27e-01 3.30e-59 6.19e-19 1.00 1.00 ...\n",
      " $ amulet_q.value                   : num  1.00 1.61e-57 1.42e-17 1.00 1.00 ...\n",
      " $ doublet_amulet                   : logi  FALSE TRUE TRUE FALSE FALSE FALSE ...\n",
      " $ Diff                             : chr  \"Diff_K562\" \"Diff_K562\" \"Diff_K562\" \"Diff_K562\" ...\n",
      " $ doublet                          : logi  FALSE FALSE FALSE FALSE FALSE FALSE ...\n",
      " $ nCount_SCT                       : num  17452 16988 16956 17467 15403 ...\n",
      " $ nFeature_SCT                     : int  5903 6115 5829 5970 4784 6679 5247 5587 5022 4136 ...\n",
      " $ SCT.weight                       : num  0.508 0.458 0.466 0.379 0.421 ...\n",
      " $ ATAC.weight                      : num  0.492 0.542 0.534 0.621 0.579 ...\n",
      " $ wsnn_res.2                       : Factor w/ 42 levels \"1\",\"10\",\"11\",..: 17 1 25 38 39 11 5 7 5 4 ...\n",
      " $ seurat_clusters                  : Factor w/ 19 levels \"1\",\"2\",\"3\",\"4\",..: 4 5 4 2 6 6 11 3 11 4 ...\n",
      " $ wsnn_res.0.5                     : Factor w/ 19 levels \"1\",\"10\",\"11\",..: 14 15 14 12 16 16 3 13 3 14 ...\n",
      "\n",
      " chr [1:42563] \"MCO_1278_AAACAGCCAAGGATTA-1\" \"MCO_1278_AAACAGCCAAGGTCCT-1\" ...\n",
      "\n"
     ]
    }
   ],
   "source": [
    "cat(\"metadata_0\\n\")\n",
    "cat(str(metadata))\n",
    "cat(\"\\n\")\n",
    "cat(str(row.names(metadata)))\n",
    "cat(\"\\n\")\n"
   ]
  },
  {
   "cell_type": "markdown",
   "id": "2b1c1e4a-e8ca-46cf-bca0-c1667717b9f9",
   "metadata": {},
   "source": [
    "## Add genotyped information from libraries"
   ]
  },
  {
   "cell_type": "code",
   "execution_count": 14,
   "id": "787ed489-9879-4f61-91c4-3b478e0ab5e7",
   "metadata": {
    "execution": {
     "iopub.execute_input": "2025-06-11T12:52:35.758306Z",
     "iopub.status.busy": "2025-06-11T12:52:35.757284Z",
     "iopub.status.idle": "2025-06-11T12:52:35.770885Z",
     "shell.execute_reply": "2025-06-11T12:52:35.769825Z"
    }
   },
   "outputs": [],
   "source": [
    "setwd(\"/group/soranzo/paola.benaglio/k562_multiome/deconvolute_LARRY/\")"
   ]
  },
  {
   "cell_type": "code",
   "execution_count": 15,
   "id": "634bb058-2502-482c-a08e-f87b0de2b2dd",
   "metadata": {
    "execution": {
     "iopub.execute_input": "2025-06-11T12:52:36.041355Z",
     "iopub.status.busy": "2025-06-11T12:52:36.040416Z",
     "iopub.status.idle": "2025-06-11T12:52:36.131663Z",
     "shell.execute_reply": "2025-06-11T12:52:36.130511Z"
    }
   },
   "outputs": [],
   "source": [
    "MCO_1278_genotyped<-read.csv(\"MCO_1278.larry_barcodes_assignemnts.csv\")\n",
    "\n",
    "#cat(\"MCO_1278_genotyped_0\\n\")\n",
    "#str(MCO_1278_genotyped)\n",
    "#cat(\"\\n\")\n",
    "\n",
    "MCO_1278_genotyped$CellID<-paste(\"MCO_1278\",gsub(\"^CB:Z:\",\"\",MCO_1278_genotyped$CellBC),sep=\"_\")\n",
    "\n",
    "#cat(\"MCO_1278_genotyped_1\\n\")\n",
    "#str(MCO_1278_genotyped)\n",
    "#cat(\"\\n\")\n",
    "\n",
    "MCO_1279_genotyped<-read.csv(\"MCO_1279.larry_barcodes_assignemnts.csv\")\n",
    "\n",
    "#cat(\"MCO_1279_genotyped_0\\n\")\n",
    "#str(MCO_1279_genotyped)\n",
    "#cat(\"\\n\")\n",
    "\n",
    "MCO_1279_genotyped$CellID<-paste(\"MCO_1279\",gsub(\"^CB:Z:\",\"\",MCO_1279_genotyped$CellBC),sep=\"_\")\n",
    "\n",
    "#cat(\"MCO_1279_genotyped_1\\n\")\n",
    "#str(MCO_1279_genotyped)\n",
    "#cat(\"\\n\")\n",
    "\n",
    "MCO_1280_genotyped<-read.csv(\"MCO_1280.larry_barcodes_assignemnts.csv\")\n",
    "\n",
    "#cat(\"MCO_1280_genotyped_0\\n\")\n",
    "#str(MCO_1280_genotyped)\n",
    "#cat(\"\\n\")\n",
    "\n",
    "MCO_1280_genotyped$CellID<-paste(\"MCO_1280\",gsub(\"^CB:Z:\",\"\",MCO_1280_genotyped$CellBC),sep=\"_\")\n",
    "\n",
    "#cat(\"MCO_1280_genotyped_1\\n\")\n",
    "#str(MCO_1280_genotyped)\n",
    "#cat(\"\\n\")\n",
    "\n",
    "MCO_1281_genotyped<-read.csv(\"MCO_1281.larry_barcodes_assignemnts.csv\")\n",
    "\n",
    "#cat(\"MCO_1281_genotyped_0\\n\")\n",
    "#str(MCO_1281_genotyped)\n",
    "#cat(\"\\n\")\n",
    "\n",
    "MCO_1281_genotyped$CellID<-paste(\"MCO_1281\",gsub(\"^CB:Z:\",\"\",MCO_1281_genotyped$CellBC),sep=\"_\")\n",
    "\n",
    "#cat(\"MCO_1281_genotyped_1\\n\")\n",
    "#str(MCO_1281_genotyped)\n",
    "#cat(\"\\n\")"
   ]
  },
  {
   "cell_type": "code",
   "execution_count": 16,
   "id": "3cebb736-9420-4b8f-9137-ba43ad278e15",
   "metadata": {
    "execution": {
     "iopub.execute_input": "2025-06-11T12:52:36.863295Z",
     "iopub.status.busy": "2025-06-11T12:52:36.862317Z",
     "iopub.status.idle": "2025-06-11T12:52:36.898715Z",
     "shell.execute_reply": "2025-06-11T12:52:36.897646Z"
    }
   },
   "outputs": [
    {
     "name": "stdout",
     "output_type": "stream",
     "text": [
      "ALL_geno_0\n",
      "'data.frame':\t19425 obs. of  6 variables:\n",
      " $ X        : int  1 2 3 4 5 6 7 8 9 10 ...\n",
      " $ CellBC   : chr  \"CB:Z:AAACAGCCAAGGTCCT-1\" \"CB:Z:AAACAGCCAGTTAGCC-1\" \"CB:Z:AAACAGCCAGTTAGCC-1\" \"CB:Z:AAACAGCCAGTTAGCC-1\" ...\n",
      " $ GFPbc    : chr  \"chrGFP_Del_16bp\" \"chrGFP_WTC\" \"chrGFP_WTB\" \"chrGFP_Del_233\" ...\n",
      " $ Cell_GFP : chr  \"CB:Z:AAACAGCCAAGGTCCT-1-chrGFP_Del_16bp\" \"CB:Z:AAACAGCCAGTTAGCC-1-chrGFP_WTC\" \"CB:Z:AAACAGCCAGTTAGCC-1-chrGFP_WTB\" \"CB:Z:AAACAGCCAGTTAGCC-1-chrGFP_Del_233\" ...\n",
      " $ No_GFPbcs: int  1 3 3 3 1 1 1 1 2 2 ...\n",
      " $ CellID   : chr  \"MCO_1278_AAACAGCCAAGGTCCT-1\" \"MCO_1278_AAACAGCCAGTTAGCC-1\" \"MCO_1278_AAACAGCCAGTTAGCC-1\" \"MCO_1278_AAACAGCCAGTTAGCC-1\" ...\n",
      "\n",
      "ALL_geno_unique_0\n",
      "'data.frame':\t14708 obs. of  6 variables:\n",
      " $ X        : int  1 5 6 7 8 11 14 15 18 19 ...\n",
      " $ CellBC   : chr  \"CB:Z:AAACAGCCAAGGTCCT-1\" \"CB:Z:AAACAGCCATGGTTAT-1\" \"CB:Z:AAACATGCAGAAATGC-1\" \"CB:Z:AAACCAACACATAACT-1\" ...\n",
      " $ GFPbc    : chr  \"chrGFP_Del_16bp\" \"chrGFP_Del_16bp\" \"chrGFP_Del_233\" \"chrGFP_Del_233\" ...\n",
      " $ Cell_GFP : chr  \"CB:Z:AAACAGCCAAGGTCCT-1-chrGFP_Del_16bp\" \"CB:Z:AAACAGCCATGGTTAT-1-chrGFP_Del_16bp\" \"CB:Z:AAACATGCAGAAATGC-1-chrGFP_Del_233\" \"CB:Z:AAACCAACACATAACT-1-chrGFP_Del_233\" ...\n",
      " $ No_GFPbcs: int  1 1 1 1 1 1 1 1 1 1 ...\n",
      " $ CellID   : chr  \"MCO_1278_AAACAGCCAAGGTCCT-1\" \"MCO_1278_AAACAGCCATGGTTAT-1\" \"MCO_1278_AAACATGCAGAAATGC-1\" \"MCO_1278_AAACCAACACATAACT-1\" ...\n",
      "\n"
     ]
    }
   ],
   "source": [
    "ALL_geno<-rbind(MCO_1278_genotyped,MCO_1279_genotyped,MCO_1280_genotyped,MCO_1281_genotyped)\n",
    "\n",
    "cat(\"ALL_geno_0\\n\")\n",
    "str(ALL_geno)\n",
    "cat(\"\\n\")\n",
    "\n",
    "ALL_geno_unique<-ALL_geno[which(ALL_geno$No_GFPbcs == 1),]\n",
    "\n",
    "cat(\"ALL_geno_unique_0\\n\")\n",
    "str(ALL_geno_unique)\n",
    "cat(\"\\n\")\n"
   ]
  },
  {
   "cell_type": "code",
   "execution_count": 17,
   "id": "60a84898-b5b0-4f2c-9228-328576c7460e",
   "metadata": {
    "execution": {
     "iopub.execute_input": "2025-06-11T12:52:38.346503Z",
     "iopub.status.busy": "2025-06-11T12:52:38.345467Z",
     "iopub.status.idle": "2025-06-11T12:52:38.354421Z",
     "shell.execute_reply": "2025-06-11T12:52:38.353387Z"
    }
   },
   "outputs": [],
   "source": [
    "adata@meta.data$Assignation_GEX_not_amplified<-NA"
   ]
  },
  {
   "cell_type": "code",
   "execution_count": 18,
   "id": "a526d155-067c-4837-a6da-3129612da93b",
   "metadata": {
    "execution": {
     "iopub.execute_input": "2025-06-11T12:52:39.514246Z",
     "iopub.status.busy": "2025-06-11T12:52:39.513199Z",
     "iopub.status.idle": "2025-06-11T12:52:39.530014Z",
     "shell.execute_reply": "2025-06-11T12:52:39.528944Z"
    }
   },
   "outputs": [
    {
     "name": "stdout",
     "output_type": "stream",
     "text": [
      "gfp1_0\n",
      " Named chr [1:14708] \"chrGFP_Del_16bp\" \"chrGFP_Del_16bp\" \"chrGFP_Del_233\" ...\n",
      " - attr(*, \"names\")= chr [1:14708] \"MCO_1278_AAACAGCCAAGGTCCT-1\" \"MCO_1278_AAACAGCCATGGTTAT-1\" \"MCO_1278_AAACATGCAGAAATGC-1\" \"MCO_1278_AAACCAACACATAACT-1\" ...\n",
      "\n"
     ]
    }
   ],
   "source": [
    "gfp1      = setNames(as.character(ALL_geno_unique$GFPbc), \n",
    "                       ALL_geno_unique$CellID)\n",
    "  \n",
    "  cat(\"gfp1_0\\n\")\n",
    "  cat(str(gfp1))\n",
    "  cat(\"\\n\")"
   ]
  },
  {
   "cell_type": "code",
   "execution_count": 19,
   "id": "d2c0c30b-44fe-4c00-baee-049055be4aea",
   "metadata": {
    "execution": {
     "iopub.execute_input": "2025-06-11T12:52:42.329859Z",
     "iopub.status.busy": "2025-06-11T12:52:42.328805Z",
     "iopub.status.idle": "2025-06-11T12:52:42.345084Z",
     "shell.execute_reply": "2025-06-11T12:52:42.343933Z"
    }
   },
   "outputs": [],
   "source": [
    "adata@meta.data$Assignation_GEX_not_amplified = gfp1[rownames(adata@meta.data)]\n"
   ]
  },
  {
   "cell_type": "code",
   "execution_count": 20,
   "id": "8d4da077-2bd8-4e6d-8b37-57c724c99534",
   "metadata": {
    "execution": {
     "iopub.execute_input": "2025-06-11T12:52:43.014180Z",
     "iopub.status.busy": "2025-06-11T12:52:43.013096Z",
     "iopub.status.idle": "2025-06-11T12:52:43.028215Z",
     "shell.execute_reply": "2025-06-11T12:52:43.027134Z"
    }
   },
   "outputs": [
    {
     "data": {
      "text/html": [
       "<style>\n",
       ".dl-inline {width: auto; margin:0; padding: 0}\n",
       ".dl-inline>dt, .dl-inline>dd {float: none; width: auto; display: inline-block}\n",
       ".dl-inline>dt::after {content: \":\\0020\"; padding-right: .5ex}\n",
       ".dl-inline>dt:not(:first-of-type) {padding-left: .5ex}\n",
       "</style><dl class=dl-inline><dt>chrGFP_Del_16bp</dt><dd>2650</dd><dt>chrGFP_Del_233</dt><dd>1423</dd><dt>chrGFP_Del_235</dt><dd>629</dd><dt>chrGFP_Del_287</dt><dd>727</dd><dt>chrGFP_HET</dt><dd>1840</dd><dt>chrGFP_KI_13</dt><dd>700</dd><dt>chrGFP_KI_27</dt><dd>559</dd><dt>chrGFP_KI_29</dt><dd>42</dd><dt>chrGFP_WTA</dt><dd>286</dd><dt>chrGFP_WTB</dt><dd>1254</dd><dt>chrGFP_WTC</dt><dd>1064</dd><dt>NA's</dt><dd>31389</dd></dl>\n"
      ],
      "text/latex": [
       "\\begin{description*}\n",
       "\\item[chrGFP\\textbackslash{}\\_Del\\textbackslash{}\\_16bp] 2650\n",
       "\\item[chrGFP\\textbackslash{}\\_Del\\textbackslash{}\\_233] 1423\n",
       "\\item[chrGFP\\textbackslash{}\\_Del\\textbackslash{}\\_235] 629\n",
       "\\item[chrGFP\\textbackslash{}\\_Del\\textbackslash{}\\_287] 727\n",
       "\\item[chrGFP\\textbackslash{}\\_HET] 1840\n",
       "\\item[chrGFP\\textbackslash{}\\_KI\\textbackslash{}\\_13] 700\n",
       "\\item[chrGFP\\textbackslash{}\\_KI\\textbackslash{}\\_27] 559\n",
       "\\item[chrGFP\\textbackslash{}\\_KI\\textbackslash{}\\_29] 42\n",
       "\\item[chrGFP\\textbackslash{}\\_WTA] 286\n",
       "\\item[chrGFP\\textbackslash{}\\_WTB] 1254\n",
       "\\item[chrGFP\\textbackslash{}\\_WTC] 1064\n",
       "\\item[NA's] 31389\n",
       "\\end{description*}\n"
      ],
      "text/markdown": [
       "chrGFP_Del_16bp\n",
       ":   2650chrGFP_Del_233\n",
       ":   1423chrGFP_Del_235\n",
       ":   629chrGFP_Del_287\n",
       ":   727chrGFP_HET\n",
       ":   1840chrGFP_KI_13\n",
       ":   700chrGFP_KI_27\n",
       ":   559chrGFP_KI_29\n",
       ":   42chrGFP_WTA\n",
       ":   286chrGFP_WTB\n",
       ":   1254chrGFP_WTC\n",
       ":   1064NA's\n",
       ":   31389\n",
       "\n"
      ],
      "text/plain": [
       "chrGFP_Del_16bp  chrGFP_Del_233  chrGFP_Del_235  chrGFP_Del_287      chrGFP_HET \n",
       "           2650            1423             629             727            1840 \n",
       "   chrGFP_KI_13    chrGFP_KI_27    chrGFP_KI_29      chrGFP_WTA      chrGFP_WTB \n",
       "            700             559              42             286            1254 \n",
       "     chrGFP_WTC            NA's \n",
       "           1064           31389 "
      ]
     },
     "metadata": {},
     "output_type": "display_data"
    }
   ],
   "source": [
    "summary(as.factor(adata@meta.data$Assignation_GEX_not_amplified))"
   ]
  },
  {
   "cell_type": "code",
   "execution_count": 21,
   "id": "88f205c8-9813-4cc2-ba07-020e55d609df",
   "metadata": {
    "execution": {
     "iopub.execute_input": "2025-06-11T12:52:53.675585Z",
     "iopub.status.busy": "2025-06-11T12:52:53.672924Z",
     "iopub.status.idle": "2025-06-11T12:52:53.687157Z",
     "shell.execute_reply": "2025-06-11T12:52:53.686160Z"
    }
   },
   "outputs": [],
   "source": [
    "adata@meta.data$Assignation_GEX_not_amplified<-factor(adata@meta.data$Assignation_GEX_not_amplified,\n",
    "                                       levels = c(\"chrGFP_WTA\",\"chrGFP_WTB\",\"chrGFP_WTC\",\n",
    "                                                  \"chrGFP_HET\",\n",
    "                                                  \"chrGFP_KI_13\",\"chrGFP_KI_27\",\"chrGFP_KI_29\",\n",
    "                                                  \"chrGFP_Del_16bp\",\n",
    "                                                  \"chrGFP_Del_233\",\"chrGFP_Del_235\",\"chrGFP_Del_287\"),\n",
    "                                       ordered=T)"
   ]
  },
  {
   "cell_type": "code",
   "execution_count": 22,
   "id": "42290fc9-30fa-45a2-946e-305ef3fc5cba",
   "metadata": {
    "execution": {
     "iopub.execute_input": "2025-06-11T12:52:54.064208Z",
     "iopub.status.busy": "2025-06-11T12:52:54.063302Z",
     "iopub.status.idle": "2025-06-11T12:52:54.075129Z",
     "shell.execute_reply": "2025-06-11T12:52:54.074134Z"
    }
   },
   "outputs": [
    {
     "data": {
      "text/html": [
       "<style>\n",
       ".dl-inline {width: auto; margin:0; padding: 0}\n",
       ".dl-inline>dt, .dl-inline>dd {float: none; width: auto; display: inline-block}\n",
       ".dl-inline>dt::after {content: \":\\0020\"; padding-right: .5ex}\n",
       ".dl-inline>dt:not(:first-of-type) {padding-left: .5ex}\n",
       "</style><dl class=dl-inline><dt>chrGFP_WTA</dt><dd>286</dd><dt>chrGFP_WTB</dt><dd>1254</dd><dt>chrGFP_WTC</dt><dd>1064</dd><dt>chrGFP_HET</dt><dd>1840</dd><dt>chrGFP_KI_13</dt><dd>700</dd><dt>chrGFP_KI_27</dt><dd>559</dd><dt>chrGFP_KI_29</dt><dd>42</dd><dt>chrGFP_Del_16bp</dt><dd>2650</dd><dt>chrGFP_Del_233</dt><dd>1423</dd><dt>chrGFP_Del_235</dt><dd>629</dd><dt>chrGFP_Del_287</dt><dd>727</dd><dt>NA's</dt><dd>31389</dd></dl>\n"
      ],
      "text/latex": [
       "\\begin{description*}\n",
       "\\item[chrGFP\\textbackslash{}\\_WTA] 286\n",
       "\\item[chrGFP\\textbackslash{}\\_WTB] 1254\n",
       "\\item[chrGFP\\textbackslash{}\\_WTC] 1064\n",
       "\\item[chrGFP\\textbackslash{}\\_HET] 1840\n",
       "\\item[chrGFP\\textbackslash{}\\_KI\\textbackslash{}\\_13] 700\n",
       "\\item[chrGFP\\textbackslash{}\\_KI\\textbackslash{}\\_27] 559\n",
       "\\item[chrGFP\\textbackslash{}\\_KI\\textbackslash{}\\_29] 42\n",
       "\\item[chrGFP\\textbackslash{}\\_Del\\textbackslash{}\\_16bp] 2650\n",
       "\\item[chrGFP\\textbackslash{}\\_Del\\textbackslash{}\\_233] 1423\n",
       "\\item[chrGFP\\textbackslash{}\\_Del\\textbackslash{}\\_235] 629\n",
       "\\item[chrGFP\\textbackslash{}\\_Del\\textbackslash{}\\_287] 727\n",
       "\\item[NA's] 31389\n",
       "\\end{description*}\n"
      ],
      "text/markdown": [
       "chrGFP_WTA\n",
       ":   286chrGFP_WTB\n",
       ":   1254chrGFP_WTC\n",
       ":   1064chrGFP_HET\n",
       ":   1840chrGFP_KI_13\n",
       ":   700chrGFP_KI_27\n",
       ":   559chrGFP_KI_29\n",
       ":   42chrGFP_Del_16bp\n",
       ":   2650chrGFP_Del_233\n",
       ":   1423chrGFP_Del_235\n",
       ":   629chrGFP_Del_287\n",
       ":   727NA's\n",
       ":   31389\n",
       "\n"
      ],
      "text/plain": [
       "     chrGFP_WTA      chrGFP_WTB      chrGFP_WTC      chrGFP_HET    chrGFP_KI_13 \n",
       "            286            1254            1064            1840             700 \n",
       "   chrGFP_KI_27    chrGFP_KI_29 chrGFP_Del_16bp  chrGFP_Del_233  chrGFP_Del_235 \n",
       "            559              42            2650            1423             629 \n",
       " chrGFP_Del_287            NA's \n",
       "            727           31389 "
      ]
     },
     "metadata": {},
     "output_type": "display_data"
    }
   ],
   "source": [
    "summary(as.factor(adata@meta.data$Assignation_GEX_not_amplified))"
   ]
  },
  {
   "cell_type": "code",
   "execution_count": 23,
   "id": "7b1ae0dc-9108-47f2-9146-93fcc10a0284",
   "metadata": {
    "execution": {
     "iopub.execute_input": "2025-06-11T12:53:07.529217Z",
     "iopub.status.busy": "2025-06-11T12:53:07.528250Z",
     "iopub.status.idle": "2025-06-11T12:53:07.539352Z",
     "shell.execute_reply": "2025-06-11T12:53:07.538305Z"
    }
   },
   "outputs": [
    {
     "data": {
      "text/html": [
       "<style>\n",
       ".list-inline {list-style: none; margin:0; padding: 0}\n",
       ".list-inline>li {display: inline-block}\n",
       ".list-inline>li:not(:last-child)::after {content: \"\\00b7\"; padding: 0 .5ex}\n",
       "</style>\n",
       "<ol class=list-inline><li>'orig.ident'</li><li>'nCount_RNA'</li><li>'nFeature_RNA'</li><li>'percent.mt'</li><li>'nCount_RNA_raw'</li><li>'nFeature_RNA_raw'</li><li>'nCount_ATAC'</li><li>'nFeature_ATAC'</li><li>'gex_raw_reads'</li><li>'gex_mapped_reads'</li><li>'gex_conf_intergenic_reads'</li><li>'gex_conf_exonic_reads'</li><li>'gex_conf_intronic_reads'</li><li>'gex_conf_exonic_unique_reads'</li><li>'gex_conf_exonic_antisense_reads'</li><li>'gex_conf_exonic_dup_reads'</li><li>'gex_exonic_umis'</li><li>'gex_conf_intronic_unique_reads'</li><li>'gex_conf_intronic_antisense_reads'</li><li>'gex_conf_intronic_dup_reads'</li><li>'gex_intronic_umis'</li><li>'gex_conf_txomic_unique_reads'</li><li>'gex_umis_count'</li><li>'gex_genes_count'</li><li>'atac_raw_reads'</li><li>'atac_unmapped_reads'</li><li>'atac_lowmapq'</li><li>'atac_dup_reads'</li><li>'atac_chimeric_reads'</li><li>'atac_mitochondrial_reads'</li><li>'atac_fragments'</li><li>'atac_TSS_fragments'</li><li>'atac_peak_region_fragments'</li><li>'atac_peak_region_cutsites'</li><li>'TSS.enrichment'</li><li>'TSS.percentile'</li><li>'scDblFinder.class'</li><li>'scDblFinder.score'</li><li>'scDblFinder.weighted'</li><li>'scDblFinder.cxds_score'</li><li>'scDblFinder.class_atac'</li><li>'scDblFinder.score_atac'</li><li>'scDblFinder.weighted_atac'</li><li>'scDblFinder.cxds_score_atac'</li><li>'DBL_comb'</li><li>'amulet_nFrags'</li><li>'amulet_uniqFrags'</li><li>'amulet_nAbove2'</li><li>'amulet_total.nAbove2'</li><li>'amulet_p.value'</li><li>'amulet_q.value'</li><li>'doublet_amulet'</li><li>'Diff'</li><li>'doublet'</li><li>'nCount_SCT'</li><li>'nFeature_SCT'</li><li>'SCT.weight'</li><li>'ATAC.weight'</li><li>'wsnn_res.2'</li><li>'seurat_clusters'</li><li>'wsnn_res.0.5'</li><li>'Assignation_GEX_not_amplified'</li></ol>\n"
      ],
      "text/latex": [
       "\\begin{enumerate*}\n",
       "\\item 'orig.ident'\n",
       "\\item 'nCount\\_RNA'\n",
       "\\item 'nFeature\\_RNA'\n",
       "\\item 'percent.mt'\n",
       "\\item 'nCount\\_RNA\\_raw'\n",
       "\\item 'nFeature\\_RNA\\_raw'\n",
       "\\item 'nCount\\_ATAC'\n",
       "\\item 'nFeature\\_ATAC'\n",
       "\\item 'gex\\_raw\\_reads'\n",
       "\\item 'gex\\_mapped\\_reads'\n",
       "\\item 'gex\\_conf\\_intergenic\\_reads'\n",
       "\\item 'gex\\_conf\\_exonic\\_reads'\n",
       "\\item 'gex\\_conf\\_intronic\\_reads'\n",
       "\\item 'gex\\_conf\\_exonic\\_unique\\_reads'\n",
       "\\item 'gex\\_conf\\_exonic\\_antisense\\_reads'\n",
       "\\item 'gex\\_conf\\_exonic\\_dup\\_reads'\n",
       "\\item 'gex\\_exonic\\_umis'\n",
       "\\item 'gex\\_conf\\_intronic\\_unique\\_reads'\n",
       "\\item 'gex\\_conf\\_intronic\\_antisense\\_reads'\n",
       "\\item 'gex\\_conf\\_intronic\\_dup\\_reads'\n",
       "\\item 'gex\\_intronic\\_umis'\n",
       "\\item 'gex\\_conf\\_txomic\\_unique\\_reads'\n",
       "\\item 'gex\\_umis\\_count'\n",
       "\\item 'gex\\_genes\\_count'\n",
       "\\item 'atac\\_raw\\_reads'\n",
       "\\item 'atac\\_unmapped\\_reads'\n",
       "\\item 'atac\\_lowmapq'\n",
       "\\item 'atac\\_dup\\_reads'\n",
       "\\item 'atac\\_chimeric\\_reads'\n",
       "\\item 'atac\\_mitochondrial\\_reads'\n",
       "\\item 'atac\\_fragments'\n",
       "\\item 'atac\\_TSS\\_fragments'\n",
       "\\item 'atac\\_peak\\_region\\_fragments'\n",
       "\\item 'atac\\_peak\\_region\\_cutsites'\n",
       "\\item 'TSS.enrichment'\n",
       "\\item 'TSS.percentile'\n",
       "\\item 'scDblFinder.class'\n",
       "\\item 'scDblFinder.score'\n",
       "\\item 'scDblFinder.weighted'\n",
       "\\item 'scDblFinder.cxds\\_score'\n",
       "\\item 'scDblFinder.class\\_atac'\n",
       "\\item 'scDblFinder.score\\_atac'\n",
       "\\item 'scDblFinder.weighted\\_atac'\n",
       "\\item 'scDblFinder.cxds\\_score\\_atac'\n",
       "\\item 'DBL\\_comb'\n",
       "\\item 'amulet\\_nFrags'\n",
       "\\item 'amulet\\_uniqFrags'\n",
       "\\item 'amulet\\_nAbove2'\n",
       "\\item 'amulet\\_total.nAbove2'\n",
       "\\item 'amulet\\_p.value'\n",
       "\\item 'amulet\\_q.value'\n",
       "\\item 'doublet\\_amulet'\n",
       "\\item 'Diff'\n",
       "\\item 'doublet'\n",
       "\\item 'nCount\\_SCT'\n",
       "\\item 'nFeature\\_SCT'\n",
       "\\item 'SCT.weight'\n",
       "\\item 'ATAC.weight'\n",
       "\\item 'wsnn\\_res.2'\n",
       "\\item 'seurat\\_clusters'\n",
       "\\item 'wsnn\\_res.0.5'\n",
       "\\item 'Assignation\\_GEX\\_not\\_amplified'\n",
       "\\end{enumerate*}\n"
      ],
      "text/markdown": [
       "1. 'orig.ident'\n",
       "2. 'nCount_RNA'\n",
       "3. 'nFeature_RNA'\n",
       "4. 'percent.mt'\n",
       "5. 'nCount_RNA_raw'\n",
       "6. 'nFeature_RNA_raw'\n",
       "7. 'nCount_ATAC'\n",
       "8. 'nFeature_ATAC'\n",
       "9. 'gex_raw_reads'\n",
       "10. 'gex_mapped_reads'\n",
       "11. 'gex_conf_intergenic_reads'\n",
       "12. 'gex_conf_exonic_reads'\n",
       "13. 'gex_conf_intronic_reads'\n",
       "14. 'gex_conf_exonic_unique_reads'\n",
       "15. 'gex_conf_exonic_antisense_reads'\n",
       "16. 'gex_conf_exonic_dup_reads'\n",
       "17. 'gex_exonic_umis'\n",
       "18. 'gex_conf_intronic_unique_reads'\n",
       "19. 'gex_conf_intronic_antisense_reads'\n",
       "20. 'gex_conf_intronic_dup_reads'\n",
       "21. 'gex_intronic_umis'\n",
       "22. 'gex_conf_txomic_unique_reads'\n",
       "23. 'gex_umis_count'\n",
       "24. 'gex_genes_count'\n",
       "25. 'atac_raw_reads'\n",
       "26. 'atac_unmapped_reads'\n",
       "27. 'atac_lowmapq'\n",
       "28. 'atac_dup_reads'\n",
       "29. 'atac_chimeric_reads'\n",
       "30. 'atac_mitochondrial_reads'\n",
       "31. 'atac_fragments'\n",
       "32. 'atac_TSS_fragments'\n",
       "33. 'atac_peak_region_fragments'\n",
       "34. 'atac_peak_region_cutsites'\n",
       "35. 'TSS.enrichment'\n",
       "36. 'TSS.percentile'\n",
       "37. 'scDblFinder.class'\n",
       "38. 'scDblFinder.score'\n",
       "39. 'scDblFinder.weighted'\n",
       "40. 'scDblFinder.cxds_score'\n",
       "41. 'scDblFinder.class_atac'\n",
       "42. 'scDblFinder.score_atac'\n",
       "43. 'scDblFinder.weighted_atac'\n",
       "44. 'scDblFinder.cxds_score_atac'\n",
       "45. 'DBL_comb'\n",
       "46. 'amulet_nFrags'\n",
       "47. 'amulet_uniqFrags'\n",
       "48. 'amulet_nAbove2'\n",
       "49. 'amulet_total.nAbove2'\n",
       "50. 'amulet_p.value'\n",
       "51. 'amulet_q.value'\n",
       "52. 'doublet_amulet'\n",
       "53. 'Diff'\n",
       "54. 'doublet'\n",
       "55. 'nCount_SCT'\n",
       "56. 'nFeature_SCT'\n",
       "57. 'SCT.weight'\n",
       "58. 'ATAC.weight'\n",
       "59. 'wsnn_res.2'\n",
       "60. 'seurat_clusters'\n",
       "61. 'wsnn_res.0.5'\n",
       "62. 'Assignation_GEX_not_amplified'\n",
       "\n",
       "\n"
      ],
      "text/plain": [
       " [1] \"orig.ident\"                        \"nCount_RNA\"                       \n",
       " [3] \"nFeature_RNA\"                      \"percent.mt\"                       \n",
       " [5] \"nCount_RNA_raw\"                    \"nFeature_RNA_raw\"                 \n",
       " [7] \"nCount_ATAC\"                       \"nFeature_ATAC\"                    \n",
       " [9] \"gex_raw_reads\"                     \"gex_mapped_reads\"                 \n",
       "[11] \"gex_conf_intergenic_reads\"         \"gex_conf_exonic_reads\"            \n",
       "[13] \"gex_conf_intronic_reads\"           \"gex_conf_exonic_unique_reads\"     \n",
       "[15] \"gex_conf_exonic_antisense_reads\"   \"gex_conf_exonic_dup_reads\"        \n",
       "[17] \"gex_exonic_umis\"                   \"gex_conf_intronic_unique_reads\"   \n",
       "[19] \"gex_conf_intronic_antisense_reads\" \"gex_conf_intronic_dup_reads\"      \n",
       "[21] \"gex_intronic_umis\"                 \"gex_conf_txomic_unique_reads\"     \n",
       "[23] \"gex_umis_count\"                    \"gex_genes_count\"                  \n",
       "[25] \"atac_raw_reads\"                    \"atac_unmapped_reads\"              \n",
       "[27] \"atac_lowmapq\"                      \"atac_dup_reads\"                   \n",
       "[29] \"atac_chimeric_reads\"               \"atac_mitochondrial_reads\"         \n",
       "[31] \"atac_fragments\"                    \"atac_TSS_fragments\"               \n",
       "[33] \"atac_peak_region_fragments\"        \"atac_peak_region_cutsites\"        \n",
       "[35] \"TSS.enrichment\"                    \"TSS.percentile\"                   \n",
       "[37] \"scDblFinder.class\"                 \"scDblFinder.score\"                \n",
       "[39] \"scDblFinder.weighted\"              \"scDblFinder.cxds_score\"           \n",
       "[41] \"scDblFinder.class_atac\"            \"scDblFinder.score_atac\"           \n",
       "[43] \"scDblFinder.weighted_atac\"         \"scDblFinder.cxds_score_atac\"      \n",
       "[45] \"DBL_comb\"                          \"amulet_nFrags\"                    \n",
       "[47] \"amulet_uniqFrags\"                  \"amulet_nAbove2\"                   \n",
       "[49] \"amulet_total.nAbove2\"              \"amulet_p.value\"                   \n",
       "[51] \"amulet_q.value\"                    \"doublet_amulet\"                   \n",
       "[53] \"Diff\"                              \"doublet\"                          \n",
       "[55] \"nCount_SCT\"                        \"nFeature_SCT\"                     \n",
       "[57] \"SCT.weight\"                        \"ATAC.weight\"                      \n",
       "[59] \"wsnn_res.2\"                        \"seurat_clusters\"                  \n",
       "[61] \"wsnn_res.0.5\"                      \"Assignation_GEX_not_amplified\"    "
      ]
     },
     "metadata": {},
     "output_type": "display_data"
    }
   ],
   "source": [
    "colnames(adata@meta.data)"
   ]
  },
  {
   "cell_type": "markdown",
   "id": "2d5049ce-3a49-49bf-beb8-92f9426fc8e7",
   "metadata": {},
   "source": [
    "# Add time_point and factor diff and Integrated_annotation"
   ]
  },
  {
   "cell_type": "code",
   "execution_count": 24,
   "id": "0400b99a-1056-4b75-9eb2-8c168c90ffcc",
   "metadata": {
    "execution": {
     "iopub.execute_input": "2025-06-11T12:53:11.440603Z",
     "iopub.status.busy": "2025-06-11T12:53:11.439665Z",
     "iopub.status.idle": "2025-06-11T12:53:11.447566Z",
     "shell.execute_reply": "2025-06-11T12:53:11.446591Z"
    }
   },
   "outputs": [],
   "source": [
    "adata@meta.data$time_point<-adata@meta.data$orig.ident"
   ]
  },
  {
   "cell_type": "code",
   "execution_count": 25,
   "id": "b0b49b8b-886f-4e54-8a49-8c7997c6518c",
   "metadata": {
    "execution": {
     "iopub.execute_input": "2025-06-11T12:53:12.163349Z",
     "iopub.status.busy": "2025-06-11T12:53:12.162433Z",
     "iopub.status.idle": "2025-06-11T12:53:12.176229Z",
     "shell.execute_reply": "2025-06-11T12:53:12.174974Z"
    }
   },
   "outputs": [
    {
     "data": {
      "text/html": [
       "<style>\n",
       ".dl-inline {width: auto; margin:0; padding: 0}\n",
       ".dl-inline>dt, .dl-inline>dd {float: none; width: auto; display: inline-block}\n",
       ".dl-inline>dt::after {content: \":\\0020\"; padding-right: .5ex}\n",
       ".dl-inline>dt:not(:first-of-type) {padding-left: .5ex}\n",
       "</style><dl class=dl-inline><dt>MCO_1278</dt><dd>8832</dd><dt>MCO_1279</dt><dd>10230</dd><dt>MCO_1280</dt><dd>14245</dd><dt>MCO_1281</dt><dd>9256</dd></dl>\n"
      ],
      "text/latex": [
       "\\begin{description*}\n",
       "\\item[MCO\\textbackslash{}\\_1278] 8832\n",
       "\\item[MCO\\textbackslash{}\\_1279] 10230\n",
       "\\item[MCO\\textbackslash{}\\_1280] 14245\n",
       "\\item[MCO\\textbackslash{}\\_1281] 9256\n",
       "\\end{description*}\n"
      ],
      "text/markdown": [
       "MCO_1278\n",
       ":   8832MCO_1279\n",
       ":   10230MCO_1280\n",
       ":   14245MCO_1281\n",
       ":   9256\n",
       "\n"
      ],
      "text/plain": [
       "MCO_1278 MCO_1279 MCO_1280 MCO_1281 \n",
       "    8832    10230    14245     9256 "
      ]
     },
     "metadata": {},
     "output_type": "display_data"
    }
   ],
   "source": [
    "summary(as.factor(adata@meta.data$time_point))"
   ]
  },
  {
   "cell_type": "code",
   "execution_count": 26,
   "id": "62baa8a5-f799-4dff-bb83-f81bd6bca224",
   "metadata": {
    "execution": {
     "iopub.execute_input": "2025-06-11T12:53:13.887023Z",
     "iopub.status.busy": "2025-06-11T12:53:13.885739Z",
     "iopub.status.idle": "2025-06-11T12:53:13.902452Z",
     "shell.execute_reply": "2025-06-11T12:53:13.901226Z"
    }
   },
   "outputs": [],
   "source": [
    "adata@meta.data$time_point[which(adata@meta.data$time_point == \"MCO_1278\")]<-'24_hours'\n",
    "adata@meta.data$time_point[which(adata@meta.data$time_point == \"MCO_1279\")]<-'48_hours'\n",
    "adata@meta.data$time_point[which(adata@meta.data$time_point == \"MCO_1280\")]<-'72_hours'\n",
    "adata@meta.data$time_point[which(adata@meta.data$time_point == \"MCO_1281\")]<-'96_hours'\n"
   ]
  },
  {
   "cell_type": "code",
   "execution_count": 27,
   "id": "9167b57c-cb0c-43b1-b6e4-61944f43c15f",
   "metadata": {
    "execution": {
     "iopub.execute_input": "2025-06-11T12:53:14.687213Z",
     "iopub.status.busy": "2025-06-11T12:53:14.686007Z",
     "iopub.status.idle": "2025-06-11T12:53:14.701958Z",
     "shell.execute_reply": "2025-06-11T12:53:14.700682Z"
    }
   },
   "outputs": [
    {
     "data": {
      "text/html": [
       "<style>\n",
       ".dl-inline {width: auto; margin:0; padding: 0}\n",
       ".dl-inline>dt, .dl-inline>dd {float: none; width: auto; display: inline-block}\n",
       ".dl-inline>dt::after {content: \":\\0020\"; padding-right: .5ex}\n",
       ".dl-inline>dt:not(:first-of-type) {padding-left: .5ex}\n",
       "</style><dl class=dl-inline><dt>24_hours</dt><dd>8832</dd><dt>48_hours</dt><dd>10230</dd><dt>72_hours</dt><dd>14245</dd><dt>96_hours</dt><dd>9256</dd></dl>\n"
      ],
      "text/latex": [
       "\\begin{description*}\n",
       "\\item[24\\textbackslash{}\\_hours] 8832\n",
       "\\item[48\\textbackslash{}\\_hours] 10230\n",
       "\\item[72\\textbackslash{}\\_hours] 14245\n",
       "\\item[96\\textbackslash{}\\_hours] 9256\n",
       "\\end{description*}\n"
      ],
      "text/markdown": [
       "24_hours\n",
       ":   883248_hours\n",
       ":   1023072_hours\n",
       ":   1424596_hours\n",
       ":   9256\n",
       "\n"
      ],
      "text/plain": [
       "24_hours 48_hours 72_hours 96_hours \n",
       "    8832    10230    14245     9256 "
      ]
     },
     "metadata": {},
     "output_type": "display_data"
    }
   ],
   "source": [
    "adata@meta.data$time_point<-factor(adata@meta.data$time_point,\n",
    "                                       levels = c(\"24_hours\",\"48_hours\",\"72_hours\",\n",
    "                                                  \"96_hours\"),\n",
    "                                       ordered=T)\n",
    "\n",
    "summary(adata@meta.data$time_point)"
   ]
  },
  {
   "cell_type": "code",
   "execution_count": 28,
   "id": "c6091b49-3258-408a-a314-ab8947b9cb72",
   "metadata": {
    "execution": {
     "iopub.execute_input": "2025-06-11T12:53:15.177637Z",
     "iopub.status.busy": "2025-06-11T12:53:15.176486Z",
     "iopub.status.idle": "2025-06-11T12:53:15.191053Z",
     "shell.execute_reply": "2025-06-11T12:53:15.189764Z"
    }
   },
   "outputs": [
    {
     "data": {
      "text/html": [
       "<strong>Diff_K562:</strong> 42563"
      ],
      "text/latex": [
       "\\textbf{Diff\\textbackslash{}\\_K562:} 42563"
      ],
      "text/markdown": [
       "**Diff_K562:** 42563"
      ],
      "text/plain": [
       "Diff_K562 \n",
       "    42563 "
      ]
     },
     "metadata": {},
     "output_type": "display_data"
    }
   ],
   "source": [
    "summary(as.factor(adata@meta.data$Diff))"
   ]
  },
  {
   "cell_type": "code",
   "execution_count": 29,
   "id": "ea850430-4abd-42a1-803a-fc06af19cbe0",
   "metadata": {
    "execution": {
     "iopub.execute_input": "2025-06-11T12:53:20.574701Z",
     "iopub.status.busy": "2025-06-11T12:53:20.573416Z",
     "iopub.status.idle": "2025-06-11T12:53:20.589141Z",
     "shell.execute_reply": "2025-06-11T12:53:20.587832Z"
    }
   },
   "outputs": [
    {
     "data": {
      "text/html": [
       "<strong>Diff_K562:</strong> 42563"
      ],
      "text/latex": [
       "\\textbf{Diff\\textbackslash{}\\_K562:} 42563"
      ],
      "text/markdown": [
       "**Diff_K562:** 42563"
      ],
      "text/plain": [
       "Diff_K562 \n",
       "    42563 "
      ]
     },
     "metadata": {},
     "output_type": "display_data"
    }
   ],
   "source": [
    "adata@meta.data$Diff<-factor(adata@meta.data$Diff,\n",
    "                                       levels = c(\"Diff_K562\"),\n",
    "                                       ordered=T)\n",
    "\n",
    "summary(adata@meta.data$Diff)"
   ]
  },
  {
   "cell_type": "markdown",
   "id": "484b0781-05c3-4ef9-a5c0-ab448ff0d20d",
   "metadata": {},
   "source": [
    "# Path graphs"
   ]
  },
  {
   "cell_type": "code",
   "execution_count": 32,
   "id": "a1e01772-d87f-41bb-9198-a2884c9afbfb",
   "metadata": {
    "execution": {
     "iopub.execute_input": "2025-06-11T12:54:57.410149Z",
     "iopub.status.busy": "2025-06-11T12:54:57.408885Z",
     "iopub.status.idle": "2025-06-11T12:54:57.426499Z",
     "shell.execute_reply": "2025-06-11T12:54:57.425257Z"
    }
   },
   "outputs": [],
   "source": [
    "path_graphs = paste(\"/group/soranzo/manuel.tardaguila/2025_K562_multiome_reanalysis/processing_outputs_Paola_genotype/\",'graphs_POST_QC_and_recluster','/',sep='')\n",
    "  \n",
    "  if (file.exists(path_graphs)){\n",
    "    \n",
    "    \n",
    "  }else{\n",
    "    \n",
    "    dir.create(file.path(path_graphs))\n",
    "    \n",
    "  }#path_processing_outputs\n",
    "     "
   ]
  },
  {
   "cell_type": "markdown",
   "id": "08716efa-1997-4625-9e26-202b6eb926df",
   "metadata": {},
   "source": [
    "# Cell annotation"
   ]
  },
  {
   "cell_type": "markdown",
   "id": "55907bed-85eb-4591-9374-2cd424e9f28b",
   "metadata": {},
   "source": [
    "## Dotplot on marker genes"
   ]
  },
  {
   "cell_type": "code",
   "execution_count": 33,
   "id": "a31b8c7c-0814-496d-b486-e1d2aa4ce07c",
   "metadata": {
    "execution": {
     "iopub.execute_input": "2025-06-11T12:54:59.143265Z",
     "iopub.status.busy": "2025-06-11T12:54:59.142142Z",
     "iopub.status.idle": "2025-06-11T12:54:59.155102Z",
     "shell.execute_reply": "2025-06-11T12:54:59.153886Z"
    }
   },
   "outputs": [
    {
     "data": {
      "text/html": [
       "<style>\n",
       ".list-inline {list-style: none; margin:0; padding: 0}\n",
       ".list-inline>li {display: inline-block}\n",
       ".list-inline>li:not(:last-child)::after {content: \"\\00b7\"; padding: 0 .5ex}\n",
       "</style>\n",
       "<ol class=list-inline><li>'IL33'</li><li>'IL1B'</li><li>'CCR7'</li><li>'GYPA'</li><li>'HBA2'</li><li>'HBZ'</li><li>'ITGA2B'</li><li>'GP1BA'</li><li>'GP1BB'</li><li>'FYB1'</li><li>'GP6'</li><li>'STIL'</li><li>'TUBB1'</li><li>'CDKN2D'</li><li>'MAPK14'</li></ol>\n"
      ],
      "text/latex": [
       "\\begin{enumerate*}\n",
       "\\item 'IL33'\n",
       "\\item 'IL1B'\n",
       "\\item 'CCR7'\n",
       "\\item 'GYPA'\n",
       "\\item 'HBA2'\n",
       "\\item 'HBZ'\n",
       "\\item 'ITGA2B'\n",
       "\\item 'GP1BA'\n",
       "\\item 'GP1BB'\n",
       "\\item 'FYB1'\n",
       "\\item 'GP6'\n",
       "\\item 'STIL'\n",
       "\\item 'TUBB1'\n",
       "\\item 'CDKN2D'\n",
       "\\item 'MAPK14'\n",
       "\\end{enumerate*}\n"
      ],
      "text/markdown": [
       "1. 'IL33'\n",
       "2. 'IL1B'\n",
       "3. 'CCR7'\n",
       "4. 'GYPA'\n",
       "5. 'HBA2'\n",
       "6. 'HBZ'\n",
       "7. 'ITGA2B'\n",
       "8. 'GP1BA'\n",
       "9. 'GP1BB'\n",
       "10. 'FYB1'\n",
       "11. 'GP6'\n",
       "12. 'STIL'\n",
       "13. 'TUBB1'\n",
       "14. 'CDKN2D'\n",
       "15. 'MAPK14'\n",
       "\n",
       "\n"
      ],
      "text/plain": [
       " [1] \"IL33\"   \"IL1B\"   \"CCR7\"   \"GYPA\"   \"HBA2\"   \"HBZ\"    \"ITGA2B\" \"GP1BA\" \n",
       " [9] \"GP1BB\"  \"FYB1\"   \"GP6\"    \"STIL\"   \"TUBB1\"  \"CDKN2D\" \"MAPK14\""
      ]
     },
     "metadata": {},
     "output_type": "display_data"
    }
   ],
   "source": [
    "markers<-c(c('IL33','IL1B','CCR7'),c('GYPA','HBA2','HBZ'),c('ITGA2B','GP1BA', 'GP1BB'),c('FYB1','GP6','STIL'),c('TUBB1','CDKN2D','MAPK14'))\n",
    "\n",
    "markers"
   ]
  },
  {
   "cell_type": "code",
   "execution_count": 34,
   "id": "c88145f0-adb6-4721-97a9-8500b99c147e",
   "metadata": {
    "execution": {
     "iopub.execute_input": "2025-06-11T12:54:59.575387Z",
     "iopub.status.busy": "2025-06-11T12:54:59.574298Z",
     "iopub.status.idle": "2025-06-11T12:55:01.261901Z",
     "shell.execute_reply": "2025-06-11T12:55:01.260745Z"
    }
   },
   "outputs": [
    {
     "data": {
      "text/html": [
       "<strong>png:</strong> 2"
      ],
      "text/latex": [
       "\\textbf{png:} 2"
      ],
      "text/markdown": [
       "**png:** 2"
      ],
      "text/plain": [
       "png \n",
       "  2 "
      ]
     },
     "metadata": {},
     "output_type": "display_data"
    },
    {
     "data": {
      "image/png": "[encoded data removed]",
      "text/plain": [
       "plot without title"
      ]
     },
     "metadata": {
      "image/png": {
       "height": 420,
       "width": 420
      }
     },
     "output_type": "display_data"
    }
   ],
   "source": [
    "dotplot3<-DotPlot(\n",
    "  adata,\n",
    "  features=markers,\n",
    "  assay = \"SCT\",\n",
    "    group.by=\"seurat_clusters\")+\n",
    "geom_vline(xintercept=c(5,10,15,20,25,30,35), linetype=\"dashed\", color=\"gray\")+\n",
    " theme_classic()+\n",
    "    theme(axis.title=element_blank(),\n",
    "          axis.title.y=element_blank(),\n",
    "          axis.title.x=element_blank(),\n",
    "          axis.text.y=element_text(color=\"black\", family=\"sans\"),\n",
    "          axis.text.x=element_text(angle=45,vjust=1,hjust=1, color=\"black\", family=\"sans\"))\n",
    "dotplot3\n",
    "\n",
    "setwd(path_graphs)\n",
    "png(file='Dotplot_marker_genes_by_Integrated_annotation_THREE.png', width =1000)\n",
    "dotplot3\n",
    "dev.off()"
   ]
  },
  {
   "cell_type": "markdown",
   "id": "f6b6dd48-5315-40ed-8f03-701b7fc7d2f0",
   "metadata": {},
   "source": [
    "## Barplot time vs cluster"
   ]
  },
  {
   "cell_type": "code",
   "execution_count": 35,
   "id": "49c77b17-3708-4fb3-9351-0da6561d4150",
   "metadata": {
    "execution": {
     "iopub.execute_input": "2025-06-11T12:55:05.270630Z",
     "iopub.status.busy": "2025-06-11T12:55:05.269696Z",
     "iopub.status.idle": "2025-06-11T12:55:05.277796Z",
     "shell.execute_reply": "2025-06-11T12:55:05.276791Z"
    }
   },
   "outputs": [],
   "source": [
    "met<-adata[[]]"
   ]
  },
  {
   "cell_type": "code",
   "execution_count": 36,
   "id": "f32199d1-d6d9-4b37-9c38-4e120df071fb",
   "metadata": {
    "execution": {
     "iopub.execute_input": "2025-06-11T12:55:05.455417Z",
     "iopub.status.busy": "2025-06-11T12:55:05.454486Z",
     "iopub.status.idle": "2025-06-11T12:55:05.464641Z",
     "shell.execute_reply": "2025-06-11T12:55:05.463575Z"
    }
   },
   "outputs": [
    {
     "data": {
      "text/html": [
       "<style>\n",
       ".list-inline {list-style: none; margin:0; padding: 0}\n",
       ".list-inline>li {display: inline-block}\n",
       ".list-inline>li:not(:last-child)::after {content: \"\\00b7\"; padding: 0 .5ex}\n",
       "</style>\n",
       "<ol class=list-inline><li>'orig.ident'</li><li>'nCount_RNA'</li><li>'nFeature_RNA'</li><li>'percent.mt'</li><li>'nCount_RNA_raw'</li><li>'nFeature_RNA_raw'</li><li>'nCount_ATAC'</li><li>'nFeature_ATAC'</li><li>'gex_raw_reads'</li><li>'gex_mapped_reads'</li><li>'gex_conf_intergenic_reads'</li><li>'gex_conf_exonic_reads'</li><li>'gex_conf_intronic_reads'</li><li>'gex_conf_exonic_unique_reads'</li><li>'gex_conf_exonic_antisense_reads'</li><li>'gex_conf_exonic_dup_reads'</li><li>'gex_exonic_umis'</li><li>'gex_conf_intronic_unique_reads'</li><li>'gex_conf_intronic_antisense_reads'</li><li>'gex_conf_intronic_dup_reads'</li><li>'gex_intronic_umis'</li><li>'gex_conf_txomic_unique_reads'</li><li>'gex_umis_count'</li><li>'gex_genes_count'</li><li>'atac_raw_reads'</li><li>'atac_unmapped_reads'</li><li>'atac_lowmapq'</li><li>'atac_dup_reads'</li><li>'atac_chimeric_reads'</li><li>'atac_mitochondrial_reads'</li><li>'atac_fragments'</li><li>'atac_TSS_fragments'</li><li>'atac_peak_region_fragments'</li><li>'atac_peak_region_cutsites'</li><li>'TSS.enrichment'</li><li>'TSS.percentile'</li><li>'scDblFinder.class'</li><li>'scDblFinder.score'</li><li>'scDblFinder.weighted'</li><li>'scDblFinder.cxds_score'</li><li>'scDblFinder.class_atac'</li><li>'scDblFinder.score_atac'</li><li>'scDblFinder.weighted_atac'</li><li>'scDblFinder.cxds_score_atac'</li><li>'DBL_comb'</li><li>'amulet_nFrags'</li><li>'amulet_uniqFrags'</li><li>'amulet_nAbove2'</li><li>'amulet_total.nAbove2'</li><li>'amulet_p.value'</li><li>'amulet_q.value'</li><li>'doublet_amulet'</li><li>'Diff'</li><li>'doublet'</li><li>'nCount_SCT'</li><li>'nFeature_SCT'</li><li>'SCT.weight'</li><li>'ATAC.weight'</li><li>'wsnn_res.2'</li><li>'seurat_clusters'</li><li>'wsnn_res.0.5'</li><li>'Assignation_GEX_not_amplified'</li><li>'time_point'</li></ol>\n"
      ],
      "text/latex": [
       "\\begin{enumerate*}\n",
       "\\item 'orig.ident'\n",
       "\\item 'nCount\\_RNA'\n",
       "\\item 'nFeature\\_RNA'\n",
       "\\item 'percent.mt'\n",
       "\\item 'nCount\\_RNA\\_raw'\n",
       "\\item 'nFeature\\_RNA\\_raw'\n",
       "\\item 'nCount\\_ATAC'\n",
       "\\item 'nFeature\\_ATAC'\n",
       "\\item 'gex\\_raw\\_reads'\n",
       "\\item 'gex\\_mapped\\_reads'\n",
       "\\item 'gex\\_conf\\_intergenic\\_reads'\n",
       "\\item 'gex\\_conf\\_exonic\\_reads'\n",
       "\\item 'gex\\_conf\\_intronic\\_reads'\n",
       "\\item 'gex\\_conf\\_exonic\\_unique\\_reads'\n",
       "\\item 'gex\\_conf\\_exonic\\_antisense\\_reads'\n",
       "\\item 'gex\\_conf\\_exonic\\_dup\\_reads'\n",
       "\\item 'gex\\_exonic\\_umis'\n",
       "\\item 'gex\\_conf\\_intronic\\_unique\\_reads'\n",
       "\\item 'gex\\_conf\\_intronic\\_antisense\\_reads'\n",
       "\\item 'gex\\_conf\\_intronic\\_dup\\_reads'\n",
       "\\item 'gex\\_intronic\\_umis'\n",
       "\\item 'gex\\_conf\\_txomic\\_unique\\_reads'\n",
       "\\item 'gex\\_umis\\_count'\n",
       "\\item 'gex\\_genes\\_count'\n",
       "\\item 'atac\\_raw\\_reads'\n",
       "\\item 'atac\\_unmapped\\_reads'\n",
       "\\item 'atac\\_lowmapq'\n",
       "\\item 'atac\\_dup\\_reads'\n",
       "\\item 'atac\\_chimeric\\_reads'\n",
       "\\item 'atac\\_mitochondrial\\_reads'\n",
       "\\item 'atac\\_fragments'\n",
       "\\item 'atac\\_TSS\\_fragments'\n",
       "\\item 'atac\\_peak\\_region\\_fragments'\n",
       "\\item 'atac\\_peak\\_region\\_cutsites'\n",
       "\\item 'TSS.enrichment'\n",
       "\\item 'TSS.percentile'\n",
       "\\item 'scDblFinder.class'\n",
       "\\item 'scDblFinder.score'\n",
       "\\item 'scDblFinder.weighted'\n",
       "\\item 'scDblFinder.cxds\\_score'\n",
       "\\item 'scDblFinder.class\\_atac'\n",
       "\\item 'scDblFinder.score\\_atac'\n",
       "\\item 'scDblFinder.weighted\\_atac'\n",
       "\\item 'scDblFinder.cxds\\_score\\_atac'\n",
       "\\item 'DBL\\_comb'\n",
       "\\item 'amulet\\_nFrags'\n",
       "\\item 'amulet\\_uniqFrags'\n",
       "\\item 'amulet\\_nAbove2'\n",
       "\\item 'amulet\\_total.nAbove2'\n",
       "\\item 'amulet\\_p.value'\n",
       "\\item 'amulet\\_q.value'\n",
       "\\item 'doublet\\_amulet'\n",
       "\\item 'Diff'\n",
       "\\item 'doublet'\n",
       "\\item 'nCount\\_SCT'\n",
       "\\item 'nFeature\\_SCT'\n",
       "\\item 'SCT.weight'\n",
       "\\item 'ATAC.weight'\n",
       "\\item 'wsnn\\_res.2'\n",
       "\\item 'seurat\\_clusters'\n",
       "\\item 'wsnn\\_res.0.5'\n",
       "\\item 'Assignation\\_GEX\\_not\\_amplified'\n",
       "\\item 'time\\_point'\n",
       "\\end{enumerate*}\n"
      ],
      "text/markdown": [
       "1. 'orig.ident'\n",
       "2. 'nCount_RNA'\n",
       "3. 'nFeature_RNA'\n",
       "4. 'percent.mt'\n",
       "5. 'nCount_RNA_raw'\n",
       "6. 'nFeature_RNA_raw'\n",
       "7. 'nCount_ATAC'\n",
       "8. 'nFeature_ATAC'\n",
       "9. 'gex_raw_reads'\n",
       "10. 'gex_mapped_reads'\n",
       "11. 'gex_conf_intergenic_reads'\n",
       "12. 'gex_conf_exonic_reads'\n",
       "13. 'gex_conf_intronic_reads'\n",
       "14. 'gex_conf_exonic_unique_reads'\n",
       "15. 'gex_conf_exonic_antisense_reads'\n",
       "16. 'gex_conf_exonic_dup_reads'\n",
       "17. 'gex_exonic_umis'\n",
       "18. 'gex_conf_intronic_unique_reads'\n",
       "19. 'gex_conf_intronic_antisense_reads'\n",
       "20. 'gex_conf_intronic_dup_reads'\n",
       "21. 'gex_intronic_umis'\n",
       "22. 'gex_conf_txomic_unique_reads'\n",
       "23. 'gex_umis_count'\n",
       "24. 'gex_genes_count'\n",
       "25. 'atac_raw_reads'\n",
       "26. 'atac_unmapped_reads'\n",
       "27. 'atac_lowmapq'\n",
       "28. 'atac_dup_reads'\n",
       "29. 'atac_chimeric_reads'\n",
       "30. 'atac_mitochondrial_reads'\n",
       "31. 'atac_fragments'\n",
       "32. 'atac_TSS_fragments'\n",
       "33. 'atac_peak_region_fragments'\n",
       "34. 'atac_peak_region_cutsites'\n",
       "35. 'TSS.enrichment'\n",
       "36. 'TSS.percentile'\n",
       "37. 'scDblFinder.class'\n",
       "38. 'scDblFinder.score'\n",
       "39. 'scDblFinder.weighted'\n",
       "40. 'scDblFinder.cxds_score'\n",
       "41. 'scDblFinder.class_atac'\n",
       "42. 'scDblFinder.score_atac'\n",
       "43. 'scDblFinder.weighted_atac'\n",
       "44. 'scDblFinder.cxds_score_atac'\n",
       "45. 'DBL_comb'\n",
       "46. 'amulet_nFrags'\n",
       "47. 'amulet_uniqFrags'\n",
       "48. 'amulet_nAbove2'\n",
       "49. 'amulet_total.nAbove2'\n",
       "50. 'amulet_p.value'\n",
       "51. 'amulet_q.value'\n",
       "52. 'doublet_amulet'\n",
       "53. 'Diff'\n",
       "54. 'doublet'\n",
       "55. 'nCount_SCT'\n",
       "56. 'nFeature_SCT'\n",
       "57. 'SCT.weight'\n",
       "58. 'ATAC.weight'\n",
       "59. 'wsnn_res.2'\n",
       "60. 'seurat_clusters'\n",
       "61. 'wsnn_res.0.5'\n",
       "62. 'Assignation_GEX_not_amplified'\n",
       "63. 'time_point'\n",
       "\n",
       "\n"
      ],
      "text/plain": [
       " [1] \"orig.ident\"                        \"nCount_RNA\"                       \n",
       " [3] \"nFeature_RNA\"                      \"percent.mt\"                       \n",
       " [5] \"nCount_RNA_raw\"                    \"nFeature_RNA_raw\"                 \n",
       " [7] \"nCount_ATAC\"                       \"nFeature_ATAC\"                    \n",
       " [9] \"gex_raw_reads\"                     \"gex_mapped_reads\"                 \n",
       "[11] \"gex_conf_intergenic_reads\"         \"gex_conf_exonic_reads\"            \n",
       "[13] \"gex_conf_intronic_reads\"           \"gex_conf_exonic_unique_reads\"     \n",
       "[15] \"gex_conf_exonic_antisense_reads\"   \"gex_conf_exonic_dup_reads\"        \n",
       "[17] \"gex_exonic_umis\"                   \"gex_conf_intronic_unique_reads\"   \n",
       "[19] \"gex_conf_intronic_antisense_reads\" \"gex_conf_intronic_dup_reads\"      \n",
       "[21] \"gex_intronic_umis\"                 \"gex_conf_txomic_unique_reads\"     \n",
       "[23] \"gex_umis_count\"                    \"gex_genes_count\"                  \n",
       "[25] \"atac_raw_reads\"                    \"atac_unmapped_reads\"              \n",
       "[27] \"atac_lowmapq\"                      \"atac_dup_reads\"                   \n",
       "[29] \"atac_chimeric_reads\"               \"atac_mitochondrial_reads\"         \n",
       "[31] \"atac_fragments\"                    \"atac_TSS_fragments\"               \n",
       "[33] \"atac_peak_region_fragments\"        \"atac_peak_region_cutsites\"        \n",
       "[35] \"TSS.enrichment\"                    \"TSS.percentile\"                   \n",
       "[37] \"scDblFinder.class\"                 \"scDblFinder.score\"                \n",
       "[39] \"scDblFinder.weighted\"              \"scDblFinder.cxds_score\"           \n",
       "[41] \"scDblFinder.class_atac\"            \"scDblFinder.score_atac\"           \n",
       "[43] \"scDblFinder.weighted_atac\"         \"scDblFinder.cxds_score_atac\"      \n",
       "[45] \"DBL_comb\"                          \"amulet_nFrags\"                    \n",
       "[47] \"amulet_uniqFrags\"                  \"amulet_nAbove2\"                   \n",
       "[49] \"amulet_total.nAbove2\"              \"amulet_p.value\"                   \n",
       "[51] \"amulet_q.value\"                    \"doublet_amulet\"                   \n",
       "[53] \"Diff\"                              \"doublet\"                          \n",
       "[55] \"nCount_SCT\"                        \"nFeature_SCT\"                     \n",
       "[57] \"SCT.weight\"                        \"ATAC.weight\"                      \n",
       "[59] \"wsnn_res.2\"                        \"seurat_clusters\"                  \n",
       "[61] \"wsnn_res.0.5\"                      \"Assignation_GEX_not_amplified\"    \n",
       "[63] \"time_point\"                       "
      ]
     },
     "metadata": {},
     "output_type": "display_data"
    }
   ],
   "source": [
    "colnames(met)"
   ]
  },
  {
   "cell_type": "code",
   "execution_count": 37,
   "id": "a8089693-b768-4bfd-bbb1-b1a3a30cd430",
   "metadata": {
    "execution": {
     "iopub.execute_input": "2025-06-11T12:55:05.627808Z",
     "iopub.status.busy": "2025-06-11T12:55:05.626912Z",
     "iopub.status.idle": "2025-06-11T12:55:05.651642Z",
     "shell.execute_reply": "2025-06-11T12:55:05.650452Z"
    }
   },
   "outputs": [],
   "source": [
    "met.dt<-data.table(met,key=c(\"Assignation_GEX_not_amplified\",\"seurat_clusters\",'time_point'))"
   ]
  },
  {
   "cell_type": "code",
   "execution_count": 38,
   "id": "f7c45fc9-82ce-4f54-ab0f-d0ab55eda13f",
   "metadata": {
    "execution": {
     "iopub.execute_input": "2025-06-11T12:55:05.860233Z",
     "iopub.status.busy": "2025-06-11T12:55:05.859270Z",
     "iopub.status.idle": "2025-06-11T12:55:05.866245Z",
     "shell.execute_reply": "2025-06-11T12:55:05.865275Z"
    }
   },
   "outputs": [],
   "source": [
    "#str(met.dt)"
   ]
  },
  {
   "cell_type": "code",
   "execution_count": 39,
   "id": "6a09c0dc-b5a2-4bbe-8c3e-1e555c56f36a",
   "metadata": {
    "execution": {
     "iopub.execute_input": "2025-06-11T12:55:06.063556Z",
     "iopub.status.busy": "2025-06-11T12:55:06.062616Z",
     "iopub.status.idle": "2025-06-11T12:55:06.079937Z",
     "shell.execute_reply": "2025-06-11T12:55:06.078897Z"
    }
   },
   "outputs": [],
   "source": [
    "Freq.table<-as.data.frame(met.dt[,.(Freq=.N),by=key(met.dt)], stringsAsFactors=F)\n",
    "#Freq.table"
   ]
  },
  {
   "cell_type": "code",
   "execution_count": 40,
   "id": "cdee8650-b97a-4905-a7cf-25ba84a2b341",
   "metadata": {
    "execution": {
     "iopub.execute_input": "2025-06-11T12:55:06.227673Z",
     "iopub.status.busy": "2025-06-11T12:55:06.226765Z",
     "iopub.status.idle": "2025-06-11T12:55:06.251199Z",
     "shell.execute_reply": "2025-06-11T12:55:06.249973Z"
    }
   },
   "outputs": [],
   "source": [
    "met.dt<-data.table(met, key=c(\"Assignation_GEX_not_amplified\",'time_point'))\n",
    "Freq.TOTAL<-as.data.frame(met.dt[,.(TOTAL=.N),by=key(met.dt)], stringsAsFactors=F)\n",
    "#Freq.TOTAL"
   ]
  },
  {
   "cell_type": "code",
   "execution_count": 41,
   "id": "58499aa5-fad8-4484-aae0-b1257192b85a",
   "metadata": {
    "execution": {
     "iopub.execute_input": "2025-06-11T12:55:06.409957Z",
     "iopub.status.busy": "2025-06-11T12:55:06.409024Z",
     "iopub.status.idle": "2025-06-11T12:55:06.422599Z",
     "shell.execute_reply": "2025-06-11T12:55:06.421546Z"
    }
   },
   "outputs": [],
   "source": [
    "Freq.table<-merge(Freq.table,\n",
    "                  Freq.TOTAL,\n",
    "                  by=c(\"Assignation_GEX_not_amplified\",'time_point'))\n",
    "Freq.table$Perc<-round((100*(Freq.table$Freq/Freq.table$TOTAL)),2)\n",
    "\n",
    "#Freq.table"
   ]
  },
  {
   "cell_type": "code",
   "execution_count": 42,
   "id": "cb631ac1-f43d-4865-b686-413dd2221271",
   "metadata": {
    "execution": {
     "iopub.execute_input": "2025-06-11T12:55:06.603263Z",
     "iopub.status.busy": "2025-06-11T12:55:06.602351Z",
     "iopub.status.idle": "2025-06-11T12:55:06.613575Z",
     "shell.execute_reply": "2025-06-11T12:55:06.612511Z"
    }
   },
   "outputs": [
    {
     "name": "stdout",
     "output_type": "stream",
     "text": [
      "'data.frame':\t699 obs. of  6 variables:\n",
      " $ Assignation_GEX_not_amplified: Ord.factor w/ 11 levels \"chrGFP_WTA\"<\"chrGFP_WTB\"<..: 8 8 8 8 8 8 8 8 8 8 ...\n",
      " $ time_point                   : Ord.factor w/ 4 levels \"24_hours\"<\"48_hours\"<..: 1 1 1 1 1 1 1 1 1 1 ...\n",
      " $ seurat_clusters              : Factor w/ 19 levels \"1\",\"2\",\"3\",\"4\",..: 1 11 15 5 2 16 9 6 3 13 ...\n",
      " $ Freq                         : int  25 58 1 15 43 3 26 69 84 54 ...\n",
      " $ TOTAL                        : int  1157 1157 1157 1157 1157 1157 1157 1157 1157 1157 ...\n",
      " $ Perc                         : num  2.16 5.01 0.09 1.3 3.72 0.26 2.25 5.96 7.26 4.67 ...\n"
     ]
    }
   ],
   "source": [
    "str(Freq.table)"
   ]
  },
  {
   "cell_type": "code",
   "execution_count": 43,
   "id": "2cd98b5c-a515-4fe6-ac8f-af9ff32dfea7",
   "metadata": {
    "execution": {
     "iopub.execute_input": "2025-06-11T12:55:06.785842Z",
     "iopub.status.busy": "2025-06-11T12:55:06.784936Z",
     "iopub.status.idle": "2025-06-11T12:55:06.795344Z",
     "shell.execute_reply": "2025-06-11T12:55:06.794309Z"
    }
   },
   "outputs": [
    {
     "data": {
      "text/plain": [
       "   Min. 1st Qu.  Median    Mean 3rd Qu.    Max. \n",
       "      5     156     281    1099     505   12193 "
      ]
     },
     "metadata": {},
     "output_type": "display_data"
    }
   ],
   "source": [
    "summary(Freq.table$TOTAL)"
   ]
  },
  {
   "cell_type": "code",
   "execution_count": 44,
   "id": "2ff97a6e-5755-4d40-aa3b-77c72d1dfe43",
   "metadata": {
    "execution": {
     "iopub.execute_input": "2025-06-11T12:55:06.960484Z",
     "iopub.status.busy": "2025-06-11T12:55:06.959569Z",
     "iopub.status.idle": "2025-06-11T12:55:06.984918Z",
     "shell.execute_reply": "2025-06-11T12:55:06.983683Z"
    }
   },
   "outputs": [],
   "source": [
    "met.dt<-data.table(met, key=c(\"Assignation_GEX_not_amplified\"))\n",
    "Freq.table_CT_annotation<-as.data.frame(met.dt[,.(Freq_genotypes=.N),by=key(met.dt)], stringsAsFactors=F)\n",
    "\n"
   ]
  },
  {
   "cell_type": "code",
   "execution_count": 45,
   "id": "32dccd81-773b-4f62-8ce1-ff5c43f0d6a3",
   "metadata": {
    "execution": {
     "iopub.execute_input": "2025-06-11T12:55:07.137779Z",
     "iopub.status.busy": "2025-06-11T12:55:07.136821Z",
     "iopub.status.idle": "2025-06-11T12:55:07.147079Z",
     "shell.execute_reply": "2025-06-11T12:55:07.146025Z"
    }
   },
   "outputs": [
    {
     "name": "stdout",
     "output_type": "stream",
     "text": [
      "'data.frame':\t12 obs. of  2 variables:\n",
      " $ Assignation_GEX_not_amplified: Ord.factor w/ 11 levels \"chrGFP_WTA\"<\"chrGFP_WTB\"<..: NA 1 2 3 4 5 6 7 8 9 ...\n",
      " $ Freq_genotypes               : int  31389 286 1254 1064 1840 700 559 42 2650 1423 ...\n"
     ]
    }
   ],
   "source": [
    "str(Freq.table_CT_annotation)"
   ]
  },
  {
   "cell_type": "markdown",
   "id": "6e94b531-93f5-4ea2-a100-b900efadb8a7",
   "metadata": {},
   "source": [
    "### Filter x axis by frequency"
   ]
  },
  {
   "cell_type": "code",
   "execution_count": 46,
   "id": "79da53b1-cba8-4cfb-80c5-bc95a48b7ea5",
   "metadata": {
    "execution": {
     "iopub.execute_input": "2025-06-11T12:55:07.502374Z",
     "iopub.status.busy": "2025-06-11T12:55:07.501440Z",
     "iopub.status.idle": "2025-06-11T12:55:07.514249Z",
     "shell.execute_reply": "2025-06-11T12:55:07.513195Z"
    }
   },
   "outputs": [
    {
     "name": "stdout",
     "output_type": "stream",
     "text": [
      "'data.frame':\t699 obs. of  6 variables:\n",
      " $ Assignation_GEX_not_amplified: Ord.factor w/ 11 levels \"chrGFP_WTA\"<\"chrGFP_WTB\"<..: 8 8 8 8 8 8 8 8 8 8 ...\n",
      " $ time_point                   : Ord.factor w/ 4 levels \"24_hours\"<\"48_hours\"<..: 1 1 1 1 1 1 1 1 1 1 ...\n",
      " $ seurat_clusters              : Factor w/ 19 levels \"1\",\"2\",\"3\",\"4\",..: 1 11 15 5 2 16 9 6 3 13 ...\n",
      " $ Freq                         : int  25 58 1 15 43 3 26 69 84 54 ...\n",
      " $ TOTAL                        : int  1157 1157 1157 1157 1157 1157 1157 1157 1157 1157 ...\n",
      " $ Perc                         : num  2.16 5.01 0.09 1.3 3.72 0.26 2.25 5.96 7.26 4.67 ...\n"
     ]
    }
   ],
   "source": [
    "Freq.table_filtered<-Freq.table#[which(Freq.table$TOTAL >= 100),]\n",
    "\n",
    "\n",
    "str(Freq.table_filtered)"
   ]
  },
  {
   "cell_type": "code",
   "execution_count": null,
   "id": "c1e188b7-db0c-4197-9137-d499488a4db8",
   "metadata": {},
   "outputs": [],
   "source": []
  },
  {
   "cell_type": "code",
   "execution_count": 47,
   "id": "090eecbe-91ba-4fc7-ae69-cb56e4eaecc3",
   "metadata": {
    "execution": {
     "iopub.execute_input": "2025-06-11T12:55:07.868124Z",
     "iopub.status.busy": "2025-06-11T12:55:07.867204Z",
     "iopub.status.idle": "2025-06-11T12:55:07.909399Z",
     "shell.execute_reply": "2025-06-11T12:55:07.908256Z"
    }
   },
   "outputs": [
    {
     "data": {
      "text/html": [
       "22"
      ],
      "text/latex": [
       "22"
      ],
      "text/markdown": [
       "22"
      ],
      "text/plain": [
       "[1] 22"
      ]
     },
     "metadata": {},
     "output_type": "display_data"
    }
   ],
   "source": [
    "vector_colors_seurat_clusters<-c(brewer.pal(9, \"Set1\"),brewer.pal(12, \"Set3\"),\"white\")\n",
    "\n",
    "\n",
    "length(vector_colors_seurat_clusters)"
   ]
  },
  {
   "cell_type": "code",
   "execution_count": 48,
   "id": "9d118893-6e35-4d0e-9640-d12a1dbb8430",
   "metadata": {
    "execution": {
     "iopub.execute_input": "2025-06-11T12:55:08.035331Z",
     "iopub.status.busy": "2025-06-11T12:55:08.034351Z",
     "iopub.status.idle": "2025-06-11T12:55:08.972284Z",
     "shell.execute_reply": "2025-06-11T12:55:08.971101Z"
    }
   },
   "outputs": [
    {
     "name": "stdout",
     "output_type": "stream",
     "text": [
      "-------------------------------------->\t0 25 50 75 100\n"
     ]
    },
    {
     "name": "stderr",
     "output_type": "stream",
     "text": [
      "Warning message:\n",
      "\"\u001b[1m\u001b[22mThe `size` argument of `element_rect()` is deprecated as of ggplot2 3.4.0.\n",
      "\u001b[36mℹ\u001b[39m Please use the `linewidth` argument instead.\"\n",
      "Warning message:\n",
      "\"\u001b[1m\u001b[22mThe `size` argument of `element_line()` is deprecated as of ggplot2 3.4.0.\n",
      "\u001b[36mℹ\u001b[39m Please use the `linewidth` argument instead.\"\n"
     ]
    },
    {
     "data": {
      "image/png": "[encoded data removed]",
      "text/plain": [
       "plot without title"
      ]
     },
     "metadata": {
      "image/png": {
       "height": 420,
       "width": 420
      }
     },
     "output_type": "display_data"
    }
   ],
   "source": [
    " #### Stacked Graph ---------------\n",
    "  \n",
    "  breaks.Rank<-(seq(0,100,by=25))\n",
    "  labels.Rank<-as.character(breaks.Rank)\n",
    "  \n",
    "  cat(\"-------------------------------------->\\t\")\n",
    "  cat(sprintf(as.character(labels.Rank)))\n",
    "  cat(\"\\n\")\n",
    "  \n",
    "  \n",
    "  stacked_barplot<-ggplot(data= Freq.table_filtered,\n",
    "           aes(x=Assignation_GEX_not_amplified, y=Perc, fill=seurat_clusters)) +\n",
    "    geom_bar(stat=\"identity\",colour='white')+\n",
    "    scale_y_continuous(name=paste(\"Percentage of cells in each genotype\",sep=\" \"),breaks=breaks.Rank,labels=labels.Rank,\n",
    "                       limits=c(breaks.Rank[1],breaks.Rank[length(breaks.Rank)]+1))+\n",
    "    scale_fill_manual(values=vector_colors_seurat_clusters,\n",
    "                      drop=F,\n",
    "                      name=\"Alsinet model\")\n",
    "\n",
    "stacked_barplot<-stacked_barplot+\n",
    "    theme_cowplot(font_size = 2)+\n",
    "    facet_grid(. ~ time_point, scales='free_x', space='free_x', switch=\"y\")+   \n",
    "    scale_x_discrete(name=\"Seurat clusters\", drop=TRUE)+\n",
    "    theme( strip.background = element_blank(),\n",
    "           strip.placement = \"outside\",\n",
    "           strip.text = element_text(size=12),\n",
    "           panel.spacing = unit(0.2, \"lines\"),\n",
    "           panel.background=element_rect(fill=\"white\"),\n",
    "           panel.border=element_rect(colour=\"white\",size=0,5),\n",
    "           panel.grid.major = element_blank(),\n",
    "           panel.grid.minor = element_blank())+\n",
    "        theme_classic()+\n",
    "            theme(axis.title.y=element_text(size=12, color=\"black\", family=\"sans\"),\n",
    "                  axis.title.x=element_blank(),\n",
    "                  axis.text.y=element_text(angle=0,size=10, color=\"black\", family=\"sans\"),\n",
    "                  axis.text.x=element_text(angle=45,size=10,vjust=1,hjust=1,color=\"black\", family=\"sans\"),\n",
    "                  axis.line.x = element_line(size = 0.2),\n",
    "                  axis.ticks.x = element_line(size = 0.2),\n",
    "                  axis.ticks.y = element_line(size = 0.2),\n",
    "                  axis.line.y = element_line(size = 0.2))+\n",
    "            theme(legend.title = element_blank(),\n",
    "                  legend.text = element_text(size=12, color=\"black\", family=\"sans\"),\n",
    "                  legend.key.size = unit(0.5, 'cm'), #change legend key size\n",
    "                  legend.key.height = unit(0.5, 'cm'), #change legend key height\n",
    "                  legend.key.width = unit(0.5, 'cm'), #change legend key width\n",
    "                  legend.position=\"bottom\")+\n",
    "            guides(fill=guide_legend(nrow=2,byrow=TRUE))\n",
    "\n",
    "\n",
    "\n",
    "stacked_barplot\n",
    "  \n",
    "\n",
    "\n",
    "\n",
    "\n",
    "  "
   ]
  },
  {
   "cell_type": "code",
   "execution_count": 49,
   "id": "f235dbb8-368f-483d-be75-a23082bcc6fb",
   "metadata": {
    "execution": {
     "iopub.execute_input": "2025-06-11T12:55:08.975027Z",
     "iopub.status.busy": "2025-06-11T12:55:08.974057Z",
     "iopub.status.idle": "2025-06-11T12:55:09.809077Z",
     "shell.execute_reply": "2025-06-11T12:55:09.807816Z"
    }
   },
   "outputs": [],
   "source": [
    "setwd(path_graphs)\n",
    "\n",
    "svgname<-paste(\"Stacked_barplot_genotyped_plus_NA_vs_cluster_and_time_point\",\".svg\",sep='')\n",
    "makesvg = TRUE\n",
    "\n",
    "if (makesvg == TRUE)\n",
    "{\n",
    "  ggsave(svgname, plot= stacked_barplot,\n",
    "         device=\"svg\", width =13, height = 13)\n",
    "}"
   ]
  },
  {
   "cell_type": "markdown",
   "id": "1ff44dc3-dd10-4f5c-a92f-b83c57b4789d",
   "metadata": {},
   "source": [
    "## new barplot"
   ]
  },
  {
   "cell_type": "code",
   "execution_count": 50,
   "id": "c4f5d56b-3d7d-414a-9c4b-5768d8a600a4",
   "metadata": {
    "execution": {
     "iopub.execute_input": "2025-06-11T12:55:14.251653Z",
     "iopub.status.busy": "2025-06-11T12:55:14.250590Z",
     "iopub.status.idle": "2025-06-11T12:55:14.259289Z",
     "shell.execute_reply": "2025-06-11T12:55:14.258234Z"
    }
   },
   "outputs": [],
   "source": [
    "met<-adata[[]]"
   ]
  },
  {
   "cell_type": "code",
   "execution_count": 51,
   "id": "965aeb9f-7763-4af3-b29b-28e263d49914",
   "metadata": {
    "execution": {
     "iopub.execute_input": "2025-06-11T12:55:14.448558Z",
     "iopub.status.busy": "2025-06-11T12:55:14.447636Z",
     "iopub.status.idle": "2025-06-11T12:55:14.457986Z",
     "shell.execute_reply": "2025-06-11T12:55:14.456949Z"
    }
   },
   "outputs": [
    {
     "data": {
      "text/html": [
       "<style>\n",
       ".list-inline {list-style: none; margin:0; padding: 0}\n",
       ".list-inline>li {display: inline-block}\n",
       ".list-inline>li:not(:last-child)::after {content: \"\\00b7\"; padding: 0 .5ex}\n",
       "</style>\n",
       "<ol class=list-inline><li>'orig.ident'</li><li>'nCount_RNA'</li><li>'nFeature_RNA'</li><li>'percent.mt'</li><li>'nCount_RNA_raw'</li><li>'nFeature_RNA_raw'</li><li>'nCount_ATAC'</li><li>'nFeature_ATAC'</li><li>'gex_raw_reads'</li><li>'gex_mapped_reads'</li><li>'gex_conf_intergenic_reads'</li><li>'gex_conf_exonic_reads'</li><li>'gex_conf_intronic_reads'</li><li>'gex_conf_exonic_unique_reads'</li><li>'gex_conf_exonic_antisense_reads'</li><li>'gex_conf_exonic_dup_reads'</li><li>'gex_exonic_umis'</li><li>'gex_conf_intronic_unique_reads'</li><li>'gex_conf_intronic_antisense_reads'</li><li>'gex_conf_intronic_dup_reads'</li><li>'gex_intronic_umis'</li><li>'gex_conf_txomic_unique_reads'</li><li>'gex_umis_count'</li><li>'gex_genes_count'</li><li>'atac_raw_reads'</li><li>'atac_unmapped_reads'</li><li>'atac_lowmapq'</li><li>'atac_dup_reads'</li><li>'atac_chimeric_reads'</li><li>'atac_mitochondrial_reads'</li><li>'atac_fragments'</li><li>'atac_TSS_fragments'</li><li>'atac_peak_region_fragments'</li><li>'atac_peak_region_cutsites'</li><li>'TSS.enrichment'</li><li>'TSS.percentile'</li><li>'scDblFinder.class'</li><li>'scDblFinder.score'</li><li>'scDblFinder.weighted'</li><li>'scDblFinder.cxds_score'</li><li>'scDblFinder.class_atac'</li><li>'scDblFinder.score_atac'</li><li>'scDblFinder.weighted_atac'</li><li>'scDblFinder.cxds_score_atac'</li><li>'DBL_comb'</li><li>'amulet_nFrags'</li><li>'amulet_uniqFrags'</li><li>'amulet_nAbove2'</li><li>'amulet_total.nAbove2'</li><li>'amulet_p.value'</li><li>'amulet_q.value'</li><li>'doublet_amulet'</li><li>'Diff'</li><li>'doublet'</li><li>'nCount_SCT'</li><li>'nFeature_SCT'</li><li>'SCT.weight'</li><li>'ATAC.weight'</li><li>'wsnn_res.2'</li><li>'seurat_clusters'</li><li>'wsnn_res.0.5'</li><li>'Assignation_GEX_not_amplified'</li><li>'time_point'</li></ol>\n"
      ],
      "text/latex": [
       "\\begin{enumerate*}\n",
       "\\item 'orig.ident'\n",
       "\\item 'nCount\\_RNA'\n",
       "\\item 'nFeature\\_RNA'\n",
       "\\item 'percent.mt'\n",
       "\\item 'nCount\\_RNA\\_raw'\n",
       "\\item 'nFeature\\_RNA\\_raw'\n",
       "\\item 'nCount\\_ATAC'\n",
       "\\item 'nFeature\\_ATAC'\n",
       "\\item 'gex\\_raw\\_reads'\n",
       "\\item 'gex\\_mapped\\_reads'\n",
       "\\item 'gex\\_conf\\_intergenic\\_reads'\n",
       "\\item 'gex\\_conf\\_exonic\\_reads'\n",
       "\\item 'gex\\_conf\\_intronic\\_reads'\n",
       "\\item 'gex\\_conf\\_exonic\\_unique\\_reads'\n",
       "\\item 'gex\\_conf\\_exonic\\_antisense\\_reads'\n",
       "\\item 'gex\\_conf\\_exonic\\_dup\\_reads'\n",
       "\\item 'gex\\_exonic\\_umis'\n",
       "\\item 'gex\\_conf\\_intronic\\_unique\\_reads'\n",
       "\\item 'gex\\_conf\\_intronic\\_antisense\\_reads'\n",
       "\\item 'gex\\_conf\\_intronic\\_dup\\_reads'\n",
       "\\item 'gex\\_intronic\\_umis'\n",
       "\\item 'gex\\_conf\\_txomic\\_unique\\_reads'\n",
       "\\item 'gex\\_umis\\_count'\n",
       "\\item 'gex\\_genes\\_count'\n",
       "\\item 'atac\\_raw\\_reads'\n",
       "\\item 'atac\\_unmapped\\_reads'\n",
       "\\item 'atac\\_lowmapq'\n",
       "\\item 'atac\\_dup\\_reads'\n",
       "\\item 'atac\\_chimeric\\_reads'\n",
       "\\item 'atac\\_mitochondrial\\_reads'\n",
       "\\item 'atac\\_fragments'\n",
       "\\item 'atac\\_TSS\\_fragments'\n",
       "\\item 'atac\\_peak\\_region\\_fragments'\n",
       "\\item 'atac\\_peak\\_region\\_cutsites'\n",
       "\\item 'TSS.enrichment'\n",
       "\\item 'TSS.percentile'\n",
       "\\item 'scDblFinder.class'\n",
       "\\item 'scDblFinder.score'\n",
       "\\item 'scDblFinder.weighted'\n",
       "\\item 'scDblFinder.cxds\\_score'\n",
       "\\item 'scDblFinder.class\\_atac'\n",
       "\\item 'scDblFinder.score\\_atac'\n",
       "\\item 'scDblFinder.weighted\\_atac'\n",
       "\\item 'scDblFinder.cxds\\_score\\_atac'\n",
       "\\item 'DBL\\_comb'\n",
       "\\item 'amulet\\_nFrags'\n",
       "\\item 'amulet\\_uniqFrags'\n",
       "\\item 'amulet\\_nAbove2'\n",
       "\\item 'amulet\\_total.nAbove2'\n",
       "\\item 'amulet\\_p.value'\n",
       "\\item 'amulet\\_q.value'\n",
       "\\item 'doublet\\_amulet'\n",
       "\\item 'Diff'\n",
       "\\item 'doublet'\n",
       "\\item 'nCount\\_SCT'\n",
       "\\item 'nFeature\\_SCT'\n",
       "\\item 'SCT.weight'\n",
       "\\item 'ATAC.weight'\n",
       "\\item 'wsnn\\_res.2'\n",
       "\\item 'seurat\\_clusters'\n",
       "\\item 'wsnn\\_res.0.5'\n",
       "\\item 'Assignation\\_GEX\\_not\\_amplified'\n",
       "\\item 'time\\_point'\n",
       "\\end{enumerate*}\n"
      ],
      "text/markdown": [
       "1. 'orig.ident'\n",
       "2. 'nCount_RNA'\n",
       "3. 'nFeature_RNA'\n",
       "4. 'percent.mt'\n",
       "5. 'nCount_RNA_raw'\n",
       "6. 'nFeature_RNA_raw'\n",
       "7. 'nCount_ATAC'\n",
       "8. 'nFeature_ATAC'\n",
       "9. 'gex_raw_reads'\n",
       "10. 'gex_mapped_reads'\n",
       "11. 'gex_conf_intergenic_reads'\n",
       "12. 'gex_conf_exonic_reads'\n",
       "13. 'gex_conf_intronic_reads'\n",
       "14. 'gex_conf_exonic_unique_reads'\n",
       "15. 'gex_conf_exonic_antisense_reads'\n",
       "16. 'gex_conf_exonic_dup_reads'\n",
       "17. 'gex_exonic_umis'\n",
       "18. 'gex_conf_intronic_unique_reads'\n",
       "19. 'gex_conf_intronic_antisense_reads'\n",
       "20. 'gex_conf_intronic_dup_reads'\n",
       "21. 'gex_intronic_umis'\n",
       "22. 'gex_conf_txomic_unique_reads'\n",
       "23. 'gex_umis_count'\n",
       "24. 'gex_genes_count'\n",
       "25. 'atac_raw_reads'\n",
       "26. 'atac_unmapped_reads'\n",
       "27. 'atac_lowmapq'\n",
       "28. 'atac_dup_reads'\n",
       "29. 'atac_chimeric_reads'\n",
       "30. 'atac_mitochondrial_reads'\n",
       "31. 'atac_fragments'\n",
       "32. 'atac_TSS_fragments'\n",
       "33. 'atac_peak_region_fragments'\n",
       "34. 'atac_peak_region_cutsites'\n",
       "35. 'TSS.enrichment'\n",
       "36. 'TSS.percentile'\n",
       "37. 'scDblFinder.class'\n",
       "38. 'scDblFinder.score'\n",
       "39. 'scDblFinder.weighted'\n",
       "40. 'scDblFinder.cxds_score'\n",
       "41. 'scDblFinder.class_atac'\n",
       "42. 'scDblFinder.score_atac'\n",
       "43. 'scDblFinder.weighted_atac'\n",
       "44. 'scDblFinder.cxds_score_atac'\n",
       "45. 'DBL_comb'\n",
       "46. 'amulet_nFrags'\n",
       "47. 'amulet_uniqFrags'\n",
       "48. 'amulet_nAbove2'\n",
       "49. 'amulet_total.nAbove2'\n",
       "50. 'amulet_p.value'\n",
       "51. 'amulet_q.value'\n",
       "52. 'doublet_amulet'\n",
       "53. 'Diff'\n",
       "54. 'doublet'\n",
       "55. 'nCount_SCT'\n",
       "56. 'nFeature_SCT'\n",
       "57. 'SCT.weight'\n",
       "58. 'ATAC.weight'\n",
       "59. 'wsnn_res.2'\n",
       "60. 'seurat_clusters'\n",
       "61. 'wsnn_res.0.5'\n",
       "62. 'Assignation_GEX_not_amplified'\n",
       "63. 'time_point'\n",
       "\n",
       "\n"
      ],
      "text/plain": [
       " [1] \"orig.ident\"                        \"nCount_RNA\"                       \n",
       " [3] \"nFeature_RNA\"                      \"percent.mt\"                       \n",
       " [5] \"nCount_RNA_raw\"                    \"nFeature_RNA_raw\"                 \n",
       " [7] \"nCount_ATAC\"                       \"nFeature_ATAC\"                    \n",
       " [9] \"gex_raw_reads\"                     \"gex_mapped_reads\"                 \n",
       "[11] \"gex_conf_intergenic_reads\"         \"gex_conf_exonic_reads\"            \n",
       "[13] \"gex_conf_intronic_reads\"           \"gex_conf_exonic_unique_reads\"     \n",
       "[15] \"gex_conf_exonic_antisense_reads\"   \"gex_conf_exonic_dup_reads\"        \n",
       "[17] \"gex_exonic_umis\"                   \"gex_conf_intronic_unique_reads\"   \n",
       "[19] \"gex_conf_intronic_antisense_reads\" \"gex_conf_intronic_dup_reads\"      \n",
       "[21] \"gex_intronic_umis\"                 \"gex_conf_txomic_unique_reads\"     \n",
       "[23] \"gex_umis_count\"                    \"gex_genes_count\"                  \n",
       "[25] \"atac_raw_reads\"                    \"atac_unmapped_reads\"              \n",
       "[27] \"atac_lowmapq\"                      \"atac_dup_reads\"                   \n",
       "[29] \"atac_chimeric_reads\"               \"atac_mitochondrial_reads\"         \n",
       "[31] \"atac_fragments\"                    \"atac_TSS_fragments\"               \n",
       "[33] \"atac_peak_region_fragments\"        \"atac_peak_region_cutsites\"        \n",
       "[35] \"TSS.enrichment\"                    \"TSS.percentile\"                   \n",
       "[37] \"scDblFinder.class\"                 \"scDblFinder.score\"                \n",
       "[39] \"scDblFinder.weighted\"              \"scDblFinder.cxds_score\"           \n",
       "[41] \"scDblFinder.class_atac\"            \"scDblFinder.score_atac\"           \n",
       "[43] \"scDblFinder.weighted_atac\"         \"scDblFinder.cxds_score_atac\"      \n",
       "[45] \"DBL_comb\"                          \"amulet_nFrags\"                    \n",
       "[47] \"amulet_uniqFrags\"                  \"amulet_nAbove2\"                   \n",
       "[49] \"amulet_total.nAbove2\"              \"amulet_p.value\"                   \n",
       "[51] \"amulet_q.value\"                    \"doublet_amulet\"                   \n",
       "[53] \"Diff\"                              \"doublet\"                          \n",
       "[55] \"nCount_SCT\"                        \"nFeature_SCT\"                     \n",
       "[57] \"SCT.weight\"                        \"ATAC.weight\"                      \n",
       "[59] \"wsnn_res.2\"                        \"seurat_clusters\"                  \n",
       "[61] \"wsnn_res.0.5\"                      \"Assignation_GEX_not_amplified\"    \n",
       "[63] \"time_point\"                       "
      ]
     },
     "metadata": {},
     "output_type": "display_data"
    }
   ],
   "source": [
    "colnames(met)"
   ]
  },
  {
   "cell_type": "code",
   "execution_count": 52,
   "id": "6aeda98b-83ea-434f-a604-009c1c093ae3",
   "metadata": {
    "execution": {
     "iopub.execute_input": "2025-06-11T12:55:14.647754Z",
     "iopub.status.busy": "2025-06-11T12:55:14.646817Z",
     "iopub.status.idle": "2025-06-11T12:55:14.664361Z",
     "shell.execute_reply": "2025-06-11T12:55:14.663202Z"
    }
   },
   "outputs": [],
   "source": [
    "met.dt<-data.table(met,key=c(\"Assignation_GEX_not_amplified\",\"seurat_clusters\",'time_point'))"
   ]
  },
  {
   "cell_type": "code",
   "execution_count": 53,
   "id": "82f06cc3-d7bf-4761-8628-dc0f74cfcfd4",
   "metadata": {
    "execution": {
     "iopub.execute_input": "2025-06-11T12:55:14.879949Z",
     "iopub.status.busy": "2025-06-11T12:55:14.878996Z",
     "iopub.status.idle": "2025-06-11T12:55:14.886190Z",
     "shell.execute_reply": "2025-06-11T12:55:14.885147Z"
    }
   },
   "outputs": [],
   "source": [
    "#str(met.dt)"
   ]
  },
  {
   "cell_type": "code",
   "execution_count": 54,
   "id": "85be2f69-7f16-4834-8fb8-fc543e6fe9c9",
   "metadata": {
    "execution": {
     "iopub.execute_input": "2025-06-11T12:55:15.052924Z",
     "iopub.status.busy": "2025-06-11T12:55:15.052017Z",
     "iopub.status.idle": "2025-06-11T12:55:15.062142Z",
     "shell.execute_reply": "2025-06-11T12:55:15.061088Z"
    }
   },
   "outputs": [],
   "source": [
    "Freq.table<-as.data.frame(met.dt[,.(Freq=.N),by=key(met.dt)], stringsAsFactors=F)\n",
    "#Freq.table"
   ]
  },
  {
   "cell_type": "code",
   "execution_count": 55,
   "id": "09e269ee-7664-4ad6-950d-80c9e90ca958",
   "metadata": {
    "execution": {
     "iopub.execute_input": "2025-06-11T12:55:15.228608Z",
     "iopub.status.busy": "2025-06-11T12:55:15.227701Z",
     "iopub.status.idle": "2025-06-11T12:55:15.248292Z",
     "shell.execute_reply": "2025-06-11T12:55:15.247147Z"
    }
   },
   "outputs": [],
   "source": [
    "met.dt<-data.table(met, key=c(\"Assignation_GEX_not_amplified\",'time_point'))\n",
    "Freq.TOTAL<-as.data.frame(met.dt[,.(TOTAL=.N),by=key(met.dt)], stringsAsFactors=F)\n",
    "#Freq.TOTAL"
   ]
  },
  {
   "cell_type": "code",
   "execution_count": 56,
   "id": "c09a3ba0-4f07-4034-86fe-b720b0ee7838",
   "metadata": {
    "execution": {
     "iopub.execute_input": "2025-06-11T12:55:15.412570Z",
     "iopub.status.busy": "2025-06-11T12:55:15.411616Z",
     "iopub.status.idle": "2025-06-11T12:55:15.424252Z",
     "shell.execute_reply": "2025-06-11T12:55:15.423204Z"
    }
   },
   "outputs": [],
   "source": [
    "Freq.table<-merge(Freq.table,\n",
    "                  Freq.TOTAL,\n",
    "                  by=c(\"Assignation_GEX_not_amplified\",'time_point'))\n",
    "Freq.table$Perc<-round((100*(Freq.table$Freq/Freq.table$TOTAL)),2)\n",
    "\n",
    "#Freq.table"
   ]
  },
  {
   "cell_type": "code",
   "execution_count": 57,
   "id": "81a43608-f00d-43bf-84e5-cc6403a6af08",
   "metadata": {
    "execution": {
     "iopub.execute_input": "2025-06-11T12:55:15.579514Z",
     "iopub.status.busy": "2025-06-11T12:55:15.578495Z",
     "iopub.status.idle": "2025-06-11T12:55:15.590830Z",
     "shell.execute_reply": "2025-06-11T12:55:15.589761Z"
    }
   },
   "outputs": [
    {
     "name": "stdout",
     "output_type": "stream",
     "text": [
      "'data.frame':\t699 obs. of  6 variables:\n",
      " $ Assignation_GEX_not_amplified: Ord.factor w/ 11 levels \"chrGFP_WTA\"<\"chrGFP_WTB\"<..: 8 8 8 8 8 8 8 8 8 8 ...\n",
      " $ time_point                   : Ord.factor w/ 4 levels \"24_hours\"<\"48_hours\"<..: 1 1 1 1 1 1 1 1 1 1 ...\n",
      " $ seurat_clusters              : Factor w/ 19 levels \"1\",\"2\",\"3\",\"4\",..: 1 11 15 5 2 16 9 6 3 13 ...\n",
      " $ Freq                         : int  25 58 1 15 43 3 26 69 84 54 ...\n",
      " $ TOTAL                        : int  1157 1157 1157 1157 1157 1157 1157 1157 1157 1157 ...\n",
      " $ Perc                         : num  2.16 5.01 0.09 1.3 3.72 0.26 2.25 5.96 7.26 4.67 ...\n"
     ]
    }
   ],
   "source": [
    "str(Freq.table)"
   ]
  },
  {
   "cell_type": "code",
   "execution_count": 58,
   "id": "2d638d6e-811d-40a7-b420-dc00af41368d",
   "metadata": {
    "execution": {
     "iopub.execute_input": "2025-06-11T12:55:15.782452Z",
     "iopub.status.busy": "2025-06-11T12:55:15.781358Z",
     "iopub.status.idle": "2025-06-11T12:55:15.792203Z",
     "shell.execute_reply": "2025-06-11T12:55:15.791098Z"
    }
   },
   "outputs": [
    {
     "data": {
      "text/plain": [
       "   Min. 1st Qu.  Median    Mean 3rd Qu.    Max. \n",
       "      5     156     281    1099     505   12193 "
      ]
     },
     "metadata": {},
     "output_type": "display_data"
    }
   ],
   "source": [
    "summary(Freq.table$TOTAL)"
   ]
  },
  {
   "cell_type": "code",
   "execution_count": 59,
   "id": "c237859c-4f30-4f25-8db0-2da664cd4541",
   "metadata": {
    "execution": {
     "iopub.execute_input": "2025-06-11T12:55:15.946415Z",
     "iopub.status.busy": "2025-06-11T12:55:15.945284Z",
     "iopub.status.idle": "2025-06-11T12:55:15.969956Z",
     "shell.execute_reply": "2025-06-11T12:55:15.968629Z"
    }
   },
   "outputs": [],
   "source": [
    "met.dt<-data.table(met, key=c(\"Assignation_GEX_not_amplified\"))\n",
    "Freq.table_CT_annotation<-as.data.frame(met.dt[,.(Freq_genotypes=.N),by=key(met.dt)], stringsAsFactors=F)\n",
    "\n"
   ]
  },
  {
   "cell_type": "code",
   "execution_count": 60,
   "id": "97ffc0e4-45ce-4c63-83e5-a6deea0a1de9",
   "metadata": {
    "execution": {
     "iopub.execute_input": "2025-06-11T12:55:16.115610Z",
     "iopub.status.busy": "2025-06-11T12:55:16.114568Z",
     "iopub.status.idle": "2025-06-11T12:55:16.125384Z",
     "shell.execute_reply": "2025-06-11T12:55:16.124290Z"
    }
   },
   "outputs": [
    {
     "name": "stdout",
     "output_type": "stream",
     "text": [
      "'data.frame':\t12 obs. of  2 variables:\n",
      " $ Assignation_GEX_not_amplified: Ord.factor w/ 11 levels \"chrGFP_WTA\"<\"chrGFP_WTB\"<..: NA 1 2 3 4 5 6 7 8 9 ...\n",
      " $ Freq_genotypes               : int  31389 286 1254 1064 1840 700 559 42 2650 1423 ...\n"
     ]
    }
   ],
   "source": [
    "str(Freq.table_CT_annotation)"
   ]
  },
  {
   "cell_type": "code",
   "execution_count": 61,
   "id": "db46f9b2-1a45-411d-b8a3-ad62cc90e7af",
   "metadata": {
    "execution": {
     "iopub.execute_input": "2025-06-11T12:55:16.312444Z",
     "iopub.status.busy": "2025-06-11T12:55:16.311373Z",
     "iopub.status.idle": "2025-06-11T12:55:16.321769Z",
     "shell.execute_reply": "2025-06-11T12:55:16.320648Z"
    }
   },
   "outputs": [],
   "source": [
    "Freq.table<-merge(Freq.table,\n",
    "                  Freq.table_CT_annotation,\n",
    "                  by=c(\"Assignation_GEX_not_amplified\"))"
   ]
  },
  {
   "cell_type": "markdown",
   "id": "9a1b4a80-f7aa-4bba-a320-373256974cd1",
   "metadata": {},
   "source": [
    "### Filter x axis by frequency"
   ]
  },
  {
   "cell_type": "code",
   "execution_count": 62,
   "id": "6503eb8b-eea1-42c4-87ef-09b1f1c4c257",
   "metadata": {
    "execution": {
     "iopub.execute_input": "2025-06-11T12:55:16.702750Z",
     "iopub.status.busy": "2025-06-11T12:55:16.701715Z",
     "iopub.status.idle": "2025-06-11T12:55:16.716114Z",
     "shell.execute_reply": "2025-06-11T12:55:16.714976Z"
    }
   },
   "outputs": [
    {
     "name": "stdout",
     "output_type": "stream",
     "text": [
      "'data.frame':\t699 obs. of  7 variables:\n",
      " $ Assignation_GEX_not_amplified: Ord.factor w/ 11 levels \"chrGFP_WTA\"<\"chrGFP_WTB\"<..: 8 8 8 8 8 8 8 8 8 8 ...\n",
      " $ time_point                   : Ord.factor w/ 4 levels \"24_hours\"<\"48_hours\"<..: 1 1 1 1 1 1 1 1 1 1 ...\n",
      " $ seurat_clusters              : Factor w/ 19 levels \"1\",\"2\",\"3\",\"4\",..: 1 11 15 5 2 16 9 6 3 13 ...\n",
      " $ Freq                         : int  25 58 1 15 43 3 26 69 84 54 ...\n",
      " $ TOTAL                        : int  1157 1157 1157 1157 1157 1157 1157 1157 1157 1157 ...\n",
      " $ Perc                         : num  2.16 5.01 0.09 1.3 3.72 0.26 2.25 5.96 7.26 4.67 ...\n",
      " $ Freq_genotypes               : int  2650 2650 2650 2650 2650 2650 2650 2650 2650 2650 ...\n"
     ]
    }
   ],
   "source": [
    "Freq.table_filtered<-Freq.table#[which(Freq.table$TOTAL >= 100),]\n",
    "\n",
    "\n",
    "str(Freq.table_filtered)"
   ]
  },
  {
   "cell_type": "code",
   "execution_count": 63,
   "id": "14810a12-e795-40e3-a104-012034cc8877",
   "metadata": {
    "execution": {
     "iopub.execute_input": "2025-06-11T12:55:16.894333Z",
     "iopub.status.busy": "2025-06-11T12:55:16.893384Z",
     "iopub.status.idle": "2025-06-11T12:55:16.904630Z",
     "shell.execute_reply": "2025-06-11T12:55:16.903523Z"
    }
   },
   "outputs": [
    {
     "data": {
      "text/html": [
       "22"
      ],
      "text/latex": [
       "22"
      ],
      "text/markdown": [
       "22"
      ],
      "text/plain": [
       "[1] 22"
      ]
     },
     "metadata": {},
     "output_type": "display_data"
    }
   ],
   "source": [
    "vector_colors_seurat_clusters<-c(brewer.pal(9, \"Set1\"),brewer.pal(12, \"Set3\"),\"white\")\n",
    "\n",
    "\n",
    "length(vector_colors_seurat_clusters)"
   ]
  },
  {
   "cell_type": "code",
   "execution_count": 64,
   "id": "c57cb6ee-5010-4986-a0a1-e63983ee815a",
   "metadata": {
    "execution": {
     "iopub.execute_input": "2025-06-11T12:55:17.127978Z",
     "iopub.status.busy": "2025-06-11T12:55:17.127008Z",
     "iopub.status.idle": "2025-06-11T12:55:19.725903Z",
     "shell.execute_reply": "2025-06-11T12:55:19.724710Z"
    }
   },
   "outputs": [
    {
     "name": "stdout",
     "output_type": "stream",
     "text": [
      "-------------------------------------->\t0 25 50 75 100\n"
     ]
    },
    {
     "name": "stderr",
     "output_type": "stream",
     "text": [
      "Warning message:\n",
      "\"\u001b[1m\u001b[22mCombining variables of class <ordered> and <ordered> was deprecated in ggplot2 3.4.0.\n",
      "\u001b[36mℹ\u001b[39m Please ensure your variables are compatible before plotting (location: `join_keys()`)\"\n",
      "Warning message:\n",
      "\"\u001b[1m\u001b[22mCombining variables of class <ordered> and <factor> was deprecated in ggplot2 3.4.0.\n",
      "\u001b[36mℹ\u001b[39m Please ensure your variables are compatible before plotting (location: `join_keys()`)\"\n"
     ]
    },
    {
     "data": {
      "image/png": "[encoded data removed]",
      "text/plain": [
       "plot without title"
      ]
     },
     "metadata": {
      "image/png": {
       "height": 420,
       "width": 420
      }
     },
     "output_type": "display_data"
    }
   ],
   "source": [
    " #### Stacked Graph ---------------\n",
    "  \n",
    "  breaks.Rank<-(seq(0,100,by=25))\n",
    "  labels.Rank<-as.character(breaks.Rank)\n",
    "  \n",
    "  cat(\"-------------------------------------->\\t\")\n",
    "  cat(sprintf(as.character(labels.Rank)))\n",
    "  cat(\"\\n\")\n",
    "  \n",
    "  \n",
    "  stacked_barplot<- Freq.table_filtered %>%\n",
    "     mutate(myaxis = paste0(time_point,\" \",\"n=\", TOTAL), drop=T) %>%\n",
    "     mutate(myaxis=fct_reorder(myaxis,as.numeric(time_point)), drop=T) %>%\n",
    "        ggplot(aes(x=myaxis, y=Perc, fill=seurat_clusters)) +\n",
    "    geom_bar(stat=\"identity\",colour='white')+\n",
    "    scale_y_continuous(name=paste(\"Percentage of cells in each genotype\",sep=\" \"),breaks=breaks.Rank,labels=labels.Rank,\n",
    "                       limits=c(breaks.Rank[1],breaks.Rank[length(breaks.Rank)]+1))+\n",
    "    scale_fill_manual(values=vector_colors_seurat_clusters,\n",
    "                      drop=F,\n",
    "                      name=\"Alsinet model\")\n",
    "\n",
    "stacked_barplot<-stacked_barplot+\n",
    "    theme_cowplot(font_size = 2)+\n",
    "    facet_grid(. ~ Assignation_GEX_not_amplified+Freq_genotypes, scales='free_x', space='free_x', switch=\"y\")+   \n",
    "    scale_x_discrete(name=\"Seurat clusters\", drop=TRUE)+\n",
    "    theme( strip.background = element_blank(),\n",
    "           strip.placement = \"outside\",\n",
    "           strip.text = element_text(size=12),\n",
    "           panel.spacing = unit(0.2, \"lines\"),\n",
    "           panel.background=element_rect(fill=\"white\"),\n",
    "           panel.border=element_rect(colour=\"white\",size=0,5),\n",
    "           panel.grid.major = element_blank(),\n",
    "           panel.grid.minor = element_blank())+\n",
    "        theme_classic()+\n",
    "            theme(axis.title.y=element_text(size=12, color=\"black\", family=\"sans\"),\n",
    "                  axis.title.x=element_blank(),\n",
    "                  axis.text.y=element_text(angle=0,size=10, color=\"black\", family=\"sans\"),\n",
    "                  axis.text.x=element_text(angle=45,size=8,vjust=1,hjust=1,color=\"black\", family=\"sans\"),\n",
    "                  axis.line.x = element_line(size = 0.2),\n",
    "                  axis.ticks.x = element_line(size = 0.2),\n",
    "                  axis.ticks.y = element_line(size = 0.2),\n",
    "                  axis.line.y = element_line(size = 0.2))+\n",
    "            theme(legend.title = element_blank(),\n",
    "                  legend.text = element_text(size=12, color=\"black\", family=\"sans\"),\n",
    "                  legend.key.size = unit(0.5, 'cm'), #change legend key size\n",
    "                  legend.key.height = unit(0.5, 'cm'), #change legend key height\n",
    "                  legend.key.width = unit(0.5, 'cm'), #change legend key width\n",
    "                  legend.position=\"bottom\")+\n",
    "            guides(fill=guide_legend(nrow=2,byrow=TRUE))\n",
    "\n",
    "\n",
    "\n",
    "stacked_barplot\n",
    "  \n",
    "\n",
    "\n",
    "\n",
    "\n",
    "  "
   ]
  },
  {
   "cell_type": "code",
   "execution_count": 65,
   "id": "c1e07f2b-7891-42cf-b62c-31d17ee0fc4d",
   "metadata": {
    "execution": {
     "iopub.execute_input": "2025-06-11T12:55:19.728612Z",
     "iopub.status.busy": "2025-06-11T12:55:19.727649Z",
     "iopub.status.idle": "2025-06-11T12:55:20.603703Z",
     "shell.execute_reply": "2025-06-11T12:55:20.602391Z"
    }
   },
   "outputs": [],
   "source": [
    "setwd(path_graphs)\n",
    "\n",
    "svgname<-paste(\"Stacked_barplot_genotyped_plus_NA_vs_cluster_and_time_point_OTHER\",\".svg\",sep='')\n",
    "makesvg = TRUE\n",
    "\n",
    "if (makesvg == TRUE)\n",
    "{\n",
    "  ggsave(svgname, plot= stacked_barplot,\n",
    "         device=\"svg\", width =13, height = 13)\n",
    "}"
   ]
  },
  {
   "cell_type": "markdown",
   "id": "2f106899-589a-4e0e-8ace-cd05133fe162",
   "metadata": {},
   "source": [
    "# Save the genotyped object"
   ]
  },
  {
   "cell_type": "code",
   "execution_count": 67,
   "id": "5fa7554e-f3c3-4419-8e8f-fb1aea4e7f7a",
   "metadata": {
    "execution": {
     "iopub.execute_input": "2025-06-11T12:55:35.096265Z",
     "iopub.status.busy": "2025-06-11T12:55:35.095186Z",
     "iopub.status.idle": "2025-06-11T12:55:35.104125Z",
     "shell.execute_reply": "2025-06-11T12:55:35.103016Z"
    },
    "vscode": {
     "languageId": "r"
    }
   },
   "outputs": [],
   "source": [
    "setwd(\"/group/soranzo/manuel.tardaguila/2025_K562_multiome_reanalysis/processing_outputs_Paola_genotype/\")"
   ]
  },
  {
   "cell_type": "code",
   "execution_count": 68,
   "id": "180885fe-f93c-4cac-a9d8-3479b37ca3e7",
   "metadata": {
    "execution": {
     "iopub.execute_input": "2025-06-11T12:55:37.092703Z",
     "iopub.status.busy": "2025-06-11T12:55:37.091598Z",
     "iopub.status.idle": "2025-06-11T13:26:18.934826Z",
     "shell.execute_reply": "2025-06-11T13:26:18.933183Z"
    },
    "vscode": {
     "languageId": "r"
    }
   },
   "outputs": [],
   "source": [
    "saveRDS(adata, file=\"merged_unprocessed_db_filt_clustered_QCed_reclustered_genotyped.rds\")"
   ]
  },
  {
   "cell_type": "code",
   "execution_count": 69,
   "id": "b71bf0aa-7812-46c2-abce-f8caee075425",
   "metadata": {
    "execution": {
     "iopub.execute_input": "2025-06-11T13:26:18.938081Z",
     "iopub.status.busy": "2025-06-11T13:26:18.936990Z",
     "iopub.status.idle": "2025-06-11T13:26:19.038562Z",
     "shell.execute_reply": "2025-06-11T13:26:19.037333Z"
    }
   },
   "outputs": [
    {
     "data": {
      "text/html": [
       "<style>\n",
       ".list-inline {list-style: none; margin:0; padding: 0}\n",
       ".list-inline>li {display: inline-block}\n",
       ".list-inline>li:not(:last-child)::after {content: \"\\00b7\"; padding: 0 .5ex}\n",
       "</style>\n",
       "<ol class=list-inline><li>'orig.ident'</li><li>'nCount_RNA'</li><li>'nFeature_RNA'</li><li>'percent.mt'</li><li>'nCount_RNA_raw'</li><li>'nFeature_RNA_raw'</li><li>'nCount_ATAC'</li><li>'nFeature_ATAC'</li><li>'gex_raw_reads'</li><li>'gex_mapped_reads'</li><li>'gex_conf_intergenic_reads'</li><li>'gex_conf_exonic_reads'</li><li>'gex_conf_intronic_reads'</li><li>'gex_conf_exonic_unique_reads'</li><li>'gex_conf_exonic_antisense_reads'</li><li>'gex_conf_exonic_dup_reads'</li><li>'gex_exonic_umis'</li><li>'gex_conf_intronic_unique_reads'</li><li>'gex_conf_intronic_antisense_reads'</li><li>'gex_conf_intronic_dup_reads'</li><li>'gex_intronic_umis'</li><li>'gex_conf_txomic_unique_reads'</li><li>'gex_umis_count'</li><li>'gex_genes_count'</li><li>'atac_raw_reads'</li><li>'atac_unmapped_reads'</li><li>'atac_lowmapq'</li><li>'atac_dup_reads'</li><li>'atac_chimeric_reads'</li><li>'atac_mitochondrial_reads'</li><li>'atac_fragments'</li><li>'atac_TSS_fragments'</li><li>'atac_peak_region_fragments'</li><li>'atac_peak_region_cutsites'</li><li>'TSS.enrichment'</li><li>'TSS.percentile'</li><li>'scDblFinder.class'</li><li>'scDblFinder.score'</li><li>'scDblFinder.weighted'</li><li>'scDblFinder.cxds_score'</li><li>'scDblFinder.class_atac'</li><li>'scDblFinder.score_atac'</li><li>'scDblFinder.weighted_atac'</li><li>'scDblFinder.cxds_score_atac'</li><li>'DBL_comb'</li><li>'amulet_nFrags'</li><li>'amulet_uniqFrags'</li><li>'amulet_nAbove2'</li><li>'amulet_total.nAbove2'</li><li>'amulet_p.value'</li><li>'amulet_q.value'</li><li>'doublet_amulet'</li><li>'Diff'</li><li>'doublet'</li><li>'nCount_SCT'</li><li>'nFeature_SCT'</li><li>'SCT.weight'</li><li>'ATAC.weight'</li><li>'wsnn_res.2'</li><li>'seurat_clusters'</li><li>'wsnn_res.0.5'</li><li>'Assignation_GEX_not_amplified'</li><li>'time_point'</li></ol>\n"
      ],
      "text/latex": [
       "\\begin{enumerate*}\n",
       "\\item 'orig.ident'\n",
       "\\item 'nCount\\_RNA'\n",
       "\\item 'nFeature\\_RNA'\n",
       "\\item 'percent.mt'\n",
       "\\item 'nCount\\_RNA\\_raw'\n",
       "\\item 'nFeature\\_RNA\\_raw'\n",
       "\\item 'nCount\\_ATAC'\n",
       "\\item 'nFeature\\_ATAC'\n",
       "\\item 'gex\\_raw\\_reads'\n",
       "\\item 'gex\\_mapped\\_reads'\n",
       "\\item 'gex\\_conf\\_intergenic\\_reads'\n",
       "\\item 'gex\\_conf\\_exonic\\_reads'\n",
       "\\item 'gex\\_conf\\_intronic\\_reads'\n",
       "\\item 'gex\\_conf\\_exonic\\_unique\\_reads'\n",
       "\\item 'gex\\_conf\\_exonic\\_antisense\\_reads'\n",
       "\\item 'gex\\_conf\\_exonic\\_dup\\_reads'\n",
       "\\item 'gex\\_exonic\\_umis'\n",
       "\\item 'gex\\_conf\\_intronic\\_unique\\_reads'\n",
       "\\item 'gex\\_conf\\_intronic\\_antisense\\_reads'\n",
       "\\item 'gex\\_conf\\_intronic\\_dup\\_reads'\n",
       "\\item 'gex\\_intronic\\_umis'\n",
       "\\item 'gex\\_conf\\_txomic\\_unique\\_reads'\n",
       "\\item 'gex\\_umis\\_count'\n",
       "\\item 'gex\\_genes\\_count'\n",
       "\\item 'atac\\_raw\\_reads'\n",
       "\\item 'atac\\_unmapped\\_reads'\n",
       "\\item 'atac\\_lowmapq'\n",
       "\\item 'atac\\_dup\\_reads'\n",
       "\\item 'atac\\_chimeric\\_reads'\n",
       "\\item 'atac\\_mitochondrial\\_reads'\n",
       "\\item 'atac\\_fragments'\n",
       "\\item 'atac\\_TSS\\_fragments'\n",
       "\\item 'atac\\_peak\\_region\\_fragments'\n",
       "\\item 'atac\\_peak\\_region\\_cutsites'\n",
       "\\item 'TSS.enrichment'\n",
       "\\item 'TSS.percentile'\n",
       "\\item 'scDblFinder.class'\n",
       "\\item 'scDblFinder.score'\n",
       "\\item 'scDblFinder.weighted'\n",
       "\\item 'scDblFinder.cxds\\_score'\n",
       "\\item 'scDblFinder.class\\_atac'\n",
       "\\item 'scDblFinder.score\\_atac'\n",
       "\\item 'scDblFinder.weighted\\_atac'\n",
       "\\item 'scDblFinder.cxds\\_score\\_atac'\n",
       "\\item 'DBL\\_comb'\n",
       "\\item 'amulet\\_nFrags'\n",
       "\\item 'amulet\\_uniqFrags'\n",
       "\\item 'amulet\\_nAbove2'\n",
       "\\item 'amulet\\_total.nAbove2'\n",
       "\\item 'amulet\\_p.value'\n",
       "\\item 'amulet\\_q.value'\n",
       "\\item 'doublet\\_amulet'\n",
       "\\item 'Diff'\n",
       "\\item 'doublet'\n",
       "\\item 'nCount\\_SCT'\n",
       "\\item 'nFeature\\_SCT'\n",
       "\\item 'SCT.weight'\n",
       "\\item 'ATAC.weight'\n",
       "\\item 'wsnn\\_res.2'\n",
       "\\item 'seurat\\_clusters'\n",
       "\\item 'wsnn\\_res.0.5'\n",
       "\\item 'Assignation\\_GEX\\_not\\_amplified'\n",
       "\\item 'time\\_point'\n",
       "\\end{enumerate*}\n"
      ],
      "text/markdown": [
       "1. 'orig.ident'\n",
       "2. 'nCount_RNA'\n",
       "3. 'nFeature_RNA'\n",
       "4. 'percent.mt'\n",
       "5. 'nCount_RNA_raw'\n",
       "6. 'nFeature_RNA_raw'\n",
       "7. 'nCount_ATAC'\n",
       "8. 'nFeature_ATAC'\n",
       "9. 'gex_raw_reads'\n",
       "10. 'gex_mapped_reads'\n",
       "11. 'gex_conf_intergenic_reads'\n",
       "12. 'gex_conf_exonic_reads'\n",
       "13. 'gex_conf_intronic_reads'\n",
       "14. 'gex_conf_exonic_unique_reads'\n",
       "15. 'gex_conf_exonic_antisense_reads'\n",
       "16. 'gex_conf_exonic_dup_reads'\n",
       "17. 'gex_exonic_umis'\n",
       "18. 'gex_conf_intronic_unique_reads'\n",
       "19. 'gex_conf_intronic_antisense_reads'\n",
       "20. 'gex_conf_intronic_dup_reads'\n",
       "21. 'gex_intronic_umis'\n",
       "22. 'gex_conf_txomic_unique_reads'\n",
       "23. 'gex_umis_count'\n",
       "24. 'gex_genes_count'\n",
       "25. 'atac_raw_reads'\n",
       "26. 'atac_unmapped_reads'\n",
       "27. 'atac_lowmapq'\n",
       "28. 'atac_dup_reads'\n",
       "29. 'atac_chimeric_reads'\n",
       "30. 'atac_mitochondrial_reads'\n",
       "31. 'atac_fragments'\n",
       "32. 'atac_TSS_fragments'\n",
       "33. 'atac_peak_region_fragments'\n",
       "34. 'atac_peak_region_cutsites'\n",
       "35. 'TSS.enrichment'\n",
       "36. 'TSS.percentile'\n",
       "37. 'scDblFinder.class'\n",
       "38. 'scDblFinder.score'\n",
       "39. 'scDblFinder.weighted'\n",
       "40. 'scDblFinder.cxds_score'\n",
       "41. 'scDblFinder.class_atac'\n",
       "42. 'scDblFinder.score_atac'\n",
       "43. 'scDblFinder.weighted_atac'\n",
       "44. 'scDblFinder.cxds_score_atac'\n",
       "45. 'DBL_comb'\n",
       "46. 'amulet_nFrags'\n",
       "47. 'amulet_uniqFrags'\n",
       "48. 'amulet_nAbove2'\n",
       "49. 'amulet_total.nAbove2'\n",
       "50. 'amulet_p.value'\n",
       "51. 'amulet_q.value'\n",
       "52. 'doublet_amulet'\n",
       "53. 'Diff'\n",
       "54. 'doublet'\n",
       "55. 'nCount_SCT'\n",
       "56. 'nFeature_SCT'\n",
       "57. 'SCT.weight'\n",
       "58. 'ATAC.weight'\n",
       "59. 'wsnn_res.2'\n",
       "60. 'seurat_clusters'\n",
       "61. 'wsnn_res.0.5'\n",
       "62. 'Assignation_GEX_not_amplified'\n",
       "63. 'time_point'\n",
       "\n",
       "\n"
      ],
      "text/plain": [
       " [1] \"orig.ident\"                        \"nCount_RNA\"                       \n",
       " [3] \"nFeature_RNA\"                      \"percent.mt\"                       \n",
       " [5] \"nCount_RNA_raw\"                    \"nFeature_RNA_raw\"                 \n",
       " [7] \"nCount_ATAC\"                       \"nFeature_ATAC\"                    \n",
       " [9] \"gex_raw_reads\"                     \"gex_mapped_reads\"                 \n",
       "[11] \"gex_conf_intergenic_reads\"         \"gex_conf_exonic_reads\"            \n",
       "[13] \"gex_conf_intronic_reads\"           \"gex_conf_exonic_unique_reads\"     \n",
       "[15] \"gex_conf_exonic_antisense_reads\"   \"gex_conf_exonic_dup_reads\"        \n",
       "[17] \"gex_exonic_umis\"                   \"gex_conf_intronic_unique_reads\"   \n",
       "[19] \"gex_conf_intronic_antisense_reads\" \"gex_conf_intronic_dup_reads\"      \n",
       "[21] \"gex_intronic_umis\"                 \"gex_conf_txomic_unique_reads\"     \n",
       "[23] \"gex_umis_count\"                    \"gex_genes_count\"                  \n",
       "[25] \"atac_raw_reads\"                    \"atac_unmapped_reads\"              \n",
       "[27] \"atac_lowmapq\"                      \"atac_dup_reads\"                   \n",
       "[29] \"atac_chimeric_reads\"               \"atac_mitochondrial_reads\"         \n",
       "[31] \"atac_fragments\"                    \"atac_TSS_fragments\"               \n",
       "[33] \"atac_peak_region_fragments\"        \"atac_peak_region_cutsites\"        \n",
       "[35] \"TSS.enrichment\"                    \"TSS.percentile\"                   \n",
       "[37] \"scDblFinder.class\"                 \"scDblFinder.score\"                \n",
       "[39] \"scDblFinder.weighted\"              \"scDblFinder.cxds_score\"           \n",
       "[41] \"scDblFinder.class_atac\"            \"scDblFinder.score_atac\"           \n",
       "[43] \"scDblFinder.weighted_atac\"         \"scDblFinder.cxds_score_atac\"      \n",
       "[45] \"DBL_comb\"                          \"amulet_nFrags\"                    \n",
       "[47] \"amulet_uniqFrags\"                  \"amulet_nAbove2\"                   \n",
       "[49] \"amulet_total.nAbove2\"              \"amulet_p.value\"                   \n",
       "[51] \"amulet_q.value\"                    \"doublet_amulet\"                   \n",
       "[53] \"Diff\"                              \"doublet\"                          \n",
       "[55] \"nCount_SCT\"                        \"nFeature_SCT\"                     \n",
       "[57] \"SCT.weight\"                        \"ATAC.weight\"                      \n",
       "[59] \"wsnn_res.2\"                        \"seurat_clusters\"                  \n",
       "[61] \"wsnn_res.0.5\"                      \"Assignation_GEX_not_amplified\"    \n",
       "[63] \"time_point\"                       "
      ]
     },
     "metadata": {},
     "output_type": "display_data"
    }
   ],
   "source": [
    "colnames(adata@meta.data)"
   ]
  },
  {
   "cell_type": "raw",
   "id": "3128294a-fd1e-4cbe-aeff-18c5ebbb98a2",
   "metadata": {
    "execution": {
     "iopub.execute_input": "2025-06-09T10:10:16.872356Z",
     "iopub.status.busy": "2025-06-09T10:10:16.870811Z",
     "iopub.status.idle": "2025-06-09T10:10:31.015643Z",
     "shell.execute_reply": "2025-06-09T10:10:31.014172Z"
    }
   },
   "source": [
    "adata_sub<-subset(adata, Assignation_GEX_not_amplified != \"NA\")\n",
    "\n",
    "adata_sub"
   ]
  },
  {
   "cell_type": "raw",
   "id": "6b18f548-6d2f-4a54-8402-64f896fc542e",
   "metadata": {
    "execution": {
     "iopub.execute_input": "2025-06-09T10:22:01.093852Z",
     "iopub.status.busy": "2025-06-09T10:22:01.092241Z",
     "iopub.status.idle": "2025-06-09T10:22:01.113651Z",
     "shell.execute_reply": "2025-06-09T10:22:01.110356Z"
    }
   },
   "source": [
    "colnames(adata_sub@meta.data)"
   ]
  },
  {
   "cell_type": "raw",
   "id": "eca30c0c-71d3-4b49-a003-1d2382b0aa6a",
   "metadata": {
    "execution": {
     "iopub.execute_input": "2025-06-09T10:25:49.027290Z",
     "iopub.status.busy": "2025-06-09T10:25:49.024530Z",
     "iopub.status.idle": "2025-06-09T10:25:49.042118Z",
     "shell.execute_reply": "2025-06-09T10:25:49.040458Z"
    }
   },
   "source": [
    "log_info_simple <- function(message) {\n",
    "  timestamp <- format(Sys.time(), \"[%Y-%m-%d %H:%M:%S]\")\n",
    "  cat(timestamp, \"INFO:\", message, \"\\n\")\n",
    "}"
   ]
  },
  {
   "cell_type": "raw",
   "id": "2264332d-10c7-47ca-bdaf-868572a66077",
   "metadata": {
    "execution": {
     "iopub.execute_input": "2025-06-09T10:25:59.645223Z",
     "iopub.status.busy": "2025-06-09T10:25:59.644032Z",
     "iopub.status.idle": "2025-06-09T10:25:59.655574Z",
     "shell.execute_reply": "2025-06-09T10:25:59.654326Z"
    }
   },
   "source": [
    "log_info_simple(\"Hello world\")"
   ]
  },
  {
   "cell_type": "raw",
   "id": "8ba24c28-443d-4086-9788-4edc26baf182",
   "metadata": {},
   "source": []
  }
 ],
 "metadata": {
  "kernelspec": {
   "display_name": "R [conda env:multiome_QC_DEF]",
   "language": "R",
   "name": "conda-env-multiome_QC_DEF-r"
  },
  "language_info": {
   "codemirror_mode": "r",
   "file_extension": ".r",
   "mimetype": "text/x-r-source",
   "name": "R",
   "pygments_lexer": "r",
   "version": "4.3.1"
  }
 },
 "nbformat": 4,
 "nbformat_minor": 5
}
